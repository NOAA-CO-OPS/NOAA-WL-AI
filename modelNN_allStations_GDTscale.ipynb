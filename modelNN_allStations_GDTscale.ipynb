{
 "cells": [
  {
   "cell_type": "markdown",
   "metadata": {},
   "source": [
    "This is the primary notebook used when performing the initial model development and testing for the 5 test stations (AC, Cape May, Lewes, Portland and Boston)  Model examples using a range of NN and other ML approaches (logistic regression, random forest, gradient boosting).\n",
    "\n",
    "This notebook should not be edited after 3/20/2020 - instead, future development should start with a clean notebook."
   ]
  },
  {
   "cell_type": "code",
   "execution_count": 1,
   "metadata": {},
   "outputs": [
    {
     "ename": "ModuleNotFoundError",
     "evalue": "No module named 'dill'",
     "output_type": "error",
     "traceback": [
      "\u001b[0;31m---------------------------------------------------------------------------\u001b[0m",
      "\u001b[0;31mModuleNotFoundError\u001b[0m                       Traceback (most recent call last)",
      "\u001b[0;32m<ipython-input-1-81adce1a50f5>\u001b[0m in \u001b[0;36m<module>\u001b[0;34m\u001b[0m\n\u001b[1;32m      9\u001b[0m \u001b[0;32mimport\u001b[0m \u001b[0mnumpy\u001b[0m \u001b[0;32mas\u001b[0m \u001b[0mnp\u001b[0m\u001b[0;34m\u001b[0m\u001b[0;34m\u001b[0m\u001b[0m\n\u001b[1;32m     10\u001b[0m \u001b[0;32mimport\u001b[0m \u001b[0mitertools\u001b[0m\u001b[0;34m\u001b[0m\u001b[0;34m\u001b[0m\u001b[0m\n\u001b[0;32m---> 11\u001b[0;31m \u001b[0;32mimport\u001b[0m \u001b[0mdill\u001b[0m\u001b[0;34m\u001b[0m\u001b[0;34m\u001b[0m\u001b[0m\n\u001b[0m\u001b[1;32m     12\u001b[0m \u001b[0;32mimport\u001b[0m \u001b[0mpickle\u001b[0m\u001b[0;34m\u001b[0m\u001b[0;34m\u001b[0m\u001b[0m\n\u001b[1;32m     13\u001b[0m \u001b[0;32mfrom\u001b[0m \u001b[0mscipy\u001b[0m \u001b[0;32mimport\u001b[0m \u001b[0mio\u001b[0m\u001b[0;34m\u001b[0m\u001b[0;34m\u001b[0m\u001b[0m\n",
      "\u001b[0;31mModuleNotFoundError\u001b[0m: No module named 'dill'"
     ]
    }
   ],
   "source": [
    "%matplotlib inline\n",
    "\n",
    "import os\n",
    "from pathlib import Path\n",
    "import pandas as pd\n",
    "import datetime\n",
    "import matplotlib.pyplot as plt\n",
    "import matplotlib\n",
    "import numpy as np\n",
    "import itertools\n",
    "import dill\n",
    "import pickle\n",
    "from scipy import io\n",
    "from scipy.signal import detrend as detrend\n",
    "from sklearn.utils import shuffle\n",
    "from sklearn import preprocessing\n",
    "from sklearn.metrics import confusion_matrix\n",
    "from sklearn.metrics import brier_score_loss\n",
    "from sklearn.metrics import roc_auc_score as roc\n",
    "from sklearn.metrics import roc_curve\n",
    "from keras.models import Sequential\n",
    "from keras.layers import Dense, Activation, Dropout\n",
    "from keras import regularizers\n",
    "from keras.models import load_model\n",
    "from keras.callbacks import ModelCheckpoint\n",
    "#My helper functions\n",
    "from modelNN_functions import assessTrainTestData\n",
    "from modelNN_functions import plotConfusionMatrix\n",
    "from modelNN_functions import pandasToMat"
   ]
  },
  {
   "cell_type": "code",
   "execution_count": 2,
   "metadata": {},
   "outputs": [],
   "source": [
    "dill.load_session('notebook_modelNN_allStations_GDT.db')\n",
    "#dill.dump_session('notebook_modelNN_allStations_GDT.db')"
   ]
  },
  {
   "cell_type": "code",
   "execution_count": 102,
   "metadata": {},
   "outputs": [],
   "source": [
    "# Function to calculate the Brier Skill Score\n",
    "def BSS(targetTrain, modelPrediction, observed):\n",
    "    \n",
    "    bs=np.mean([modelPrediction-observed]**2)\n",
    "\n",
    "    #Calculate the BSS\n",
    "    climate=np.mean(targetTrain)\n",
    "\n",
    "    climForecast=np.ones(np.shape(observed)) * climate\n",
    "\n",
    "    bsClimate=np.mean((climForecast-observed)**2)\n",
    "\n",
    "    bssOut=1-(bs/bsClimate)\n",
    "    \n",
    "    return bssOut\n"
   ]
  },
  {
   "cell_type": "markdown",
   "metadata": {},
   "source": [
    "This is function to combine the steps of setting up, fitting and evaluating our NN model"
   ]
  },
  {
   "cell_type": "code",
   "execution_count": 83,
   "metadata": {},
   "outputs": [],
   "source": [
    "def runNNmodel(featureTrain, targetTrain, featureTest, targetTest, predictFeatures, predictTargets, \n",
    "               epochCount, batchCount, classThreshold, numFeatures):\n",
    "\n",
    "    \"\"\"\n",
    "    where: \n",
    "        featureTrain = features used in training the model\n",
    "        targetTrain = targets (0 or 1) used in training the model\n",
    "        featureTest = features used for validation\n",
    "        targetTest = targets (0 or 1) used for valdation\n",
    "        predictFeatures = the features for the model predictions\n",
    "        predictTargets = the targets for the model predictions\n",
    "        epochCount = number of training cycles to use for NN model (10-20 seems reasonable)\n",
    "        batchCount = the batch size to use when training (somewhere from 32-256 seems reasonable)\n",
    "        classThreshold = the threshold from 0 to 1 used to classify a point as good or bad (default is 0.5)\n",
    "        numFeatures = the number of input features in the NN model\n",
    "    \"\"\"\n",
    "\n",
    "    #First define the keras NN framework to be used\n",
    "    # For a single-input model with 2 classes (binary classification):\n",
    "    model = Sequential()\n",
    "    #model.add(Dense(16, kernel_regularizer=regularizers.l2(0.001), activation='relu', input_dim=numFeatures))\n",
    "    model.add(Dense(32, activation='relu', input_dim=numFeatures))\n",
    "    #model.add(Dropout(0.25))\n",
    "    #model.add(Dense(16, kernel_regularizer=regularizers.l2(0.001), activation='relu'))\n",
    "    model.add(Dense(32, activation='relu', input_dim=numFeatures))\n",
    "    #model.add(Dropout(0.25))\n",
    "    model.add(Dense(1, activation='sigmoid'))\n",
    "    model.compile(optimizer='adam',\n",
    "                  loss='binary_crossentropy',\n",
    "                  metrics=['accuracy'])\n",
    "    \n",
    "    #Set up the model checkpoint\n",
    "    # checkpoint\n",
    "    filepath=\"model_best.hdf5\"\n",
    "    checkpoint = ModelCheckpoint(filepath, monitor='val_loss', verbose=0, save_best_only=True, mode='min')\n",
    "    callbacks_list = [checkpoint]\n",
    "    \n",
    "    # Train the model, iterating on the data in batches of X # samples (somewhere between 32 - 256)\n",
    "    history = model.fit(featureTrain, targetTrain, epochs=epochCount, batch_size=batchCount, validation_data=(featureTest, targetTest), callbacks=callbacks_list)\n",
    "    \n",
    "    #Evaulate the model\n",
    "    eval_model=model.evaluate(featureTest, targetTest)\n",
    "    eval_model\n",
    "    \n",
    "    #Plot the NN accuracy over each epoch\n",
    "    fig, ax = plt.subplots()\n",
    "    ax.plot(history.history['loss'])\n",
    "    ax.plot(history.history['val_loss'])\n",
    "    ax.legend(['Training','Validation'])\n",
    "    plt.show()\n",
    "    #fig.savefig('NN_modelTrainingHistory.png')\n",
    "    \n",
    "    #Generate predictions for the test period\n",
    "    modelPrediction = model.predict(featureTest, batch_size=32)\n",
    "\n",
    "    #And now use the threhsold to decide y or n\n",
    "    modelPredThresh=1*(modelPrediction >= classThreshold)\n",
    "\n",
    "    # Compute confusion matrix\n",
    "    cnfMatrix = confusion_matrix(targetTest, modelPredThresh)\n",
    "    np.set_printoptions(precision=2)\n",
    "\n",
    "    # Plot normalized confusion matrix\n",
    "    classNames = ['bad data point','good data point']\n",
    "    plotConfusionMatrix(cnfMatrix, classes=classNames,normalize=True,\n",
    "                      title='Confusion matrix, with normalization')\n",
    "    plt.show()\n",
    "    \n",
    "    #Generate model predictions for the validation period\n",
    "    modelPrediction = model.predict(predictFeatures, batch_size=32)\n",
    "    #Generate the y/n prediction given the above model threshold value (right now = 0.9)\n",
    "    modelPredThresh=1*(modelPrediction >= classThreshold)\n",
    "    \n",
    "    modelOut = pd.DataFrame()\n",
    "    modelOut['primary'] = predictFeatures['primary']\n",
    "    modelOut['modelPrediction']=modelPrediction\n",
    "    modelOut['InvModelPrediction']=1-modelPrediction\n",
    "    modelOut['goodPtsPrediction']=modelPredThresh\n",
    "    modelOut['targets'] = predictTargets['targets']\n",
    "    \n",
    "    return modelOut, model\n"
   ]
  },
  {
   "cell_type": "markdown",
   "metadata": {},
   "source": [
    "Read in the data from the files and do some initial prep"
   ]
  },
  {
   "cell_type": "code",
   "execution_count": 64,
   "metadata": {},
   "outputs": [],
   "source": [
    "#cleaned = pd.read_pickle(Path(\"pickle_files/8536110_cm_raw_ver_merged_wl_Cleaned\"))\n",
    "#cleaned = pd.read_pickle(Path(\"pickle_files/8557380_lewes_raw_ver_merged_wl_Cleaned\"))\n",
    "#cleaned = pd.read_pickle(Path(\"pickle_files/8534720_ac_raw_ver_merged_wl_Cleaned\"))\n",
    "#cleaned = pd.read_pickle(Path(\"pickle_files/8443970_boston_raw_ver_merged_wl_Cleaned\"))\n",
    "cleaned = pd.read_pickle(Path(\"pickle_files/8418150_portland_raw_ver_merged_wl_Cleaned\"))\n",
    "\n",
    "#cleaned.head()"
   ]
  },
  {
   "cell_type": "code",
   "execution_count": 65,
   "metadata": {},
   "outputs": [],
   "source": [
    "# Trying to modify the scaling to use the GDT range as the scaling factor to see if this helps (and also NOT scaling residual)\n",
    "#Scaling - trying scaling by the Great Diurnal range, and NOT scaling residual.  The residual is fairly normally distributed about 0 and the observed and predicted values run pretty consistently \n",
    "#between -1 and 1 when scaled the GDT range (thought about using the 1/5 range - .\n",
    "\n",
    "CapeMayRange= 1.659\n",
    "LewesRange = 1.418\n",
    "ACRange = 1.403\n",
    "BostonRange = 3.131\n",
    "PortlandRange = 3.019\n",
    "\n",
    "\n",
    "GDTrange = PortlandRange"
   ]
  },
  {
   "cell_type": "code",
   "execution_count": 66,
   "metadata": {},
   "outputs": [],
   "source": [
    "#IMPT if you run this cell twice it will mess up since I am replacing all the NaNs (e.g. the next time through will have none)\n",
    "\n",
    "primaryTrue = cleaned['primary'].notnull()\n",
    "cleaned['primaryTrue'] = primaryTrue * 1\n",
    "\n",
    "sigmaTrue = cleaned['sigma'].notnull()\n",
    "cleaned['sigmaTrue'] = sigmaTrue * 1\n",
    "\n",
    "backupTrue = cleaned['backup'].notnull()\n",
    "cleaned['backupTrue'] = backupTrue * 1\n",
    "\n",
    "\n",
    "cleaned['primary'].fillna(value=0, inplace = True)\n",
    "cleaned['sigma'].fillna(value=0, inplace = True)\n",
    "cleaned['backup'].fillna(value=0, inplace = True)\n",
    "cleaned['residual'].fillna(value=0, inplace = True)"
   ]
  },
  {
   "cell_type": "code",
   "execution_count": 67,
   "metadata": {},
   "outputs": [],
   "source": [
    "cleaned['primary'] = cleaned['primary'].mask(cleaned['primary'] >5, 5)\n",
    "cleaned['primary'] = cleaned['primary'].mask(cleaned['primary'] < -5, -5)\n",
    "\n",
    "cleaned['backup'] = cleaned['backup'].mask(cleaned['backup'] >5, 5)\n",
    "cleaned['backup'] = cleaned['backup'].mask(cleaned['backup'] < -5, -5)\n",
    "\n",
    "cleaned['residual'] = cleaned['residual'].mask(cleaned['residual'] >5, 5)\n",
    "cleaned['residual'] = cleaned['residual'].mask(cleaned['residual'] < -5, -5)\n",
    "\n",
    "cleaned['sigma'] = cleaned['sigma'].mask(cleaned['sigma'] > 1, 1)\n",
    "cleaned['sigma'] = cleaned['sigma'].mask(cleaned['sigma'] < 0, 0)"
   ]
  },
  {
   "cell_type": "code",
   "execution_count": 68,
   "metadata": {},
   "outputs": [],
   "source": [
    "#Now create a previous 6 minute value and following 6 minute value of the primary (and boolean) and the residual (and boolean)\n",
    "cleaned['primaryPrev6']=cleaned['primary'].shift(periods = 1)\n",
    "cleaned['primaryTruePrev6']=cleaned['primaryTrue'].shift(periods = 1)\n",
    "cleaned['residualPrev6']=cleaned['residual'].shift(periods = 1)\n",
    "\n",
    "cleaned['primaryNext6']=cleaned['primary'].shift(periods = -1)\n",
    "cleaned['primaryTrueNext6']=cleaned['primaryTrue'].shift(periods = -1)\n",
    "cleaned['residualNext6']=cleaned['residual'].shift(periods = -1)\n",
    "\n",
    "#And try grabbing the previous 12 hours of residual and calculating the # of missing data, mean and std as inputs\n",
    "cleaned['dataCountPrev12h']= (cleaned['primaryTrue'].rolling('12H').sum() / 120)\n",
    "cleaned['residualMeanPrev12h']= cleaned['residual'][cleaned['primaryTrue'] == 1].rolling('12H').mean() \n",
    "cleaned['residualStdPrev12h'] = cleaned['residual'][cleaned['primaryTrue'] == 1].rolling('12H').std() \n",
    "\n",
    "#And drop the first and last 12h (120 points)\n",
    "cleaned.drop(cleaned.head(120).index, inplace=True)\n",
    "cleaned.drop(cleaned.tail(120).index, inplace=True)\n",
    "\n",
    "#And drop all the rows where the primaryTrue and verifed = 0 (since we already know these are bad, as they are missing)\n",
    "cleaned = cleaned[cleaned.primaryTrue == 1]\n",
    "cleaned = cleaned.dropna()"
   ]
  },
  {
   "cell_type": "code",
   "execution_count": 69,
   "metadata": {},
   "outputs": [
    {
     "data": {
      "text/html": [
       "<div>\n",
       "<style scoped>\n",
       "    .dataframe tbody tr th:only-of-type {\n",
       "        vertical-align: middle;\n",
       "    }\n",
       "\n",
       "    .dataframe tbody tr th {\n",
       "        vertical-align: top;\n",
       "    }\n",
       "\n",
       "    .dataframe thead th {\n",
       "        text-align: right;\n",
       "    }\n",
       "</style>\n",
       "<table border=\"1\" class=\"dataframe\">\n",
       "  <thead>\n",
       "    <tr style=\"text-align: right;\">\n",
       "      <th></th>\n",
       "      <th>primary</th>\n",
       "      <th>sigma</th>\n",
       "      <th>backup</th>\n",
       "      <th>verified</th>\n",
       "      <th>prediction</th>\n",
       "      <th>residual</th>\n",
       "      <th>targets</th>\n",
       "      <th>primaryTrue</th>\n",
       "      <th>sigmaTrue</th>\n",
       "      <th>backupTrue</th>\n",
       "      <th>primaryPrev6</th>\n",
       "      <th>primaryTruePrev6</th>\n",
       "      <th>residualPrev6</th>\n",
       "      <th>primaryNext6</th>\n",
       "      <th>primaryTrueNext6</th>\n",
       "      <th>residualNext6</th>\n",
       "      <th>dataCountPrev12h</th>\n",
       "      <th>residualMeanPrev12h</th>\n",
       "      <th>residualStdPrev12h</th>\n",
       "    </tr>\n",
       "    <tr>\n",
       "      <th>time</th>\n",
       "      <th></th>\n",
       "      <th></th>\n",
       "      <th></th>\n",
       "      <th></th>\n",
       "      <th></th>\n",
       "      <th></th>\n",
       "      <th></th>\n",
       "      <th></th>\n",
       "      <th></th>\n",
       "      <th></th>\n",
       "      <th></th>\n",
       "      <th></th>\n",
       "      <th></th>\n",
       "      <th></th>\n",
       "      <th></th>\n",
       "      <th></th>\n",
       "      <th></th>\n",
       "      <th></th>\n",
       "      <th></th>\n",
       "    </tr>\n",
       "  </thead>\n",
       "  <tbody>\n",
       "    <tr>\n",
       "      <th>2007-01-01 12:00:00</th>\n",
       "      <td>0.434581</td>\n",
       "      <td>0.010</td>\n",
       "      <td>0.0</td>\n",
       "      <td>1.312</td>\n",
       "      <td>0.393508</td>\n",
       "      <td>0.124</td>\n",
       "      <td>1.0</td>\n",
       "      <td>1</td>\n",
       "      <td>1</td>\n",
       "      <td>0</td>\n",
       "      <td>0.419013</td>\n",
       "      <td>1.0</td>\n",
       "      <td>0.133</td>\n",
       "      <td>0.455780</td>\n",
       "      <td>1.0</td>\n",
       "      <td>0.135</td>\n",
       "      <td>1.0</td>\n",
       "      <td>0.056450</td>\n",
       "      <td>0.029634</td>\n",
       "    </tr>\n",
       "    <tr>\n",
       "      <th>2007-01-01 12:06:00</th>\n",
       "      <td>0.455780</td>\n",
       "      <td>0.010</td>\n",
       "      <td>0.0</td>\n",
       "      <td>1.376</td>\n",
       "      <td>0.411063</td>\n",
       "      <td>0.135</td>\n",
       "      <td>1.0</td>\n",
       "      <td>1</td>\n",
       "      <td>1</td>\n",
       "      <td>0</td>\n",
       "      <td>0.434581</td>\n",
       "      <td>1.0</td>\n",
       "      <td>0.124</td>\n",
       "      <td>0.474329</td>\n",
       "      <td>1.0</td>\n",
       "      <td>0.141</td>\n",
       "      <td>1.0</td>\n",
       "      <td>0.057250</td>\n",
       "      <td>0.030444</td>\n",
       "    </tr>\n",
       "    <tr>\n",
       "      <th>2007-01-01 12:12:00</th>\n",
       "      <td>0.474329</td>\n",
       "      <td>0.011</td>\n",
       "      <td>0.0</td>\n",
       "      <td>1.432</td>\n",
       "      <td>0.427625</td>\n",
       "      <td>0.141</td>\n",
       "      <td>1.0</td>\n",
       "      <td>1</td>\n",
       "      <td>1</td>\n",
       "      <td>0</td>\n",
       "      <td>0.455780</td>\n",
       "      <td>1.0</td>\n",
       "      <td>0.135</td>\n",
       "      <td>0.490891</td>\n",
       "      <td>1.0</td>\n",
       "      <td>0.143</td>\n",
       "      <td>1.0</td>\n",
       "      <td>0.058108</td>\n",
       "      <td>0.031335</td>\n",
       "    </tr>\n",
       "    <tr>\n",
       "      <th>2007-01-01 12:18:00</th>\n",
       "      <td>0.490891</td>\n",
       "      <td>0.008</td>\n",
       "      <td>0.0</td>\n",
       "      <td>1.482</td>\n",
       "      <td>0.443524</td>\n",
       "      <td>0.143</td>\n",
       "      <td>1.0</td>\n",
       "      <td>1</td>\n",
       "      <td>1</td>\n",
       "      <td>0</td>\n",
       "      <td>0.474329</td>\n",
       "      <td>1.0</td>\n",
       "      <td>0.141</td>\n",
       "      <td>0.506459</td>\n",
       "      <td>1.0</td>\n",
       "      <td>0.146</td>\n",
       "      <td>1.0</td>\n",
       "      <td>0.058883</td>\n",
       "      <td>0.032269</td>\n",
       "    </tr>\n",
       "    <tr>\n",
       "      <th>2007-01-01 12:24:00</th>\n",
       "      <td>0.506459</td>\n",
       "      <td>0.006</td>\n",
       "      <td>0.0</td>\n",
       "      <td>1.529</td>\n",
       "      <td>0.458099</td>\n",
       "      <td>0.146</td>\n",
       "      <td>1.0</td>\n",
       "      <td>1</td>\n",
       "      <td>1</td>\n",
       "      <td>0</td>\n",
       "      <td>0.490891</td>\n",
       "      <td>1.0</td>\n",
       "      <td>0.143</td>\n",
       "      <td>0.519709</td>\n",
       "      <td>1.0</td>\n",
       "      <td>0.144</td>\n",
       "      <td>1.0</td>\n",
       "      <td>0.059733</td>\n",
       "      <td>0.033204</td>\n",
       "    </tr>\n",
       "  </tbody>\n",
       "</table>\n",
       "</div>"
      ],
      "text/plain": [
       "                      primary  sigma  backup  verified  prediction  residual  \\\n",
       "time                                                                           \n",
       "2007-01-01 12:00:00  0.434581  0.010     0.0     1.312    0.393508     0.124   \n",
       "2007-01-01 12:06:00  0.455780  0.010     0.0     1.376    0.411063     0.135   \n",
       "2007-01-01 12:12:00  0.474329  0.011     0.0     1.432    0.427625     0.141   \n",
       "2007-01-01 12:18:00  0.490891  0.008     0.0     1.482    0.443524     0.143   \n",
       "2007-01-01 12:24:00  0.506459  0.006     0.0     1.529    0.458099     0.146   \n",
       "\n",
       "                     targets  primaryTrue  sigmaTrue  backupTrue  \\\n",
       "time                                                               \n",
       "2007-01-01 12:00:00      1.0            1          1           0   \n",
       "2007-01-01 12:06:00      1.0            1          1           0   \n",
       "2007-01-01 12:12:00      1.0            1          1           0   \n",
       "2007-01-01 12:18:00      1.0            1          1           0   \n",
       "2007-01-01 12:24:00      1.0            1          1           0   \n",
       "\n",
       "                     primaryPrev6  primaryTruePrev6  residualPrev6  \\\n",
       "time                                                                 \n",
       "2007-01-01 12:00:00      0.419013               1.0          0.133   \n",
       "2007-01-01 12:06:00      0.434581               1.0          0.124   \n",
       "2007-01-01 12:12:00      0.455780               1.0          0.135   \n",
       "2007-01-01 12:18:00      0.474329               1.0          0.141   \n",
       "2007-01-01 12:24:00      0.490891               1.0          0.143   \n",
       "\n",
       "                     primaryNext6  primaryTrueNext6  residualNext6  \\\n",
       "time                                                                 \n",
       "2007-01-01 12:00:00      0.455780               1.0          0.135   \n",
       "2007-01-01 12:06:00      0.474329               1.0          0.141   \n",
       "2007-01-01 12:12:00      0.490891               1.0          0.143   \n",
       "2007-01-01 12:18:00      0.506459               1.0          0.146   \n",
       "2007-01-01 12:24:00      0.519709               1.0          0.144   \n",
       "\n",
       "                     dataCountPrev12h  residualMeanPrev12h  residualStdPrev12h  \n",
       "time                                                                            \n",
       "2007-01-01 12:00:00               1.0             0.056450            0.029634  \n",
       "2007-01-01 12:06:00               1.0             0.057250            0.030444  \n",
       "2007-01-01 12:12:00               1.0             0.058108            0.031335  \n",
       "2007-01-01 12:18:00               1.0             0.058883            0.032269  \n",
       "2007-01-01 12:24:00               1.0             0.059733            0.033204  "
      ]
     },
     "execution_count": 69,
     "metadata": {},
     "output_type": "execute_result"
    }
   ],
   "source": [
    "# Get names of scaled features\n",
    "namesGDTScaled = ['primary','primaryPrev6','primaryNext6','backup','prediction']\n",
    "namesNotScaled = ['targets','residual','residualPrev6','residualNext6','primaryTrue',\n",
    "                  'primaryTruePrev6','primaryTrueNext6','sigmaTrue','backupTrue',\n",
    "                  'dataCountPrev12h','residualMeanPrev12h','residualStdPrev12h']\n",
    "\n",
    "cleanedScaled=cleaned.copy()\n",
    "#demean and divide by GDTrange\n",
    "#for name in namesGDTScaled:\n",
    "#    cleanedScaled.loc[:,name] = detrend(cleanedScaled.loc[:,name])\n",
    "\n",
    "cleanedScaled.loc[:,namesGDTScaled] = cleanedScaled.loc[:,namesGDTScaled] / GDTrange\n",
    "\n",
    "cleanedScaled.head()"
   ]
  },
  {
   "cell_type": "code",
   "execution_count": 70,
   "metadata": {},
   "outputs": [],
   "source": [
    "trainScaled = cleanedScaled.loc[:'2015-12-31 23:54:00']\n",
    "testScaled = cleanedScaled.loc['2016-01-01 00:00:00':]"
   ]
  },
  {
   "cell_type": "markdown",
   "metadata": {},
   "source": [
    "Now I need to save as named datasets"
   ]
  },
  {
   "cell_type": "code",
   "execution_count": 71,
   "metadata": {},
   "outputs": [],
   "source": [
    "#capeMayTrain=trainScaled.copy()\n",
    "#capeMayTest=testScaled.copy()\n",
    "#capeMayTrain['stationName']='Cape May'\n",
    "#capeMayTest['stationName']='Cape May'\n",
    "\n",
    "#lewesTrain=trainScaled.copy()\n",
    "#lewesTest=testScaled.copy()\n",
    "#lewesTrain['stationName']='Lewes'\n",
    "#lewesTest['stationName']='Lewes'\n",
    "\n",
    "#acTrain=trainScaled.copy()\n",
    "#acTest=testScaled.copy()\n",
    "#acTrain['stationName']='Atlantic City'\n",
    "#acTest['stationName']='Atlantic City'\n",
    "\n",
    "#bostonTrain=trainScaled.copy()\n",
    "#bostonTest=testScaled.copy()\n",
    "#bostonTrain['stationName']='Boston'\n",
    "#bostonTest['stationName']='Boston'\n",
    "\n",
    "portlandTrain=trainScaled.copy()\n",
    "portlandTest=testScaled.copy()\n",
    "portlandTrain['stationName']='Portland'\n",
    "portlandTest['stationName']='Portland'\n",
    "\n"
   ]
  },
  {
   "cell_type": "code",
   "execution_count": 72,
   "metadata": {},
   "outputs": [],
   "source": [
    "del trainScaled\n",
    "del testScaled"
   ]
  },
  {
   "cell_type": "markdown",
   "metadata": {},
   "source": [
    "Now combine the sets to one training and test dataframe"
   ]
  },
  {
   "cell_type": "code",
   "execution_count": 73,
   "metadata": {},
   "outputs": [],
   "source": [
    "trainScaled = pd.concat([capeMayTrain, lewesTrain, acTrain, bostonTrain, portlandTrain])\n",
    "testScaled = pd.concat([capeMayTest, lewesTest, acTest, bostonTest, portlandTest])"
   ]
  },
  {
   "cell_type": "markdown",
   "metadata": {},
   "source": [
    "Do some comparisons to see the y/n reprentations between Train and Test sets"
   ]
  },
  {
   "cell_type": "code",
   "execution_count": 74,
   "metadata": {},
   "outputs": [
    {
     "name": "stdout",
     "output_type": "stream",
     "text": [
      "Training Data Points\n",
      "3912096\n",
      "Data manually QCed as 0 or bad\n",
      "77997.0\n",
      "Fraction of data points which are bad\n",
      "0.01993739417437609\n",
      "\n",
      "\n",
      "Testing Data Points\n",
      "822594\n",
      "Data manually QCed as 0 or bad\n",
      "11750.0\n",
      "Fraction of data points which are bad\n",
      "0.01428408181922066\n"
     ]
    }
   ],
   "source": [
    "(totalTrainData, noTrainData) = assessTrainTestData(trainScaled,testScaled)"
   ]
  },
  {
   "cell_type": "code",
   "execution_count": 75,
   "metadata": {},
   "outputs": [],
   "source": [
    "#This is to remove some of the yes points to make the dataset smaller, and ensure the model puts adequate weight on no points\n",
    "\n",
    "#What is the fraction of no that we want\n",
    "fractionNo = 0.10\n",
    "\n",
    "#What is the number of yes points we need to have given that No fraction\n",
    "numYes = int(noTrainData * ((1-fractionNo) // fractionNo))\n",
    "\n",
    "# Divide by class\n",
    "class_0 = trainScaled[trainScaled['targets'] == 0]\n",
    "class_1 = trainScaled[trainScaled['targets'] == 1]"
   ]
  },
  {
   "cell_type": "code",
   "execution_count": 76,
   "metadata": {},
   "outputs": [
    {
     "name": "stdout",
     "output_type": "stream",
     "text": [
      "Random under-sampling:\n",
      "1.0    623976\n",
      "0.0     77997\n",
      "Name: targets, dtype: int64\n"
     ]
    }
   ],
   "source": [
    "#Now resample the yes or 1s to be 90% of total training data\n",
    "class_1_resample = class_1.sample(numYes)\n",
    "trainResample = pd.concat([class_1_resample, class_0], axis=0)\n",
    "\n",
    "print('Random under-sampling:')\n",
    "print(trainResample.targets.value_counts())"
   ]
  },
  {
   "cell_type": "markdown",
   "metadata": {},
   "source": [
    "Shuffle the individual training and testing sections to aid with NN fit"
   ]
  },
  {
   "cell_type": "code",
   "execution_count": 77,
   "metadata": {},
   "outputs": [
    {
     "data": {
      "text/html": [
       "<div>\n",
       "<style scoped>\n",
       "    .dataframe tbody tr th:only-of-type {\n",
       "        vertical-align: middle;\n",
       "    }\n",
       "\n",
       "    .dataframe tbody tr th {\n",
       "        vertical-align: top;\n",
       "    }\n",
       "\n",
       "    .dataframe thead th {\n",
       "        text-align: right;\n",
       "    }\n",
       "</style>\n",
       "<table border=\"1\" class=\"dataframe\">\n",
       "  <thead>\n",
       "    <tr style=\"text-align: right;\">\n",
       "      <th></th>\n",
       "      <th>primary</th>\n",
       "      <th>sigma</th>\n",
       "      <th>backup</th>\n",
       "      <th>verified</th>\n",
       "      <th>prediction</th>\n",
       "      <th>residual</th>\n",
       "      <th>targets</th>\n",
       "      <th>primaryTrue</th>\n",
       "      <th>sigmaTrue</th>\n",
       "      <th>backupTrue</th>\n",
       "      <th>primaryPrev6</th>\n",
       "      <th>primaryTruePrev6</th>\n",
       "      <th>residualPrev6</th>\n",
       "      <th>primaryNext6</th>\n",
       "      <th>primaryTrueNext6</th>\n",
       "      <th>residualNext6</th>\n",
       "      <th>dataCountPrev12h</th>\n",
       "      <th>residualMeanPrev12h</th>\n",
       "      <th>residualStdPrev12h</th>\n",
       "      <th>stationName</th>\n",
       "    </tr>\n",
       "    <tr>\n",
       "      <th>time</th>\n",
       "      <th></th>\n",
       "      <th></th>\n",
       "      <th></th>\n",
       "      <th></th>\n",
       "      <th></th>\n",
       "      <th></th>\n",
       "      <th></th>\n",
       "      <th></th>\n",
       "      <th></th>\n",
       "      <th></th>\n",
       "      <th></th>\n",
       "      <th></th>\n",
       "      <th></th>\n",
       "      <th></th>\n",
       "      <th></th>\n",
       "      <th></th>\n",
       "      <th></th>\n",
       "      <th></th>\n",
       "      <th></th>\n",
       "      <th></th>\n",
       "    </tr>\n",
       "  </thead>\n",
       "  <tbody>\n",
       "    <tr>\n",
       "      <th>2016-06-19 05:48:00</th>\n",
       "      <td>-0.363507</td>\n",
       "      <td>0.002</td>\n",
       "      <td>-0.367783</td>\n",
       "      <td>-0.510</td>\n",
       "      <td>-0.383464</td>\n",
       "      <td>0.028</td>\n",
       "      <td>1.0</td>\n",
       "      <td>1</td>\n",
       "      <td>1</td>\n",
       "      <td>1</td>\n",
       "      <td>-0.354241</td>\n",
       "      <td>1.0</td>\n",
       "      <td>0.027</td>\n",
       "      <td>-0.376336</td>\n",
       "      <td>1.0</td>\n",
       "      <td>0.024</td>\n",
       "      <td>1.0</td>\n",
       "      <td>0.028450</td>\n",
       "      <td>0.010902</td>\n",
       "      <td>Atlantic City</td>\n",
       "    </tr>\n",
       "    <tr>\n",
       "      <th>2017-11-21 00:54:00</th>\n",
       "      <td>-0.394833</td>\n",
       "      <td>0.007</td>\n",
       "      <td>0.000000</td>\n",
       "      <td>-1.192</td>\n",
       "      <td>-0.363697</td>\n",
       "      <td>-0.094</td>\n",
       "      <td>1.0</td>\n",
       "      <td>1</td>\n",
       "      <td>1</td>\n",
       "      <td>0</td>\n",
       "      <td>-0.410070</td>\n",
       "      <td>1.0</td>\n",
       "      <td>-0.092</td>\n",
       "      <td>-0.375952</td>\n",
       "      <td>1.0</td>\n",
       "      <td>-0.088</td>\n",
       "      <td>1.0</td>\n",
       "      <td>-0.048033</td>\n",
       "      <td>0.032321</td>\n",
       "      <td>Portland</td>\n",
       "    </tr>\n",
       "    <tr>\n",
       "      <th>2017-01-15 09:54:00</th>\n",
       "      <td>-0.893309</td>\n",
       "      <td>0.007</td>\n",
       "      <td>0.000000</td>\n",
       "      <td>-0.741</td>\n",
       "      <td>-1.065702</td>\n",
       "      <td>0.143</td>\n",
       "      <td>1.0</td>\n",
       "      <td>1</td>\n",
       "      <td>1</td>\n",
       "      <td>0</td>\n",
       "      <td>-0.924653</td>\n",
       "      <td>1.0</td>\n",
       "      <td>0.133</td>\n",
       "      <td>-0.870404</td>\n",
       "      <td>1.0</td>\n",
       "      <td>0.145</td>\n",
       "      <td>1.0</td>\n",
       "      <td>0.095700</td>\n",
       "      <td>0.026771</td>\n",
       "      <td>Cape May</td>\n",
       "    </tr>\n",
       "    <tr>\n",
       "      <th>2017-05-29 18:06:00</th>\n",
       "      <td>0.526093</td>\n",
       "      <td>0.008</td>\n",
       "      <td>0.535966</td>\n",
       "      <td>0.746</td>\n",
       "      <td>0.279972</td>\n",
       "      <td>0.349</td>\n",
       "      <td>1.0</td>\n",
       "      <td>1</td>\n",
       "      <td>1</td>\n",
       "      <td>1</td>\n",
       "      <td>0.548660</td>\n",
       "      <td>1.0</td>\n",
       "      <td>0.356</td>\n",
       "      <td>0.513399</td>\n",
       "      <td>1.0</td>\n",
       "      <td>0.357</td>\n",
       "      <td>1.0</td>\n",
       "      <td>0.387533</td>\n",
       "      <td>0.042955</td>\n",
       "      <td>Lewes</td>\n",
       "    </tr>\n",
       "    <tr>\n",
       "      <th>2016-04-15 22:30:00</th>\n",
       "      <td>0.332858</td>\n",
       "      <td>0.006</td>\n",
       "      <td>0.327869</td>\n",
       "      <td>0.467</td>\n",
       "      <td>0.235923</td>\n",
       "      <td>0.136</td>\n",
       "      <td>1.0</td>\n",
       "      <td>1</td>\n",
       "      <td>1</td>\n",
       "      <td>1</td>\n",
       "      <td>0.343550</td>\n",
       "      <td>1.0</td>\n",
       "      <td>0.134</td>\n",
       "      <td>0.318603</td>\n",
       "      <td>1.0</td>\n",
       "      <td>0.134</td>\n",
       "      <td>1.0</td>\n",
       "      <td>0.124350</td>\n",
       "      <td>0.022814</td>\n",
       "      <td>Atlantic City</td>\n",
       "    </tr>\n",
       "  </tbody>\n",
       "</table>\n",
       "</div>"
      ],
      "text/plain": [
       "                      primary  sigma    backup  verified  prediction  \\\n",
       "time                                                                   \n",
       "2016-06-19 05:48:00 -0.363507  0.002 -0.367783    -0.510   -0.383464   \n",
       "2017-11-21 00:54:00 -0.394833  0.007  0.000000    -1.192   -0.363697   \n",
       "2017-01-15 09:54:00 -0.893309  0.007  0.000000    -0.741   -1.065702   \n",
       "2017-05-29 18:06:00  0.526093  0.008  0.535966     0.746    0.279972   \n",
       "2016-04-15 22:30:00  0.332858  0.006  0.327869     0.467    0.235923   \n",
       "\n",
       "                     residual  targets  primaryTrue  sigmaTrue  backupTrue  \\\n",
       "time                                                                         \n",
       "2016-06-19 05:48:00     0.028      1.0            1          1           1   \n",
       "2017-11-21 00:54:00    -0.094      1.0            1          1           0   \n",
       "2017-01-15 09:54:00     0.143      1.0            1          1           0   \n",
       "2017-05-29 18:06:00     0.349      1.0            1          1           1   \n",
       "2016-04-15 22:30:00     0.136      1.0            1          1           1   \n",
       "\n",
       "                     primaryPrev6  primaryTruePrev6  residualPrev6  \\\n",
       "time                                                                 \n",
       "2016-06-19 05:48:00     -0.354241               1.0          0.027   \n",
       "2017-11-21 00:54:00     -0.410070               1.0         -0.092   \n",
       "2017-01-15 09:54:00     -0.924653               1.0          0.133   \n",
       "2017-05-29 18:06:00      0.548660               1.0          0.356   \n",
       "2016-04-15 22:30:00      0.343550               1.0          0.134   \n",
       "\n",
       "                     primaryNext6  primaryTrueNext6  residualNext6  \\\n",
       "time                                                                 \n",
       "2016-06-19 05:48:00     -0.376336               1.0          0.024   \n",
       "2017-11-21 00:54:00     -0.375952               1.0         -0.088   \n",
       "2017-01-15 09:54:00     -0.870404               1.0          0.145   \n",
       "2017-05-29 18:06:00      0.513399               1.0          0.357   \n",
       "2016-04-15 22:30:00      0.318603               1.0          0.134   \n",
       "\n",
       "                     dataCountPrev12h  residualMeanPrev12h  \\\n",
       "time                                                         \n",
       "2016-06-19 05:48:00               1.0             0.028450   \n",
       "2017-11-21 00:54:00               1.0            -0.048033   \n",
       "2017-01-15 09:54:00               1.0             0.095700   \n",
       "2017-05-29 18:06:00               1.0             0.387533   \n",
       "2016-04-15 22:30:00               1.0             0.124350   \n",
       "\n",
       "                     residualStdPrev12h    stationName  \n",
       "time                                                    \n",
       "2016-06-19 05:48:00            0.010902  Atlantic City  \n",
       "2017-11-21 00:54:00            0.032321       Portland  \n",
       "2017-01-15 09:54:00            0.026771       Cape May  \n",
       "2017-05-29 18:06:00            0.042955          Lewes  \n",
       "2016-04-15 22:30:00            0.022814  Atlantic City  "
      ]
     },
     "execution_count": 77,
     "metadata": {},
     "output_type": "execute_result"
    }
   ],
   "source": [
    "trainRand=shuffle(trainResample)\n",
    "testRand=shuffle(testScaled)\n",
    "testRand.head()"
   ]
  },
  {
   "cell_type": "code",
   "execution_count": 78,
   "metadata": {},
   "outputs": [],
   "source": [
    "featureNames = ['primary','primaryPrev6','primaryNext6','sigma','backup','prediction','residual',\n",
    "                              'residualPrev6','residualNext6','primaryTruePrev6','primaryTrueNext6',\n",
    "                              'sigmaTrue','backupTrue','dataCountPrev12h','residualMeanPrev12h','residualStdPrev12h']\n",
    "\n",
    "featureTrain=trainRand.loc[:, featureNames]\n",
    "featureTest=testRand.loc[:, featureNames]\n",
    "\n",
    "targetTrain=trainRand.loc[:,['targets']]\n",
    "targetTest=testRand.loc[:,['targets']]\n",
    "\n",
    "\n",
    "predictFeatures = testScaled.loc[:, featureNames]\n",
    "predictTargets = testScaled.loc[:,['targets']]"
   ]
  },
  {
   "cell_type": "code",
   "execution_count": 79,
   "metadata": {},
   "outputs": [
    {
     "name": "stdout",
     "output_type": "stream",
     "text": [
      "Train on 701973 samples, validate on 822594 samples\n",
      "Epoch 1/20\n",
      "701973/701973 [==============================] - 34s 48us/step - loss: 0.0540 - accuracy: 0.9841 - val_loss: 0.0251 - val_accuracy: 0.9921\n",
      "Epoch 2/20\n",
      "701973/701973 [==============================] - 32s 46us/step - loss: 0.0371 - accuracy: 0.9890 - val_loss: 0.0237 - val_accuracy: 0.9933\n",
      "Epoch 3/20\n",
      "701973/701973 [==============================] - 32s 45us/step - loss: 0.0341 - accuracy: 0.9899 - val_loss: 0.0220 - val_accuracy: 0.9943\n",
      "Epoch 4/20\n",
      "701973/701973 [==============================] - 34s 48us/step - loss: 0.0321 - accuracy: 0.9902 - val_loss: 0.0211 - val_accuracy: 0.9946\n",
      "Epoch 5/20\n",
      "701973/701973 [==============================] - 33s 47us/step - loss: 0.0309 - accuracy: 0.9908 - val_loss: 0.0215 - val_accuracy: 0.9946\n",
      "Epoch 6/20\n",
      "701973/701973 [==============================] - 33s 46us/step - loss: 0.0299 - accuracy: 0.9911 - val_loss: 0.0212 - val_accuracy: 0.9948\n",
      "Epoch 7/20\n",
      "701973/701973 [==============================] - 33s 48us/step - loss: 0.0288 - accuracy: 0.9914 - val_loss: 0.0193 - val_accuracy: 0.9961\n",
      "Epoch 8/20\n",
      "701973/701973 [==============================] - 32s 45us/step - loss: 0.0278 - accuracy: 0.9918 - val_loss: 0.0194 - val_accuracy: 0.9956\n",
      "Epoch 9/20\n",
      "701973/701973 [==============================] - 32s 46us/step - loss: 0.0269 - accuracy: 0.9920 - val_loss: 0.0210 - val_accuracy: 0.9957\n",
      "Epoch 10/20\n",
      "701973/701973 [==============================] - 33s 46us/step - loss: 0.0260 - accuracy: 0.9924 - val_loss: 0.0180 - val_accuracy: 0.9968\n",
      "Epoch 11/20\n",
      "701973/701973 [==============================] - 32s 46us/step - loss: 0.0254 - accuracy: 0.9926 - val_loss: 0.0202 - val_accuracy: 0.9953\n",
      "Epoch 12/20\n",
      "701973/701973 [==============================] - 33s 47us/step - loss: 0.0250 - accuracy: 0.9927 - val_loss: 0.0173 - val_accuracy: 0.9971\n",
      "Epoch 13/20\n",
      "701973/701973 [==============================] - 32s 45us/step - loss: 0.0245 - accuracy: 0.9929 - val_loss: 0.0181 - val_accuracy: 0.9969\n",
      "Epoch 14/20\n",
      "701973/701973 [==============================] - 33s 46us/step - loss: 0.0240 - accuracy: 0.9931 - val_loss: 0.0175 - val_accuracy: 0.9969\n",
      "Epoch 15/20\n",
      "701973/701973 [==============================] - 33s 47us/step - loss: 0.0241 - accuracy: 0.9931 - val_loss: 0.0170 - val_accuracy: 0.9971\n",
      "Epoch 16/20\n",
      "701973/701973 [==============================] - 32s 45us/step - loss: 0.0239 - accuracy: 0.9933 - val_loss: 0.0170 - val_accuracy: 0.9972\n",
      "Epoch 17/20\n",
      "701973/701973 [==============================] - 33s 47us/step - loss: 0.0235 - accuracy: 0.9933 - val_loss: 0.0177 - val_accuracy: 0.9967\n",
      "Epoch 18/20\n",
      "701973/701973 [==============================] - 32s 46us/step - loss: 0.0234 - accuracy: 0.9933 - val_loss: 0.0176 - val_accuracy: 0.9969\n",
      "Epoch 19/20\n",
      "701973/701973 [==============================] - 31s 44us/step - loss: 0.0232 - accuracy: 0.9933 - val_loss: 0.0174 - val_accuracy: 0.9971\n",
      "Epoch 20/20\n",
      "701973/701973 [==============================] - 32s 45us/step - loss: 0.0232 - accuracy: 0.9933 - val_loss: 0.0170 - val_accuracy: 0.9972\n",
      "822594/822594 [==============================] - 35s 43us/step\n"
     ]
    },
    {
     "data": {
      "image/png": "[encoded data removed]",
      "text/plain": [
       "<Figure size 432x288 with 1 Axes>"
      ]
     },
     "metadata": {
      "needs_background": "light"
     },
     "output_type": "display_data"
    },
    {
     "name": "stdout",
     "output_type": "stream",
     "text": [
      "Normalized confusion matrix\n",
      "[[8.30e-01 1.70e-01]\n",
      " [3.76e-04 1.00e+00]]\n",
      "total accuracy = 0.9972\n"
     ]
    },
    {
     "data": {
      "image/png": "[encoded data removed]",
      "text/plain": [
       "<Figure size 432x288 with 2 Axes>"
      ]
     },
     "metadata": {
      "needs_background": "light"
     },
     "output_type": "display_data"
    }
   ],
   "source": [
    "#All 5 10% no - with 0.25 dropout - Optimum model setup\n",
    "\n",
    "epochCount = 20\n",
    "batchCount = 128\n",
    "classThreshold = .50\n",
    "numFeatures = len(featureNames)\n",
    "modelOut_all5, model_all5 = runNNmodel(featureTrain, targetTrain, featureTest, targetTest, predictFeatures, predictTargets,\n",
    "               epochCount, batchCount, classThreshold, numFeatures)"
   ]
  },
  {
   "cell_type": "code",
   "execution_count": 120,
   "metadata": {},
   "outputs": [
    {
     "data": {
      "text/plain": [
       "0.8065226065730016"
      ]
     },
     "execution_count": 120,
     "metadata": {},
     "output_type": "execute_result"
    }
   ],
   "source": [
    "BSS(trainScaled['targets'], modelOut_all5['modelPrediction'], modelOut_all5['targets'])"
   ]
  },
  {
   "cell_type": "code",
   "execution_count": 5,
   "metadata": {},
   "outputs": [
    {
     "data": {
      "text/plain": [
       "0.9570861850069122"
      ]
     },
     "execution_count": 5,
     "metadata": {},
     "output_type": "execute_result"
    }
   ],
   "source": [
    "#The Area under the ROC score\n",
    "roc(1-modelOut_all5['targets'],1-modelOut_all5['modelPrediction'])"
   ]
  },
  {
   "cell_type": "code",
   "execution_count": 3,
   "metadata": {},
   "outputs": [],
   "source": [
    "#Now for the simple model\n",
    "featureNames = ['primary','sigma','backup','prediction','residual',\n",
    "                              'sigmaTrue','backupTrue']\n",
    "\n",
    "featureTrain=trainRand.loc[:, featureNames]\n",
    "featureTest=testRand.loc[:, featureNames]\n",
    "\n",
    "targetTrain=trainRand.loc[:,['targets']]\n",
    "targetTest=testRand.loc[:,['targets']]\n",
    "\n",
    "\n",
    "predictFeatures = testScaled.loc[:, featureNames]\n",
    "predictTargets = testScaled.loc[:,['targets']]\n",
    "\n",
    "\n"
   ]
  },
  {
   "cell_type": "code",
   "execution_count": 85,
   "metadata": {},
   "outputs": [
    {
     "name": "stdout",
     "output_type": "stream",
     "text": [
      "Train on 701973 samples, validate on 822594 samples\n",
      "Epoch 1/20\n",
      "701973/701973 [==============================] - 17s 24us/step - loss: 0.0929 - accuracy: 0.9743 - val_loss: 0.0504 - val_accuracy: 0.9860\n",
      "Epoch 2/20\n",
      "701973/701973 [==============================] - 17s 24us/step - loss: 0.0606 - accuracy: 0.9851 - val_loss: 0.0537 - val_accuracy: 0.9832\n",
      "Epoch 3/20\n",
      "701973/701973 [==============================] - 16s 23us/step - loss: 0.0517 - accuracy: 0.9879 - val_loss: 0.0574 - val_accuracy: 0.9837\n",
      "Epoch 4/20\n",
      "701973/701973 [==============================] - 16s 23us/step - loss: 0.0449 - accuracy: 0.9901 - val_loss: 0.0405 - val_accuracy: 0.9871\n",
      "Epoch 5/20\n",
      "701973/701973 [==============================] - 16s 23us/step - loss: 0.0402 - accuracy: 0.9915 - val_loss: 0.0288 - val_accuracy: 0.9932\n",
      "Epoch 6/20\n",
      "701973/701973 [==============================] - 16s 22us/step - loss: 0.0379 - accuracy: 0.9922 - val_loss: 0.0417 - val_accuracy: 0.9885\n",
      "Epoch 7/20\n",
      "701973/701973 [==============================] - 16s 23us/step - loss: 0.0365 - accuracy: 0.9926 - val_loss: 0.0245 - val_accuracy: 0.9954\n",
      "Epoch 8/20\n",
      "701973/701973 [==============================] - 16s 23us/step - loss: 0.0356 - accuracy: 0.9928 - val_loss: 0.0268 - val_accuracy: 0.9958\n",
      "Epoch 9/20\n",
      "701973/701973 [==============================] - 16s 23us/step - loss: 0.0351 - accuracy: 0.9930 - val_loss: 0.0265 - val_accuracy: 0.9951\n",
      "Epoch 10/20\n",
      "701973/701973 [==============================] - 16s 23us/step - loss: 0.0348 - accuracy: 0.9931 - val_loss: 0.0233 - val_accuracy: 0.9959\n",
      "Epoch 11/20\n",
      "701973/701973 [==============================] - 17s 24us/step - loss: 0.0346 - accuracy: 0.9931 - val_loss: 0.0225 - val_accuracy: 0.9966\n",
      "Epoch 12/20\n",
      "701973/701973 [==============================] - 16s 23us/step - loss: 0.0344 - accuracy: 0.9932 - val_loss: 0.0219 - val_accuracy: 0.9962\n",
      "Epoch 13/20\n",
      "701973/701973 [==============================] - 16s 23us/step - loss: 0.0343 - accuracy: 0.9932 - val_loss: 0.0216 - val_accuracy: 0.9965\n",
      "Epoch 14/20\n",
      "701973/701973 [==============================] - 16s 22us/step - loss: 0.0341 - accuracy: 0.9932 - val_loss: 0.0221 - val_accuracy: 0.9963\n",
      "Epoch 15/20\n",
      "701973/701973 [==============================] - 16s 23us/step - loss: 0.0339 - accuracy: 0.9933 - val_loss: 0.0213 - val_accuracy: 0.9970\n",
      "Epoch 16/20\n",
      "701973/701973 [==============================] - 16s 23us/step - loss: 0.0338 - accuracy: 0.9933 - val_loss: 0.0239 - val_accuracy: 0.9965\n",
      "Epoch 17/20\n",
      "701973/701973 [==============================] - 16s 23us/step - loss: 0.0338 - accuracy: 0.9933 - val_loss: 0.0237 - val_accuracy: 0.9963\n",
      "Epoch 18/20\n",
      "701973/701973 [==============================] - 16s 23us/step - loss: 0.0337 - accuracy: 0.9933 - val_loss: 0.0204 - val_accuracy: 0.9968\n",
      "Epoch 19/20\n",
      "701973/701973 [==============================] - 17s 24us/step - loss: 0.0336 - accuracy: 0.9933 - val_loss: 0.0250 - val_accuracy: 0.9960\n",
      "Epoch 20/20\n",
      "701973/701973 [==============================] - 16s 24us/step - loss: 0.0335 - accuracy: 0.9933 - val_loss: 0.0251 - val_accuracy: 0.9956\n",
      "822594/822594 [==============================] - 32s 39us/step\n"
     ]
    },
    {
     "data": {
      "image/png": "[encoded data removed]",
      "text/plain": [
       "<Figure size 432x288 with 1 Axes>"
      ]
     },
     "metadata": {
      "needs_background": "light"
     },
     "output_type": "display_data"
    },
    {
     "name": "stdout",
     "output_type": "stream",
     "text": [
      "Normalized confusion matrix\n",
      "[[0.83 0.17]\n",
      " [0.   1.  ]]\n",
      "total accuracy = 0.9956\n"
     ]
    },
    {
     "data": {
      "image/png": "[encoded data removed]",
      "text/plain": [
       "<Figure size 432x288 with 2 Axes>"
      ]
     },
     "metadata": {
      "needs_background": "light"
     },
     "output_type": "display_data"
    }
   ],
   "source": [
    "#All 5 10% no - Simple model - with 32x2 and 0.25% dropout\n",
    "\n",
    "epochCount = 20\n",
    "batchCount = 256\n",
    "classThreshold = .50\n",
    "numFeatures = len(featureNames)\n",
    "modelOut_all5_simple, model_all5_simple = runNNmodel(featureTrain, targetTrain, featureTest, targetTest, predictFeatures, predictTargets,\n",
    "               epochCount, batchCount, classThreshold, numFeatures)"
   ]
  },
  {
   "cell_type": "code",
   "execution_count": 3,
   "metadata": {},
   "outputs": [],
   "source": [
    "#Load the best simple 5 station model\n",
    "model = load_model('model_best_NNall_simple.hdf5')"
   ]
  },
  {
   "cell_type": "code",
   "execution_count": 4,
   "metadata": {},
   "outputs": [],
   "source": [
    "#Generate predictions from the best model\n",
    "modelPrediction = model.predict(predictFeatures, batch_size=256)"
   ]
  },
  {
   "cell_type": "code",
   "execution_count": 18,
   "metadata": {},
   "outputs": [],
   "source": [
    "#Generate example predictions for Cape May\n",
    "#Now for the simple model\n",
    "featureNames = ['primary','sigma','backup','prediction','residual',\n",
    "                              'sigmaTrue','backupTrue']\n",
    "\n",
    "\n",
    "predictFeatures = acTest.loc[:, featureNames]\n",
    "predictTargets = acTest.loc[:,['targets']]\n",
    "modelPrediction = model.predict(predictFeatures, batch_size=256)\n",
    "modelOut=acTest.copy()\n",
    "modelOut['modelPrediction']=modelPrediction"
   ]
  },
  {
   "cell_type": "code",
   "execution_count": 19,
   "metadata": {},
   "outputs": [],
   "source": [
    "pandasToMat(modelOut, predictFeatures, 'AC')"
   ]
  },
  {
   "cell_type": "code",
   "execution_count": 142,
   "metadata": {},
   "outputs": [
    {
     "data": {
      "text/plain": [
       "0.7755777040793201"
      ]
     },
     "execution_count": 142,
     "metadata": {},
     "output_type": "execute_result"
    }
   ],
   "source": [
    "BSS(trainScaled['targets'], np.reshape(modelPrediction,-1), modelOut_all5_simple['targets'])"
   ]
  },
  {
   "cell_type": "code",
   "execution_count": 8,
   "metadata": {},
   "outputs": [
    {
     "data": {
      "text/plain": [
       "0.9416349299080748"
      ]
     },
     "execution_count": 8,
     "metadata": {},
     "output_type": "execute_result"
    }
   ],
   "source": [
    "#The Area under the ROC score\n",
    "roc(modelOut_all5['targets'],np.reshape(modelPrediction,-1))"
   ]
  },
  {
   "cell_type": "code",
   "execution_count": 14,
   "metadata": {},
   "outputs": [],
   "source": [
    "fpr, tpr, rocThresh = roc_curve(modelOut_all5['targets'],np.reshape(modelPrediction,-1))"
   ]
  },
  {
   "cell_type": "code",
   "execution_count": 22,
   "metadata": {},
   "outputs": [
    {
     "name": "stdout",
     "output_type": "stream",
     "text": [
      "Normalized confusion matrix\n",
      "[[8.32e-01 1.68e-01]\n",
      " [7.81e-04 9.99e-01]]\n",
      "total accuracy = 0.9968\n"
     ]
    },
    {
     "data": {
      "image/png": "[encoded data removed]",
      "text/plain": [
       "<Figure size 432x288 with 2 Axes>"
      ]
     },
     "metadata": {
      "needs_background": "light"
     },
     "output_type": "display_data"
    }
   ],
   "source": [
    "#This is for testing different thresholds with the results of the model\n",
    "\n",
    "classThreshold =.5\n",
    "modelPredThresh=1*(modelPrediction >= classThreshold)\n",
    "\n",
    "# Compute confusion matrix\n",
    "cnfMatrix = confusion_matrix(modelOut_all5_simple['targets'] , modelPredThresh)\n",
    "np.set_printoptions(precision=2)\n",
    "\n",
    "# Plot normalized confusion matrix\n",
    "classNames = ['bad data point','good data point']\n",
    "plotConfusionMatrix(cnfMatrix, classes=classNames,normalize=True,\n",
    "                    title='Confusion matrix, with normalization')\n",
    "#plt.show()\n",
    "plt.savefig('NN_model_simple_confusion.png')"
   ]
  },
  {
   "cell_type": "code",
   "execution_count": 4,
   "metadata": {},
   "outputs": [],
   "source": [
    "#This is to prep targets for fitting in scikit-learn\n",
    "targetTrainIn=np.ravel(targetTrain)\n",
    "targetTestIn=np.ravel(targetTest)"
   ]
  },
  {
   "cell_type": "code",
   "execution_count": 14,
   "metadata": {},
   "outputs": [
    {
     "name": "stderr",
     "output_type": "stream",
     "text": [
      "/home/jupyter-greg-dusek/.conda/envs/wlai/lib/python3.6/site-packages/sklearn/linear_model/logistic.py:432: FutureWarning: Default solver will be changed to 'lbfgs' in 0.22. Specify a solver to silence this warning.\n",
      "  FutureWarning)\n"
     ]
    },
    {
     "name": "stdout",
     "output_type": "stream",
     "text": [
      "CPU times: user 2.46 s, sys: 19.4 ms, total: 2.48 s\n",
      "Wall time: 2.48 s\n"
     ]
    },
    {
     "data": {
      "text/plain": [
       "LogisticRegression(C=1.0, class_weight=None, dual=False, fit_intercept=True,\n",
       "                   intercept_scaling=1, l1_ratio=None, max_iter=10000,\n",
       "                   multi_class='warn', n_jobs=None, penalty='l2',\n",
       "                   random_state=None, solver='warn', tol=0.0001, verbose=0,\n",
       "                   warm_start=False)"
      ]
     },
     "execution_count": 14,
     "metadata": {},
     "output_type": "execute_result"
    }
   ],
   "source": [
    "%%time\n",
    "# Fitting a Logistic Regression\n",
    "from sklearn.linear_model import LogisticRegression\n",
    "clf = LogisticRegression(max_iter=10000)\n",
    "clf.fit(featureTrain, targetTrainIn)"
   ]
  },
  {
   "cell_type": "code",
   "execution_count": 15,
   "metadata": {},
   "outputs": [
    {
     "name": "stdout",
     "output_type": "stream",
     "text": [
      "Accuracy on the train dataset is 0.9683833993615139\n"
     ]
    }
   ],
   "source": [
    "# prediction on the training dataset\n",
    "trainAccuracy = 1 - np.sum(np.abs(clf.predict(featureTrain) - targetTrainIn))/len(targetTrainIn)\n",
    "print('Accuracy on the train dataset is '+ str(trainAccuracy))"
   ]
  },
  {
   "cell_type": "code",
   "execution_count": 16,
   "metadata": {},
   "outputs": [
    {
     "name": "stdout",
     "output_type": "stream",
     "text": [
      "Accuracy on the test dataset is 0.9891842148131399\n"
     ]
    }
   ],
   "source": [
    "# prediction on the testing dataset\n",
    "testAccuracy = 1 - np.sum(np.abs(clf.predict(featureTest) - targetTestIn))/len(targetTestIn)\n",
    "print('Accuracy on the test dataset is '+ str(testAccuracy))"
   ]
  },
  {
   "cell_type": "code",
   "execution_count": 119,
   "metadata": {},
   "outputs": [
    {
     "data": {
      "text/plain": [
       "0.23357568020576636"
      ]
     },
     "execution_count": 119,
     "metadata": {},
     "output_type": "execute_result"
    }
   ],
   "source": [
    "#What is the Brier Skill Score\n",
    "# Function to calculate the Brier Skill Score\n",
    "modelPred = clf.predict(featureTest)\n",
    "BSS(trainScaled['targets'], modelPred, targetTestIn)\n"
   ]
  },
  {
   "cell_type": "code",
   "execution_count": 146,
   "metadata": {},
   "outputs": [
    {
     "data": {
      "text/plain": [
       "0.7098484394038804"
      ]
     },
     "execution_count": 146,
     "metadata": {},
     "output_type": "execute_result"
    }
   ],
   "source": [
    "#What is the Area under the ROC\n",
    "roc(targetTestIn,modelPred)"
   ]
  },
  {
   "cell_type": "code",
   "execution_count": 95,
   "metadata": {},
   "outputs": [],
   "source": [
    "predictProb = clf.predict_proba(featureTest)[:,1]"
   ]
  },
  {
   "cell_type": "code",
   "execution_count": 96,
   "metadata": {},
   "outputs": [
    {
     "name": "stdout",
     "output_type": "stream",
     "text": [
      "Normalized confusion matrix\n",
      "[[0.42 0.58]\n",
      " [0.   1.  ]]\n",
      "total accuracy = 0.9892\n"
     ]
    },
    {
     "data": {
      "image/png": "[encoded data removed]",
      "text/plain": [
       "<Figure size 432x288 with 2 Axes>"
      ]
     },
     "metadata": {
      "needs_background": "light"
     },
     "output_type": "display_data"
    }
   ],
   "source": [
    "#What is the confusion matrix?\n",
    "\n",
    "classThreshold =.5\n",
    "modelPredThresh=1*(predictProb >= classThreshold)\n",
    "\n",
    "# Compute confusion matrix\n",
    "cnfMatrix = confusion_matrix(targetTestIn , modelPredThresh)\n",
    "np.set_printoptions(precision=2)\n",
    "\n",
    "# Plot normalized confusion matrix\n",
    "classNames = ['bad data point','good data point']\n",
    "plotConfusionMatrix(cnfMatrix, classes=classNames,normalize=True,\n",
    "                    title='Confusion matrix, with normalization')\n",
    "plt.show()\n"
   ]
  },
  {
   "cell_type": "code",
   "execution_count": 194,
   "metadata": {},
   "outputs": [
    {
     "name": "stdout",
     "output_type": "stream",
     "text": [
      "CPU times: user 9min 18s, sys: 92.7 ms, total: 9min 18s\n",
      "Wall time: 1min 10s\n"
     ]
    },
    {
     "data": {
      "text/plain": [
       "RandomForestClassifier(bootstrap=True, class_weight=None, criterion='gini',\n",
       "                       max_depth=20, max_features='auto', max_leaf_nodes=None,\n",
       "                       min_impurity_decrease=0.0, min_impurity_split=None,\n",
       "                       min_samples_leaf=2, min_samples_split=2,\n",
       "                       min_weight_fraction_leaf=0.0, n_estimators=200,\n",
       "                       n_jobs=-1, oob_score=False, random_state=None, verbose=0,\n",
       "                       warm_start=False)"
      ]
     },
     "execution_count": 194,
     "metadata": {},
     "output_type": "execute_result"
    }
   ],
   "source": [
    "%%time\n",
    "from sklearn.ensemble import RandomForestClassifier\n",
    "# Fitting a Random Forest\n",
    "clf = RandomForestClassifier(n_estimators=200, n_jobs=-1, max_depth=20, min_samples_leaf=2)\n",
    "clf.fit(featureTrain, targetTrainIn)"
   ]
  },
  {
   "cell_type": "code",
   "execution_count": null,
   "metadata": {},
   "outputs": [],
   "source": [
    "#Save model to pickle file"
   ]
  },
  {
   "cell_type": "code",
   "execution_count": 4,
   "metadata": {},
   "outputs": [],
   "source": [
    "pickle.dump(clf, open('model_randomForrest_simple', 'wb'))"
   ]
  },
  {
   "cell_type": "code",
   "execution_count": 148,
   "metadata": {},
   "outputs": [
    {
     "name": "stdout",
     "output_type": "stream",
     "text": [
      "Accuracy on the train dataset is 0.9941906597547199\n"
     ]
    }
   ],
   "source": [
    "# prediction on the training dataset\n",
    "trainAccuracy = 1 - np.sum(np.abs(clf.predict(featureTrain) - targetTrainIn))/len(targetTrainIn)\n",
    "print('Accuracy on the train dataset is '+ str(trainAccuracy))"
   ]
  },
  {
   "cell_type": "code",
   "execution_count": 149,
   "metadata": {},
   "outputs": [
    {
     "name": "stdout",
     "output_type": "stream",
     "text": [
      "Accuracy on the test dataset is 0.9971577716346095\n"
     ]
    }
   ],
   "source": [
    "# prediction on the testing dataset\n",
    "testAccuracy = 1 - np.sum(np.abs(clf.predict(featureTest) - targetTestIn))/len(targetTestIn)\n",
    "print('Accuracy on the test dataset is '+ str(testAccuracy))"
   ]
  },
  {
   "cell_type": "code",
   "execution_count": 150,
   "metadata": {},
   "outputs": [
    {
     "name": "stdout",
     "output_type": "stream",
     "text": [
      "primary 0.14056957807801196\n",
      "sigma 0.5001898816577759\n",
      "backup 0.02647301543003313\n",
      "prediction 0.012306615652527133\n",
      "residual 0.27959488919654624\n",
      "sigmaTrue 0.03976452986812125\n",
      "backupTrue 0.001101490116984371\n"
     ]
    }
   ],
   "source": [
    "#What is the feature importance?\n",
    "for name, score in zip(featureTrain.columns, clf.feature_importances_):\n",
    "    print(name, score)"
   ]
  },
  {
   "cell_type": "code",
   "execution_count": 151,
   "metadata": {},
   "outputs": [
    {
     "data": {
      "text/plain": [
       "0.7985950253255121"
      ]
     },
     "execution_count": 151,
     "metadata": {},
     "output_type": "execute_result"
    }
   ],
   "source": [
    "#What is the Brier Skill Score\n",
    "# Function to calculate the Brier Skill Score\n",
    "modelPred = clf.predict(featureTest)\n",
    "BSS(trainScaled['targets'], modelPred, targetTestIn)\n"
   ]
  },
  {
   "cell_type": "code",
   "execution_count": 152,
   "metadata": {},
   "outputs": [
    {
     "data": {
      "text/plain": [
       "0.9158174790711899"
      ]
     },
     "execution_count": 152,
     "metadata": {},
     "output_type": "execute_result"
    }
   ],
   "source": [
    "roc(targetTestIn,modelPred)"
   ]
  },
  {
   "cell_type": "code",
   "execution_count": 153,
   "metadata": {},
   "outputs": [],
   "source": [
    "predictProb = clf.predict_proba(featureTest)[:,1]"
   ]
  },
  {
   "cell_type": "code",
   "execution_count": 154,
   "metadata": {},
   "outputs": [
    {
     "name": "stdout",
     "output_type": "stream",
     "text": [
      "Normalized confusion matrix\n",
      "[[8.32e-01 1.68e-01]\n",
      " [4.50e-04 1.00e+00]]\n",
      "total accuracy = 0.9972\n"
     ]
    },
    {
     "data": {
      "image/png": "[encoded data removed]",
      "text/plain": [
       "<Figure size 432x288 with 2 Axes>"
      ]
     },
     "metadata": {
      "needs_background": "light"
     },
     "output_type": "display_data"
    }
   ],
   "source": [
    "#What is the confusion matrix?\n",
    "\n",
    "classThreshold =.5\n",
    "modelPredThresh=1*(predictProb >= classThreshold)\n",
    "\n",
    "# Compute confusion matrix\n",
    "cnfMatrix = confusion_matrix(targetTestIn , modelPredThresh)\n",
    "np.set_printoptions(precision=2)\n",
    "\n",
    "# Plot normalized confusion matrix\n",
    "classNames = ['bad data point','good data point']\n",
    "plotConfusionMatrix(cnfMatrix, classes=classNames,normalize=True,\n",
    "                    title='Confusion matrix, with normalization')\n",
    "plt.show()\n"
   ]
  },
  {
   "cell_type": "code",
   "execution_count": null,
   "metadata": {},
   "outputs": [],
   "source": []
  },
  {
   "cell_type": "code",
   "execution_count": 18,
   "metadata": {},
   "outputs": [
    {
     "name": "stdout",
     "output_type": "stream",
     "text": [
      "CPU times: user 1min 30s, sys: 95.1 ms, total: 1min 30s\n",
      "Wall time: 1min 30s\n"
     ]
    },
    {
     "data": {
      "text/plain": [
       "GradientBoostingClassifier(criterion='friedman_mse', init=None,\n",
       "                           learning_rate=0.1, loss='deviance', max_depth=5,\n",
       "                           max_features=None, max_leaf_nodes=None,\n",
       "                           min_impurity_decrease=0.0, min_impurity_split=None,\n",
       "                           min_samples_leaf=2, min_samples_split=2,\n",
       "                           min_weight_fraction_leaf=0.0, n_estimators=100,\n",
       "                           n_iter_no_change=None, presort='auto',\n",
       "                           random_state=None, subsample=1.0, tol=0.0001,\n",
       "                           validation_fraction=0.1, verbose=0,\n",
       "                           warm_start=False)"
      ]
     },
     "execution_count": 18,
     "metadata": {},
     "output_type": "execute_result"
    }
   ],
   "source": [
    "%%time\n",
    "# Fitting a Gradient Boost\n",
    "from sklearn.ensemble import GradientBoostingClassifier\n",
    "clf = GradientBoostingClassifier(learning_rate=0.1, n_estimators=100, max_depth=3, min_samples_leaf=1)\n",
    "clf.fit(featureTrain, targetTrainIn)"
   ]
  },
  {
   "cell_type": "code",
   "execution_count": 19,
   "metadata": {},
   "outputs": [
    {
     "name": "stdout",
     "output_type": "stream",
     "text": [
      "Accuracy on the train dataset is 0.9932946138954062\n"
     ]
    }
   ],
   "source": [
    "# prediction on the training dataset\n",
    "trainAccuracy = 1 - np.sum(np.abs(clf.predict(featureTrain) - targetTrainIn))/len(targetTrainIn)\n",
    "print('Accuracy on the train dataset is '+ str(trainAccuracy))"
   ]
  },
  {
   "cell_type": "code",
   "execution_count": 20,
   "metadata": {},
   "outputs": [
    {
     "name": "stdout",
     "output_type": "stream",
     "text": [
      "Accuracy on the test dataset is 0.9968453453343934\n"
     ]
    }
   ],
   "source": [
    "# prediction on the testing dataset\n",
    "testAccuracy = 1 - np.sum(np.abs(clf.predict(featureTest) - targetTestIn))/len(targetTestIn)\n",
    "print('Accuracy on the test dataset is '+ str(testAccuracy))"
   ]
  },
  {
   "cell_type": "code",
   "execution_count": 8,
   "metadata": {},
   "outputs": [
    {
     "data": {
      "text/plain": [
       "0.7792987403267588"
      ]
     },
     "execution_count": 8,
     "metadata": {},
     "output_type": "execute_result"
    }
   ],
   "source": [
    "#What is the Brier Skill Score\n",
    "# Function to calculate the Brier Skill Score\n",
    "modelPred = clf.predict(featureTest)\n",
    "BSS(trainScaled['targets'], modelPred, targetTestIn)"
   ]
  },
  {
   "cell_type": "code",
   "execution_count": 9,
   "metadata": {},
   "outputs": [
    {
     "data": {
      "text/plain": [
       "0.9156793513918831"
      ]
     },
     "execution_count": 9,
     "metadata": {},
     "output_type": "execute_result"
    }
   ],
   "source": [
    "roc(targetTestIn,modelPred)"
   ]
  },
  {
   "cell_type": "code",
   "execution_count": 160,
   "metadata": {},
   "outputs": [],
   "source": [
    "predictProb = clf.predict_proba(featureTest)[:,1]"
   ]
  },
  {
   "cell_type": "code",
   "execution_count": 161,
   "metadata": {},
   "outputs": [
    {
     "name": "stdout",
     "output_type": "stream",
     "text": [
      "Normalized confusion matrix\n",
      "[[8.32e-01 1.68e-01]\n",
      " [6.24e-04 9.99e-01]]\n",
      "total accuracy = 0.9970\n"
     ]
    },
    {
     "data": {
      "image/png": "[encoded data removed]",
      "text/plain": [
       "<Figure size 432x288 with 2 Axes>"
      ]
     },
     "metadata": {
      "needs_background": "light"
     },
     "output_type": "display_data"
    }
   ],
   "source": [
    "#What is the confusion matrix?\n",
    "\n",
    "classThreshold =.5\n",
    "modelPredThresh=1*(predictProb >= classThreshold)\n",
    "\n",
    "# Compute confusion matrix\n",
    "cnfMatrix = confusion_matrix(targetTestIn , modelPredThresh)\n",
    "np.set_printoptions(precision=2)\n",
    "\n",
    "# Plot normalized confusion matrix\n",
    "classNames = ['bad data point','good data point']\n",
    "plotConfusionMatrix(cnfMatrix, classes=classNames,normalize=True,\n",
    "                    title='Confusion matrix, with normalization')\n",
    "plt.show()\n"
   ]
  },
  {
   "cell_type": "code",
   "execution_count": 162,
   "metadata": {},
   "outputs": [],
   "source": [
    "# Now testing the more complicated model with the sci kit learn options\n",
    "\n",
    "featureNames = ['primary','primaryPrev6','primaryNext6','sigma','backup','prediction','residual',\n",
    "                              'residualPrev6','residualNext6','primaryTruePrev6','primaryTrueNext6',\n",
    "                              'sigmaTrue','backupTrue','dataCountPrev12h','residualMeanPrev12h','residualStdPrev12h']\n",
    "\n",
    "featureTrain=trainRand.loc[:, featureNames]\n",
    "featureTest=testRand.loc[:, featureNames]\n",
    "\n",
    "targetTrain=trainRand.loc[:,['targets']]\n",
    "targetTest=testRand.loc[:,['targets']]\n",
    "\n",
    "\n",
    "predictFeatures = testScaled.loc[:, featureNames]\n",
    "predictTargets = testScaled.loc[:,['targets']]"
   ]
  },
  {
   "cell_type": "code",
   "execution_count": 163,
   "metadata": {},
   "outputs": [],
   "source": [
    "#This is to prep targets for fitting in scikit-learn\n",
    "targetTrainIn=np.ravel(targetTrain)\n",
    "targetTestIn=np.ravel(targetTest)"
   ]
  },
  {
   "cell_type": "code",
   "execution_count": 164,
   "metadata": {},
   "outputs": [
    {
     "name": "stderr",
     "output_type": "stream",
     "text": [
      "/home/jupyter-greg-dusek/.conda/envs/wlai/lib/python3.6/site-packages/sklearn/linear_model/logistic.py:432: FutureWarning: Default solver will be changed to 'lbfgs' in 0.22. Specify a solver to silence this warning.\n",
      "  FutureWarning)\n"
     ]
    },
    {
     "name": "stdout",
     "output_type": "stream",
     "text": [
      "CPU times: user 4.82 s, sys: 672 ms, total: 5.49 s\n",
      "Wall time: 5.49 s\n"
     ]
    },
    {
     "data": {
      "text/plain": [
       "LogisticRegression(C=1.0, class_weight=None, dual=False, fit_intercept=True,\n",
       "                   intercept_scaling=1, l1_ratio=None, max_iter=10000,\n",
       "                   multi_class='warn', n_jobs=None, penalty='l2',\n",
       "                   random_state=None, solver='warn', tol=0.0001, verbose=0,\n",
       "                   warm_start=False)"
      ]
     },
     "execution_count": 164,
     "metadata": {},
     "output_type": "execute_result"
    }
   ],
   "source": [
    "%%time\n",
    "# Fitting a Logistic Regression\n",
    "from sklearn.linear_model import LogisticRegression\n",
    "clf = LogisticRegression(max_iter=10000)\n",
    "clf.fit(featureTrain, targetTrainIn)"
   ]
  },
  {
   "cell_type": "code",
   "execution_count": 165,
   "metadata": {},
   "outputs": [
    {
     "name": "stdout",
     "output_type": "stream",
     "text": [
      "Accuracy on the train dataset is 0.9797812736387297\n"
     ]
    }
   ],
   "source": [
    "# prediction on the training dataset\n",
    "trainAccuracy = 1 - np.sum(np.abs(clf.predict(featureTrain) - targetTrainIn))/len(targetTrainIn)\n",
    "print('Accuracy on the train dataset is '+ str(trainAccuracy))"
   ]
  },
  {
   "cell_type": "code",
   "execution_count": 166,
   "metadata": {},
   "outputs": [
    {
     "name": "stdout",
     "output_type": "stream",
     "text": [
      "Accuracy on the test dataset is 0.9912958275893089\n"
     ]
    }
   ],
   "source": [
    "# prediction on the testing dataset\n",
    "testAccuracy = 1 - np.sum(np.abs(clf.predict(featureTest) - targetTestIn))/len(targetTestIn)\n",
    "print('Accuracy on the test dataset is '+ str(testAccuracy))"
   ]
  },
  {
   "cell_type": "code",
   "execution_count": 167,
   "metadata": {},
   "outputs": [
    {
     "data": {
      "text/plain": [
       "0.3832080330755634"
      ]
     },
     "execution_count": 167,
     "metadata": {},
     "output_type": "execute_result"
    }
   ],
   "source": [
    "#What is the Brier Skill Score\n",
    "# Function to calculate the Brier Skill Score\n",
    "modelPred = clf.predict(featureTest)\n",
    "BSS(trainScaled['targets'], modelPred, targetTestIn)\n"
   ]
  },
  {
   "cell_type": "code",
   "execution_count": 168,
   "metadata": {},
   "outputs": [
    {
     "data": {
      "text/plain": [
       "0.7581820374819324"
      ]
     },
     "execution_count": 168,
     "metadata": {},
     "output_type": "execute_result"
    }
   ],
   "source": [
    "#What is the Area under the ROC\n",
    "roc(targetTestIn,modelPred)"
   ]
  },
  {
   "cell_type": "code",
   "execution_count": 169,
   "metadata": {},
   "outputs": [],
   "source": [
    "predictProb = clf.predict_proba(featureTest)[:,1]"
   ]
  },
  {
   "cell_type": "code",
   "execution_count": 170,
   "metadata": {},
   "outputs": [
    {
     "name": "stdout",
     "output_type": "stream",
     "text": [
      "Normalized confusion matrix\n",
      "[[0.52 0.48]\n",
      " [0.   1.  ]]\n",
      "total accuracy = 0.9913\n"
     ]
    },
    {
     "data": {
      "image/png": "[encoded data removed]",
      "text/plain": [
       "<Figure size 432x288 with 2 Axes>"
      ]
     },
     "metadata": {
      "needs_background": "light"
     },
     "output_type": "display_data"
    }
   ],
   "source": [
    "#What is the confusion matrix?\n",
    "\n",
    "classThreshold =.5\n",
    "modelPredThresh=1*(predictProb >= classThreshold)\n",
    "\n",
    "# Compute confusion matrix\n",
    "cnfMatrix = confusion_matrix(targetTestIn , modelPredThresh)\n",
    "np.set_printoptions(precision=2)\n",
    "\n",
    "# Plot normalized confusion matrix\n",
    "classNames = ['bad data point','good data point']\n",
    "plotConfusionMatrix(cnfMatrix, classes=classNames,normalize=True,\n",
    "                    title='Confusion matrix, with normalization')\n",
    "plt.show()\n"
   ]
  },
  {
   "cell_type": "code",
   "execution_count": 171,
   "metadata": {},
   "outputs": [
    {
     "name": "stdout",
     "output_type": "stream",
     "text": [
      "CPU times: user 15min 1s, sys: 252 ms, total: 15min 1s\n",
      "Wall time: 1min 54s\n"
     ]
    },
    {
     "data": {
      "text/plain": [
       "RandomForestClassifier(bootstrap=True, class_weight=None, criterion='gini',\n",
       "                       max_depth=20, max_features='auto', max_leaf_nodes=None,\n",
       "                       min_impurity_decrease=0.0, min_impurity_split=None,\n",
       "                       min_samples_leaf=2, min_samples_split=2,\n",
       "                       min_weight_fraction_leaf=0.0, n_estimators=200,\n",
       "                       n_jobs=-1, oob_score=False, random_state=None, verbose=0,\n",
       "                       warm_start=False)"
      ]
     },
     "execution_count": 171,
     "metadata": {},
     "output_type": "execute_result"
    }
   ],
   "source": [
    "%%time\n",
    "from sklearn.ensemble import RandomForestClassifier\n",
    "# Fitting a Random Forest\n",
    "clf = RandomForestClassifier(n_estimators=200, n_jobs=-1, max_depth=20, min_samples_leaf=2)\n",
    "clf.fit(featureTrain, targetTrainIn)"
   ]
  },
  {
   "cell_type": "code",
   "execution_count": 172,
   "metadata": {},
   "outputs": [
    {
     "name": "stdout",
     "output_type": "stream",
     "text": [
      "Accuracy on the train dataset is 0.9980953683403777\n"
     ]
    }
   ],
   "source": [
    "# prediction on the training dataset\n",
    "trainAccuracy = 1 - np.sum(np.abs(clf.predict(featureTrain) - targetTrainIn))/len(targetTrainIn)\n",
    "print('Accuracy on the train dataset is '+ str(trainAccuracy))"
   ]
  },
  {
   "cell_type": "code",
   "execution_count": 173,
   "metadata": {},
   "outputs": [
    {
     "name": "stdout",
     "output_type": "stream",
     "text": [
      "Accuracy on the test dataset is 0.9972465152918694\n"
     ]
    }
   ],
   "source": [
    "# prediction on the testing dataset\n",
    "testAccuracy = 1 - np.sum(np.abs(clf.predict(featureTest) - targetTestIn))/len(targetTestIn)\n",
    "print('Accuracy on the test dataset is '+ str(testAccuracy))"
   ]
  },
  {
   "cell_type": "code",
   "execution_count": 174,
   "metadata": {},
   "outputs": [
    {
     "name": "stdout",
     "output_type": "stream",
     "text": [
      "primary 0.02413659629968086\n",
      "primaryPrev6 0.007821293760235147\n",
      "primaryNext6 0.017025669741942567\n",
      "sigma 0.23074690247263024\n",
      "backup 0.007548143059587883\n",
      "prediction 0.003281043215534196\n",
      "residual 0.12763910684199764\n",
      "residualPrev6 0.09288084982459228\n",
      "residualNext6 0.0930483045452845\n",
      "primaryTruePrev6 2.6803877175063746e-05\n",
      "primaryTrueNext6 1.7788982145983658e-05\n",
      "sigmaTrue 0.016685024593134343\n",
      "backupTrue 0.0005212386481419835\n",
      "dataCountPrev12h 0.0017196637721989606\n",
      "residualMeanPrev12h 0.05575395002706904\n",
      "residualStdPrev12h 0.3211476203386494\n"
     ]
    }
   ],
   "source": [
    "#What is the feature importance?\n",
    "for name, score in zip(featureTrain.columns, clf.feature_importances_):\n",
    "    print(name, score)"
   ]
  },
  {
   "cell_type": "code",
   "execution_count": 175,
   "metadata": {},
   "outputs": [
    {
     "data": {
      "text/plain": [
       "0.8048835467759987"
      ]
     },
     "execution_count": 175,
     "metadata": {},
     "output_type": "execute_result"
    }
   ],
   "source": [
    "#What is the Brier Skill Score\n",
    "# Function to calculate the Brier Skill Score\n",
    "modelPred = clf.predict(featureTest)\n",
    "BSS(trainScaled['targets'], modelPred, targetTestIn)\n"
   ]
  },
  {
   "cell_type": "code",
   "execution_count": 176,
   "metadata": {},
   "outputs": [
    {
     "data": {
      "text/plain": [
       "0.9153173187444195"
      ]
     },
     "execution_count": 176,
     "metadata": {},
     "output_type": "execute_result"
    }
   ],
   "source": [
    "roc(targetTestIn,modelPred)"
   ]
  },
  {
   "cell_type": "code",
   "execution_count": 177,
   "metadata": {},
   "outputs": [],
   "source": [
    "predictProb = clf.predict_proba(featureTest)[:,1]"
   ]
  },
  {
   "cell_type": "code",
   "execution_count": 178,
   "metadata": {},
   "outputs": [
    {
     "name": "stdout",
     "output_type": "stream",
     "text": [
      "Normalized confusion matrix\n",
      "[[8.31e-01 1.69e-01]\n",
      " [3.44e-04 1.00e+00]]\n",
      "total accuracy = 0.9972\n"
     ]
    },
    {
     "data": {
      "image/png": "[encoded data removed]",
      "text/plain": [
       "<Figure size 432x288 with 2 Axes>"
      ]
     },
     "metadata": {
      "needs_background": "light"
     },
     "output_type": "display_data"
    }
   ],
   "source": [
    "#What is the confusion matrix?\n",
    "\n",
    "classThreshold =.5\n",
    "modelPredThresh=1*(predictProb >= classThreshold)\n",
    "\n",
    "# Compute confusion matrix\n",
    "cnfMatrix = confusion_matrix(targetTestIn , modelPredThresh)\n",
    "np.set_printoptions(precision=2)\n",
    "\n",
    "# Plot normalized confusion matrix\n",
    "classNames = ['bad data point','good data point']\n",
    "plotConfusionMatrix(cnfMatrix, classes=classNames,normalize=True,\n",
    "                    title='Confusion matrix, with normalization')\n",
    "plt.show()\n"
   ]
  },
  {
   "cell_type": "code",
   "execution_count": 184,
   "metadata": {},
   "outputs": [
    {
     "name": "stdout",
     "output_type": "stream",
     "text": [
      "CPU times: user 3min 52s, sys: 54.8 ms, total: 3min 52s\n",
      "Wall time: 3min 52s\n"
     ]
    },
    {
     "data": {
      "text/plain": [
       "GradientBoostingClassifier(criterion='friedman_mse', init=None,\n",
       "                           learning_rate=0.1, loss='deviance', max_depth=3,\n",
       "                           max_features=None, max_leaf_nodes=None,\n",
       "                           min_impurity_decrease=0.0, min_impurity_split=None,\n",
       "                           min_samples_leaf=1, min_samples_split=2,\n",
       "                           min_weight_fraction_leaf=0.0, n_estimators=200,\n",
       "                           n_iter_no_change=None, presort='auto',\n",
       "                           random_state=None, subsample=1.0, tol=0.0001,\n",
       "                           validation_fraction=0.1, verbose=0,\n",
       "                           warm_start=False)"
      ]
     },
     "execution_count": 184,
     "metadata": {},
     "output_type": "execute_result"
    }
   ],
   "source": [
    "%%time\n",
    "# Fitting a Gradient Boost\n",
    "from sklearn.ensemble import GradientBoostingClassifier\n",
    "clf = GradientBoostingClassifier(learning_rate=0.1, n_estimators=200)\n",
    "clf.fit(featureTrain, targetTrainIn)"
   ]
  },
  {
   "cell_type": "code",
   "execution_count": 185,
   "metadata": {},
   "outputs": [
    {
     "name": "stdout",
     "output_type": "stream",
     "text": [
      "Accuracy on the train dataset is 0.9949470991049514\n"
     ]
    }
   ],
   "source": [
    "# prediction on the training dataset\n",
    "trainAccuracy = 1 - np.sum(np.abs(clf.predict(featureTrain) - targetTrainIn))/len(targetTrainIn)\n",
    "print('Accuracy on the train dataset is '+ str(trainAccuracy))"
   ]
  },
  {
   "cell_type": "code",
   "execution_count": 186,
   "metadata": {},
   "outputs": [
    {
     "name": "stdout",
     "output_type": "stream",
     "text": [
      "Accuracy on the test dataset is 0.9969814999866277\n"
     ]
    }
   ],
   "source": [
    "# prediction on the testing dataset\n",
    "testAccuracy = 1 - np.sum(np.abs(clf.predict(featureTest) - targetTestIn))/len(targetTestIn)\n",
    "print('Accuracy on the test dataset is '+ str(testAccuracy))"
   ]
  },
  {
   "cell_type": "code",
   "execution_count": 187,
   "metadata": {},
   "outputs": [
    {
     "data": {
      "text/plain": [
       "0.7861041265539978"
      ]
     },
     "execution_count": 187,
     "metadata": {},
     "output_type": "execute_result"
    }
   ],
   "source": [
    "#What is the Brier Skill Score\n",
    "# Function to calculate the Brier Skill Score\n",
    "modelPred = clf.predict(featureTest)\n",
    "BSS(trainScaled['targets'], modelPred, targetTestIn)"
   ]
  },
  {
   "cell_type": "code",
   "execution_count": 188,
   "metadata": {},
   "outputs": [
    {
     "data": {
      "text/plain": [
       "0.914931271613282"
      ]
     },
     "execution_count": 188,
     "metadata": {},
     "output_type": "execute_result"
    }
   ],
   "source": [
    "roc(targetTestIn,modelPred)"
   ]
  },
  {
   "cell_type": "code",
   "execution_count": 189,
   "metadata": {},
   "outputs": [],
   "source": [
    "predictProb = clf.predict_proba(featureTest)[:,1]"
   ]
  },
  {
   "cell_type": "code",
   "execution_count": 190,
   "metadata": {},
   "outputs": [
    {
     "name": "stdout",
     "output_type": "stream",
     "text": [
      "Normalized confusion matrix\n",
      "[[8.30e-01 1.70e-01]\n",
      " [6.06e-04 9.99e-01]]\n",
      "total accuracy = 0.9970\n"
     ]
    },
    {
     "data": {
      "image/png": "[encoded data removed]",
      "text/plain": [
       "<Figure size 432x288 with 2 Axes>"
      ]
     },
     "metadata": {
      "needs_background": "light"
     },
     "output_type": "display_data"
    }
   ],
   "source": [
    "#What is the confusion matrix?\n",
    "\n",
    "classThreshold =.5\n",
    "modelPredThresh=1*(predictProb >= classThreshold)\n",
    "\n",
    "# Compute confusion matrix\n",
    "cnfMatrix = confusion_matrix(targetTestIn , modelPredThresh)\n",
    "np.set_printoptions(precision=2)\n",
    "\n",
    "# Plot normalized confusion matrix\n",
    "classNames = ['bad data point','good data point']\n",
    "plotConfusionMatrix(cnfMatrix, classes=classNames,normalize=True,\n",
    "                    title='Confusion matrix, with normalization')\n",
    "plt.show()\n"
   ]
  },
  {
   "cell_type": "code",
   "execution_count": null,
   "metadata": {},
   "outputs": [],
   "source": []
  }
 ],
 "metadata": {
  "kernelspec": {
   "display_name": "wlaiTest",
   "language": "python",
   "name": "wlaitest"
  },
  "language_info": {
   "codemirror_mode": {
    "name": "ipython",
    "version": 3
   },
   "file_extension": ".py",
   "mimetype": "text/x-python",
   "name": "python",
   "nbconvert_exporter": "python",
   "pygments_lexer": "ipython3",
   "version": "3.8.2"
  }
 },
 "nbformat": 4,
 "nbformat_minor": 4
}
