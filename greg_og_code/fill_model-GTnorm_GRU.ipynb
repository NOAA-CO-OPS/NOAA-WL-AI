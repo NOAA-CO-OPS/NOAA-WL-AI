{
 "cells": [
  {
   "cell_type": "markdown",
   "metadata": {},
   "source": [
    "This is to start exporing gap filling"
   ]
  },
  {
   "cell_type": "code",
   "execution_count": 34,
   "metadata": {},
   "outputs": [],
   "source": [
    "%matplotlib inline\n",
    "\n",
    "import os\n",
    "from pathlib import Path\n",
    "import pandas as pd\n",
    "import datetime\n",
    "import matplotlib.pyplot as plt\n",
    "import matplotlib\n",
    "import numpy as np\n",
    "import itertools\n",
    "import dill\n",
    "from scipy import io\n",
    "from sklearn.utils import shuffle\n",
    "from sklearn import preprocessing\n",
    "from sklearn.metrics import confusion_matrix\n",
    "from sklearn.metrics import mean_absolute_error\n",
    "from keras.models import Sequential\n",
    "from keras.layers import Dense, Activation, Dropout, GRU\n",
    "from keras import regularizers\n",
    "from keras import optimizers\n",
    "from keras.models import load_model\n",
    "from keras.callbacks import ModelCheckpoint\n",
    "#My helper functions\n",
    "from modelNN_functions import assessTrainTestData\n",
    "from modelNN_functions import plotConfusionMatrix\n",
    "from modelNN_functions import pandasToMat"
   ]
  },
  {
   "cell_type": "code",
   "execution_count": 2,
   "metadata": {},
   "outputs": [],
   "source": [
    "#dill.dump_session('notebook_fillModel.db')\n",
    "#dill.load_session('notebook_fillModel.db')"
   ]
  },
  {
   "cell_type": "code",
   "execution_count": 35,
   "metadata": {},
   "outputs": [],
   "source": [
    "def runNNmodel(featureTrain, targetTrain, featureTest, targetTest, predictFeatures, predictTargets, \n",
    "               epochCount, batchCount, numFeatures):\n",
    "\n",
    "    \"\"\"\n",
    "    where: \n",
    "        featureTrain = features used in training the model\n",
    "        targetTrain = targets (verified water level obs) used in training the model\n",
    "        featureTest = features used for validation\n",
    "        targetTest = targets (verified water level obs) used for valdation\n",
    "        predictFeatures = the features for the model predictions\n",
    "        predictTargets = the targets for the model predictions\n",
    "        epochCount = number of training cycles to use for NN model (10-20 seems reasonable)\n",
    "        batchCount = the batch size to use when training (somewhere from 32-256 seems reasonable)\n",
    "        numFeatures = the number of input features in the NN model\n",
    "    \"\"\"\n",
    "\n",
    "    #First define the keras NN framework to be used\n",
    "    # For a regression model\n",
    "    model = Sequential()\n",
    "    model.add(GRU(64,input_shape=(None, numFeatures), return_sequences=True))\n",
    "    model.add(GRU(64,input_shape=(None, numFeatures)))\n",
    "    model.add(Dense(1))\n",
    "    #Changing the learning rate from 0.001 (default) to speed up convergence\n",
    "    adamOpt = optimizers.Adam(learning_rate=0.001)\n",
    "    model.compile(optimizer=adamOpt,\n",
    "                  loss='mse',\n",
    "                  metrics=['mae'])\n",
    "    \n",
    "    #Set up the model checkpoint\n",
    "    # checkpoint\n",
    "    filepath=\"fillmodel_best.hdf5\"\n",
    "    checkpoint = ModelCheckpoint(filepath, monitor='val_loss', verbose=0, save_best_only=True, mode='min')\n",
    "    callbacks_list = [checkpoint]\n",
    "    \n",
    "    # Train the model, iterating on the data in batches of X # samples (somewhere between 32 - 256)\n",
    "    history = model.fit(featureTrain, targetTrain, epochs=epochCount, batch_size=batchCount, validation_data=(featureTest, targetTest),callbacks=callbacks_list)\n",
    "    \n",
    "    #Evaulate the model\n",
    "    eval_model=model.evaluate(featureTest, targetTest)\n",
    "    eval_model\n",
    "    \n",
    "    #Plot the NN loss over each epoch\n",
    "    fig, ax = plt.subplots()\n",
    "    ax.plot(history.history['loss'])\n",
    "    ax.plot(history.history['val_loss'])\n",
    "    ax.legend(['Training','Validation'])\n",
    "    plt.show()\n",
    "    #fig.savefig('NN_modelTrainingHistory.png')\n",
    "\n",
    "    #Generate model predictions for the validation period\n",
    "    #modelPrediction = model.predict(predictFeatures, batch_size=32)\n",
    "    \n",
    "    modelOut = pd.DataFrame()\n",
    "    #modelOut['verified'] = predictTargets['verified']\n",
    "    #modelOut['modelPrediction']=modelPrediction[:,0]    \n",
    "    \n",
    "    return modelOut, model\n"
   ]
  },
  {
   "cell_type": "code",
   "execution_count": 3,
   "metadata": {},
   "outputs": [],
   "source": [
    "def makeVectors(df, columnName, win):\n",
    "    \"\"\"\n",
    "    Where df is the dataframe, dfColumns are the column names that we want to vectorize and win is the window size\n",
    "    This is for making a window vector for each of the quantities instead, with the primary always having 0 at the center point\n",
    "    \"\"\"\n",
    "    dfColumn = df[columnName]\n",
    "    startInd = win // 2\n",
    "    stopInd = -1*(win // 2)\n",
    "    \n",
    "    as_strided = np.lib.stride_tricks.as_strided  \n",
    "    \n",
    "    v = as_strided(dfColumn, (len(dfColumn) - (win - 1), win), (dfColumn.values.strides * 2))\n",
    "    newColumn = pd.Series(v.tolist(), index=dfColumn.index[startInd:stopInd])\n",
    "    \n",
    "    #If the column name is primary, primary True or residual I need to remove the center point and put 0s there\n",
    "    if (columnName == 'primary') or (columnName == 'primaryTrue') or (columnName == 'residual'):\n",
    "        print('adding 0s to center of vectors')\n",
    "        \n",
    "        for i in range(len(newColumn.index)):\n",
    "            newColumn.iloc[i][startInd] = 0\n",
    "    \n",
    "    return newColumn\n"
   ]
  },
  {
   "cell_type": "code",
   "execution_count": 4,
   "metadata": {},
   "outputs": [],
   "source": [
    "cleaned = pd.read_pickle(Path(\"pickle_files/8536110_cm_raw_ver_merged_wl_Cleaned\"))\n",
    "neighbor = pd.read_pickle(Path(\"pickle_files/8557380_lewes_raw_ver_merged_wl_Cleaned\"))\n",
    "\n",
    "#cleaned = pd.read_pickle(Path(\"pickle_files/8557380_lewes_raw_ver_merged_wl_Cleaned\"))\n",
    "#neighbor = pd.read_pickle(Path(\"pickle_files/8536110_cm_raw_ver_merged_wl_Cleaned\"))\n",
    "\n",
    "#cleaned = pd.read_pickle(Path(\"pickle_files/8534720_ac_raw_ver_merged_wl_Cleaned\"))\n",
    "#neighbor = pd.read_pickle(Path(\"pickle_files/8536110_cm_raw_ver_merged_wl_Cleaned\"))\n",
    "\n",
    "#cleaned = pd.read_pickle(Path(\"pickle_files/8443970_boston_raw_ver_merged_wl_Cleaned\"))\n",
    "#neighbor = pd.read_pickle(Path(\"pickle_files/8418150_portland_raw_ver_merged_wl_Cleaned\"))\n",
    "\n",
    "#cleaned = pd.read_pickle(Path(\"pickle_files/8418150_portland_raw_ver_merged_wl_Cleaned\"))\n",
    "#neighbor = pd.read_pickle(Path(\"pickle_files/8443970_boston_raw_ver_merged_wl_Cleaned\"))\n"
   ]
  },
  {
   "cell_type": "code",
   "execution_count": 5,
   "metadata": {},
   "outputs": [],
   "source": [
    "#IMPT if you run this cell twice it will mess up since I am replacing all the NaNs (e.g. the next time through will have none)\n",
    "\n",
    "primaryTrue = cleaned['primary'].notnull()\n",
    "cleaned['primaryTrue'] = primaryTrue * 1\n",
    "\n",
    "sigmaTrue = cleaned['sigma'].notnull()\n",
    "cleaned['sigmaTrue'] = sigmaTrue * 1\n",
    "\n",
    "backupTrue = cleaned['backup'].notnull()\n",
    "cleaned['backupTrue'] = backupTrue * 1\n",
    "\n",
    "cleaned['primary'].fillna(value=0, inplace = True)\n",
    "cleaned['sigma'].fillna(value=0, inplace = True)\n",
    "cleaned['backup'].fillna(value=0, inplace = True)\n",
    "cleaned['residual'].fillna(value=0, inplace = True)\n",
    "cleaned['targets'].fillna(value=0, inplace = True)\n",
    "\n",
    "#If the primary or residual was deamed bad, we should also be setting the value to 0, since it would be dropped\n",
    "cleaned['primary']=cleaned['primary']*cleaned['targets']\n",
    "cleaned['primaryTrue']=cleaned['primaryTrue']*cleaned['targets']\n",
    "cleaned['residual']=cleaned['residual']*cleaned['targets']\n",
    "\n",
    "\n"
   ]
  },
  {
   "cell_type": "code",
   "execution_count": 6,
   "metadata": {},
   "outputs": [],
   "source": [
    "# THIS IS THE SAME PROCESS BUT FOR THE NEIGHBOR STATION RESIDUAL\n",
    "\n",
    "neighborResidualTrue = neighbor['residual'].notnull()\n",
    "neighbor['residualTrue'] = neighborResidualTrue * 1\n",
    "\n",
    "neighbor['residual'].fillna(value=0, inplace = True)\n",
    "neighbor['targets'].fillna(value=0, inplace = True)\n",
    "\n",
    "neighbor['residual']=neighbor['residual']*neighbor['targets']\n",
    "neighbor['residualTrue']=neighbor['residualTrue']*neighbor['targets']"
   ]
  },
  {
   "cell_type": "code",
   "execution_count": 7,
   "metadata": {},
   "outputs": [],
   "source": [
    "#Now add neighbor residual to the main cleaned dataframe\n",
    "cleaned['neighborResidual']=neighbor['residual']\n",
    "cleaned['neighborResidualTrue']=neighbor['residualTrue']"
   ]
  },
  {
   "cell_type": "code",
   "execution_count": 8,
   "metadata": {},
   "outputs": [],
   "source": [
    "cleaned['primary'] = cleaned['primary'].mask(cleaned['primary'] >5, 0)\n",
    "cleaned['primary'] = cleaned['primary'].mask(cleaned['primary'] < -5, 0)\n",
    "\n",
    "cleaned['backup'] = cleaned['backup'].mask(cleaned['backup'] >5, 0)\n",
    "cleaned['backup'] = cleaned['backup'].mask(cleaned['backup'] < -5, 0)\n",
    "\n",
    "cleaned['residual'] = cleaned['residual'].mask(cleaned['residual'] >5, 0)\n",
    "cleaned['residual'] = cleaned['residual'].mask(cleaned['residual'] < -5, 0)\n",
    "\n",
    "cleaned['sigma'] = cleaned['sigma'].mask(cleaned['sigma'] > 1, 1)\n",
    "cleaned['sigma'] = cleaned['sigma'].mask(cleaned['sigma'] < 0, 0)\n",
    "\n",
    "cleaned['neighborResidual'] = cleaned['neighborResidual'].mask(cleaned['neighborResidual'] >5, 0)\n",
    "cleaned['neighborResidual'] = cleaned['neighborResidual'].mask(cleaned['neighborResidual'] < -5, 0)"
   ]
  },
  {
   "cell_type": "code",
   "execution_count": 9,
   "metadata": {},
   "outputs": [
    {
     "data": {
      "text/html": [
       "<div>\n",
       "<style scoped>\n",
       "    .dataframe tbody tr th:only-of-type {\n",
       "        vertical-align: middle;\n",
       "    }\n",
       "\n",
       "    .dataframe tbody tr th {\n",
       "        vertical-align: top;\n",
       "    }\n",
       "\n",
       "    .dataframe thead th {\n",
       "        text-align: right;\n",
       "    }\n",
       "</style>\n",
       "<table border=\"1\" class=\"dataframe\">\n",
       "  <thead>\n",
       "    <tr style=\"text-align: right;\">\n",
       "      <th></th>\n",
       "      <th>primary</th>\n",
       "      <th>sigma</th>\n",
       "      <th>backup</th>\n",
       "      <th>verified</th>\n",
       "      <th>prediction</th>\n",
       "      <th>residual</th>\n",
       "      <th>targets</th>\n",
       "      <th>primaryTrue</th>\n",
       "      <th>sigmaTrue</th>\n",
       "      <th>backupTrue</th>\n",
       "      <th>neighborResidual</th>\n",
       "      <th>neighborResidualTrue</th>\n",
       "    </tr>\n",
       "    <tr>\n",
       "      <th>time</th>\n",
       "      <th></th>\n",
       "      <th></th>\n",
       "      <th></th>\n",
       "      <th></th>\n",
       "      <th></th>\n",
       "      <th></th>\n",
       "      <th></th>\n",
       "      <th></th>\n",
       "      <th></th>\n",
       "      <th></th>\n",
       "      <th></th>\n",
       "      <th></th>\n",
       "    </tr>\n",
       "  </thead>\n",
       "  <tbody>\n",
       "    <tr>\n",
       "      <th>2007-01-01 00:00:00</th>\n",
       "      <td>0.276673</td>\n",
       "      <td>0.006</td>\n",
       "      <td>0.268837</td>\n",
       "      <td>0.459</td>\n",
       "      <td>0.232068</td>\n",
       "      <td>0.074</td>\n",
       "      <td>1.0</td>\n",
       "      <td>1.0</td>\n",
       "      <td>1</td>\n",
       "      <td>1</td>\n",
       "      <td>0.068</td>\n",
       "      <td>1.0</td>\n",
       "    </tr>\n",
       "    <tr>\n",
       "      <th>2007-01-01 00:06:00</th>\n",
       "      <td>0.263412</td>\n",
       "      <td>0.005</td>\n",
       "      <td>0.256178</td>\n",
       "      <td>0.437</td>\n",
       "      <td>0.220012</td>\n",
       "      <td>0.072</td>\n",
       "      <td>1.0</td>\n",
       "      <td>1.0</td>\n",
       "      <td>1</td>\n",
       "      <td>1</td>\n",
       "      <td>0.064</td>\n",
       "      <td>1.0</td>\n",
       "    </tr>\n",
       "    <tr>\n",
       "      <th>2007-01-01 00:12:00</th>\n",
       "      <td>0.241109</td>\n",
       "      <td>0.006</td>\n",
       "      <td>0.233876</td>\n",
       "      <td>0.400</td>\n",
       "      <td>0.207354</td>\n",
       "      <td>0.056</td>\n",
       "      <td>1.0</td>\n",
       "      <td>1.0</td>\n",
       "      <td>1</td>\n",
       "      <td>1</td>\n",
       "      <td>0.055</td>\n",
       "      <td>1.0</td>\n",
       "    </tr>\n",
       "    <tr>\n",
       "      <th>2007-01-01 00:18:00</th>\n",
       "      <td>0.226643</td>\n",
       "      <td>0.006</td>\n",
       "      <td>0.218807</td>\n",
       "      <td>0.376</td>\n",
       "      <td>0.193490</td>\n",
       "      <td>0.055</td>\n",
       "      <td>1.0</td>\n",
       "      <td>1.0</td>\n",
       "      <td>1</td>\n",
       "      <td>1</td>\n",
       "      <td>0.059</td>\n",
       "      <td>1.0</td>\n",
       "    </tr>\n",
       "    <tr>\n",
       "      <th>2007-01-01 00:24:00</th>\n",
       "      <td>0.213382</td>\n",
       "      <td>0.006</td>\n",
       "      <td>0.206148</td>\n",
       "      <td>0.354</td>\n",
       "      <td>0.179024</td>\n",
       "      <td>0.057</td>\n",
       "      <td>1.0</td>\n",
       "      <td>1.0</td>\n",
       "      <td>1</td>\n",
       "      <td>1</td>\n",
       "      <td>0.042</td>\n",
       "      <td>1.0</td>\n",
       "    </tr>\n",
       "  </tbody>\n",
       "</table>\n",
       "</div>"
      ],
      "text/plain": [
       "                      primary  sigma    backup  verified  prediction  \\\n",
       "time                                                                   \n",
       "2007-01-01 00:00:00  0.276673  0.006  0.268837     0.459    0.232068   \n",
       "2007-01-01 00:06:00  0.263412  0.005  0.256178     0.437    0.220012   \n",
       "2007-01-01 00:12:00  0.241109  0.006  0.233876     0.400    0.207354   \n",
       "2007-01-01 00:18:00  0.226643  0.006  0.218807     0.376    0.193490   \n",
       "2007-01-01 00:24:00  0.213382  0.006  0.206148     0.354    0.179024   \n",
       "\n",
       "                     residual  targets  primaryTrue  sigmaTrue  backupTrue  \\\n",
       "time                                                                         \n",
       "2007-01-01 00:00:00     0.074      1.0          1.0          1           1   \n",
       "2007-01-01 00:06:00     0.072      1.0          1.0          1           1   \n",
       "2007-01-01 00:12:00     0.056      1.0          1.0          1           1   \n",
       "2007-01-01 00:18:00     0.055      1.0          1.0          1           1   \n",
       "2007-01-01 00:24:00     0.057      1.0          1.0          1           1   \n",
       "\n",
       "                     neighborResidual  neighborResidualTrue  \n",
       "time                                                         \n",
       "2007-01-01 00:00:00             0.068                   1.0  \n",
       "2007-01-01 00:06:00             0.064                   1.0  \n",
       "2007-01-01 00:12:00             0.055                   1.0  \n",
       "2007-01-01 00:18:00             0.059                   1.0  \n",
       "2007-01-01 00:24:00             0.042                   1.0  "
      ]
     },
     "execution_count": 9,
     "metadata": {},
     "output_type": "execute_result"
    }
   ],
   "source": [
    "#Scaling - trying scaling by the Great Diurnal range, and NOT scaling residual.  The residual is fairly normally distributed about 0 and the observed and predicted values run pretty consistently \n",
    "#between -1 and 1 when scaled by the GDT range.\n",
    "\n",
    "CapeMayRange=1.659\n",
    "GDTrange = CapeMayRange\n",
    "\n",
    "#What columns are being Scaled\n",
    "names = ['primary','backup','prediction']\n",
    "# Fit your data on the scaler object\n",
    "cleanedScaled=cleaned.copy()\n",
    "cleanedScaled.loc[:,names] = cleanedScaled.loc[:,names] / GDTrange\n",
    "\n",
    "cleanedScaled.head()"
   ]
  },
  {
   "cell_type": "code",
   "execution_count": 10,
   "metadata": {},
   "outputs": [
    {
     "name": "stdout",
     "output_type": "stream",
     "text": [
      "adding 0s to center of vectors\n",
      "adding 0s to center of vectors\n",
      "adding 0s to center of vectors\n"
     ]
    }
   ],
   "source": [
    "#Add necessary vectors (effectively all inputs / features)\n",
    "featureNamesIn = ['primary', 'backup', 'prediction', 'residual', 'neighborResidual', 'primaryTrue', 'backupTrue', 'neighborResidualTrue']\n",
    "\n",
    "for name in featureNamesIn:\n",
    "    cleanedScaled[name+'Vec'] = makeVectors(cleanedScaled,name, 9)\n",
    "    cleanedScaled[name+'Vec'] = cleanedScaled[name+'Vec'].apply(lambda x: np.array(x))"
   ]
  },
  {
   "cell_type": "code",
   "execution_count": 11,
   "metadata": {},
   "outputs": [
    {
     "data": {
      "text/html": [
       "<div>\n",
       "<style scoped>\n",
       "    .dataframe tbody tr th:only-of-type {\n",
       "        vertical-align: middle;\n",
       "    }\n",
       "\n",
       "    .dataframe tbody tr th {\n",
       "        vertical-align: top;\n",
       "    }\n",
       "\n",
       "    .dataframe thead th {\n",
       "        text-align: right;\n",
       "    }\n",
       "</style>\n",
       "<table border=\"1\" class=\"dataframe\">\n",
       "  <thead>\n",
       "    <tr style=\"text-align: right;\">\n",
       "      <th></th>\n",
       "      <th>primary</th>\n",
       "      <th>sigma</th>\n",
       "      <th>backup</th>\n",
       "      <th>verified</th>\n",
       "      <th>prediction</th>\n",
       "      <th>residual</th>\n",
       "      <th>targets</th>\n",
       "      <th>primaryTrue</th>\n",
       "      <th>sigmaTrue</th>\n",
       "      <th>backupTrue</th>\n",
       "      <th>neighborResidual</th>\n",
       "      <th>neighborResidualTrue</th>\n",
       "      <th>primaryVec</th>\n",
       "      <th>backupVec</th>\n",
       "      <th>predictionVec</th>\n",
       "      <th>residualVec</th>\n",
       "      <th>neighborResidualVec</th>\n",
       "      <th>primaryTrueVec</th>\n",
       "      <th>backupTrueVec</th>\n",
       "      <th>neighborResidualTrueVec</th>\n",
       "    </tr>\n",
       "    <tr>\n",
       "      <th>time</th>\n",
       "      <th></th>\n",
       "      <th></th>\n",
       "      <th></th>\n",
       "      <th></th>\n",
       "      <th></th>\n",
       "      <th></th>\n",
       "      <th></th>\n",
       "      <th></th>\n",
       "      <th></th>\n",
       "      <th></th>\n",
       "      <th></th>\n",
       "      <th></th>\n",
       "      <th></th>\n",
       "      <th></th>\n",
       "      <th></th>\n",
       "      <th></th>\n",
       "      <th></th>\n",
       "      <th></th>\n",
       "      <th></th>\n",
       "      <th></th>\n",
       "    </tr>\n",
       "  </thead>\n",
       "  <tbody>\n",
       "    <tr>\n",
       "      <th>2007-01-01 00:24:00</th>\n",
       "      <td>0.213382</td>\n",
       "      <td>0.006</td>\n",
       "      <td>0.206148</td>\n",
       "      <td>0.354</td>\n",
       "      <td>0.179024</td>\n",
       "      <td>0.057</td>\n",
       "      <td>1.0</td>\n",
       "      <td>1.0</td>\n",
       "      <td>1</td>\n",
       "      <td>1</td>\n",
       "      <td>0.042</td>\n",
       "      <td>1.0</td>\n",
       "      <td>[0.2766726943942134, 0.26341169379144064, 0.24...</td>\n",
       "      <td>[0.26883664858348405, 0.2561784207353828, 0.23...</td>\n",
       "      <td>[0.2320675105485232, 0.22001205545509342, 0.20...</td>\n",
       "      <td>[0.07399999999999995, 0.07200000000000006, 0.0...</td>\n",
       "      <td>[0.068, 0.064, 0.05499999999999999, 0.059, 0.0...</td>\n",
       "      <td>[1.0, 1.0, 1.0, 1.0, 0.0, 1.0, 1.0, 1.0, 1.0]</td>\n",
       "      <td>[1, 1, 1, 1, 1, 1, 1, 1, 1]</td>\n",
       "      <td>[1.0, 1.0, 1.0, 1.0, 1.0, 1.0, 1.0, 1.0, 1.0]</td>\n",
       "    </tr>\n",
       "    <tr>\n",
       "      <th>2007-01-01 00:30:00</th>\n",
       "      <td>0.201929</td>\n",
       "      <td>0.004</td>\n",
       "      <td>0.195298</td>\n",
       "      <td>0.335</td>\n",
       "      <td>0.163954</td>\n",
       "      <td>0.063</td>\n",
       "      <td>1.0</td>\n",
       "      <td>1.0</td>\n",
       "      <td>1</td>\n",
       "      <td>1</td>\n",
       "      <td>0.044</td>\n",
       "      <td>1.0</td>\n",
       "      <td>[0.26341169379144064, 0.24110910186859555, 0.2...</td>\n",
       "      <td>[0.2561784207353828, 0.23387582881253766, 0.21...</td>\n",
       "      <td>[0.22001205545509342, 0.20735382760699214, 0.1...</td>\n",
       "      <td>[0.07200000000000006, 0.05600000000000005, 0.0...</td>\n",
       "      <td>[0.064, 0.05499999999999999, 0.059, 0.04200000...</td>\n",
       "      <td>[1.0, 1.0, 1.0, 1.0, 0.0, 1.0, 1.0, 1.0, 1.0]</td>\n",
       "      <td>[1, 1, 1, 1, 1, 1, 1, 1, 1]</td>\n",
       "      <td>[1.0, 1.0, 1.0, 1.0, 1.0, 1.0, 1.0, 1.0, 1.0]</td>\n",
       "    </tr>\n",
       "    <tr>\n",
       "      <th>2007-01-01 00:36:00</th>\n",
       "      <td>0.184448</td>\n",
       "      <td>0.008</td>\n",
       "      <td>0.177818</td>\n",
       "      <td>0.306</td>\n",
       "      <td>0.147679</td>\n",
       "      <td>0.061</td>\n",
       "      <td>1.0</td>\n",
       "      <td>1.0</td>\n",
       "      <td>1</td>\n",
       "      <td>1</td>\n",
       "      <td>0.042</td>\n",
       "      <td>1.0</td>\n",
       "      <td>[0.24110910186859555, 0.2266425557564798, 0.21...</td>\n",
       "      <td>[0.23387582881253766, 0.21880650994575043, 0.2...</td>\n",
       "      <td>[0.20735382760699214, 0.19349005424954793, 0.1...</td>\n",
       "      <td>[0.05600000000000005, 0.05499999999999999, 0.0...</td>\n",
       "      <td>[0.05499999999999999, 0.059, 0.042000000000000...</td>\n",
       "      <td>[1.0, 1.0, 1.0, 1.0, 0.0, 1.0, 1.0, 1.0, 1.0]</td>\n",
       "      <td>[1, 1, 1, 1, 1, 1, 1, 1, 1]</td>\n",
       "      <td>[1.0, 1.0, 1.0, 1.0, 1.0, 1.0, 1.0, 1.0, 1.0]</td>\n",
       "    </tr>\n",
       "    <tr>\n",
       "      <th>2007-01-01 00:42:00</th>\n",
       "      <td>0.171187</td>\n",
       "      <td>0.004</td>\n",
       "      <td>0.165160</td>\n",
       "      <td>0.284</td>\n",
       "      <td>0.130802</td>\n",
       "      <td>0.067</td>\n",
       "      <td>1.0</td>\n",
       "      <td>1.0</td>\n",
       "      <td>1</td>\n",
       "      <td>1</td>\n",
       "      <td>0.041</td>\n",
       "      <td>1.0</td>\n",
       "      <td>[0.2266425557564798, 0.21338155515370705, 0.20...</td>\n",
       "      <td>[0.21880650994575043, 0.2061482820976492, 0.19...</td>\n",
       "      <td>[0.19349005424954793, 0.17902350813743217, 0.1...</td>\n",
       "      <td>[0.05499999999999999, 0.056999999999999995, 0....</td>\n",
       "      <td>[0.059, 0.04200000000000004, 0.044000000000000...</td>\n",
       "      <td>[1.0, 1.0, 1.0, 1.0, 0.0, 1.0, 1.0, 1.0, 1.0]</td>\n",
       "      <td>[1, 1, 1, 1, 1, 1, 1, 1, 1]</td>\n",
       "      <td>[1.0, 1.0, 1.0, 1.0, 1.0, 1.0, 1.0, 1.0, 1.0]</td>\n",
       "    </tr>\n",
       "    <tr>\n",
       "      <th>2007-01-01 00:48:00</th>\n",
       "      <td>0.155515</td>\n",
       "      <td>0.007</td>\n",
       "      <td>0.149488</td>\n",
       "      <td>0.258</td>\n",
       "      <td>0.113321</td>\n",
       "      <td>0.070</td>\n",
       "      <td>1.0</td>\n",
       "      <td>1.0</td>\n",
       "      <td>1</td>\n",
       "      <td>1</td>\n",
       "      <td>0.036</td>\n",
       "      <td>1.0</td>\n",
       "      <td>[0.21338155515370705, 0.20192887281494878, 0.1...</td>\n",
       "      <td>[0.2061482820976492, 0.19529837251356238, 0.17...</td>\n",
       "      <td>[0.17902350813743217, 0.16395418927064498, 0.1...</td>\n",
       "      <td>[0.056999999999999995, 0.063, 0.061, 0.0669999...</td>\n",
       "      <td>[0.04200000000000004, 0.04400000000000001, 0.0...</td>\n",
       "      <td>[1.0, 1.0, 1.0, 1.0, 0.0, 1.0, 1.0, 1.0, 1.0]</td>\n",
       "      <td>[1, 1, 1, 1, 1, 1, 1, 1, 1]</td>\n",
       "      <td>[1.0, 1.0, 1.0, 1.0, 1.0, 1.0, 1.0, 1.0, 1.0]</td>\n",
       "    </tr>\n",
       "    <tr>\n",
       "      <th>...</th>\n",
       "      <td>...</td>\n",
       "      <td>...</td>\n",
       "      <td>...</td>\n",
       "      <td>...</td>\n",
       "      <td>...</td>\n",
       "      <td>...</td>\n",
       "      <td>...</td>\n",
       "      <td>...</td>\n",
       "      <td>...</td>\n",
       "      <td>...</td>\n",
       "      <td>...</td>\n",
       "      <td>...</td>\n",
       "      <td>...</td>\n",
       "      <td>...</td>\n",
       "      <td>...</td>\n",
       "      <td>...</td>\n",
       "      <td>...</td>\n",
       "      <td>...</td>\n",
       "      <td>...</td>\n",
       "      <td>...</td>\n",
       "    </tr>\n",
       "    <tr>\n",
       "      <th>2017-12-31 23:06:00</th>\n",
       "      <td>0.327306</td>\n",
       "      <td>0.014</td>\n",
       "      <td>0.349608</td>\n",
       "      <td>0.543</td>\n",
       "      <td>0.365280</td>\n",
       "      <td>-0.063</td>\n",
       "      <td>1.0</td>\n",
       "      <td>1.0</td>\n",
       "      <td>1</td>\n",
       "      <td>1</td>\n",
       "      <td>-0.058</td>\n",
       "      <td>1.0</td>\n",
       "      <td>[0.26582278481012656, 0.29053646775165765, 0.3...</td>\n",
       "      <td>[0.2875226039783002, 0.3128390596745027, 0.326...</td>\n",
       "      <td>[0.3050030138637734, 0.3218806509945751, 0.337...</td>\n",
       "      <td>[-0.065, -0.05199999999999999, -0.054000000000...</td>\n",
       "      <td>[-0.032999999999999974, -0.044999999999999984,...</td>\n",
       "      <td>[1.0, 1.0, 1.0, 1.0, 0.0, 1.0, 1.0, 1.0, 1.0]</td>\n",
       "      <td>[1, 1, 1, 1, 1, 1, 1, 1, 1]</td>\n",
       "      <td>[1.0, 1.0, 1.0, 1.0, 1.0, 1.0, 1.0, 1.0, 1.0]</td>\n",
       "    </tr>\n",
       "    <tr>\n",
       "      <th>2017-12-31 23:12:00</th>\n",
       "      <td>0.338758</td>\n",
       "      <td>0.020</td>\n",
       "      <td>0.359855</td>\n",
       "      <td>0.562</td>\n",
       "      <td>0.376733</td>\n",
       "      <td>-0.063</td>\n",
       "      <td>1.0</td>\n",
       "      <td>1.0</td>\n",
       "      <td>1</td>\n",
       "      <td>1</td>\n",
       "      <td>-0.055</td>\n",
       "      <td>1.0</td>\n",
       "      <td>[0.29053646775165765, 0.3050030138637734, 0.32...</td>\n",
       "      <td>[0.3128390596745027, 0.32670283303194697, 0.34...</td>\n",
       "      <td>[0.3218806509945751, 0.3375527426160338, 0.352...</td>\n",
       "      <td>[-0.05199999999999999, -0.05400000000000005, -...</td>\n",
       "      <td>[-0.044999999999999984, -0.049000000000000044,...</td>\n",
       "      <td>[1.0, 1.0, 1.0, 1.0, 0.0, 1.0, 1.0, 1.0, 1.0]</td>\n",
       "      <td>[1, 1, 1, 1, 1, 1, 1, 1, 1]</td>\n",
       "      <td>[1.0, 1.0, 1.0, 1.0, 1.0, 1.0, 1.0, 1.0, 1.0]</td>\n",
       "    </tr>\n",
       "    <tr>\n",
       "      <th>2017-12-31 23:18:00</th>\n",
       "      <td>0.344786</td>\n",
       "      <td>0.023</td>\n",
       "      <td>0.366486</td>\n",
       "      <td>0.572</td>\n",
       "      <td>0.387583</td>\n",
       "      <td>-0.071</td>\n",
       "      <td>1.0</td>\n",
       "      <td>1.0</td>\n",
       "      <td>1</td>\n",
       "      <td>1</td>\n",
       "      <td>-0.071</td>\n",
       "      <td>1.0</td>\n",
       "      <td>[0.3050030138637734, 0.3206751054852321, 0.327...</td>\n",
       "      <td>[0.32670283303194697, 0.3429776974080771, 0.34...</td>\n",
       "      <td>[0.3375527426160338, 0.35201928872814947, 0.36...</td>\n",
       "      <td>[-0.05400000000000005, -0.051999999999999935, ...</td>\n",
       "      <td>[-0.049000000000000044, -0.05300000000000005, ...</td>\n",
       "      <td>[1.0, 1.0, 1.0, 1.0, 0.0, 1.0, 1.0, 1.0, 1.0]</td>\n",
       "      <td>[1, 1, 1, 1, 1, 1, 1, 1, 1]</td>\n",
       "      <td>[1.0, 1.0, 1.0, 1.0, 1.0, 1.0, 1.0, 1.0, 1.0]</td>\n",
       "    </tr>\n",
       "    <tr>\n",
       "      <th>2017-12-31 23:24:00</th>\n",
       "      <td>0.352019</td>\n",
       "      <td>0.022</td>\n",
       "      <td>0.374925</td>\n",
       "      <td>0.584</td>\n",
       "      <td>0.396624</td>\n",
       "      <td>-0.074</td>\n",
       "      <td>1.0</td>\n",
       "      <td>1.0</td>\n",
       "      <td>1</td>\n",
       "      <td>1</td>\n",
       "      <td>-0.074</td>\n",
       "      <td>1.0</td>\n",
       "      <td>[0.3206751054852321, 0.3273056057866184, 0.338...</td>\n",
       "      <td>[0.3429776974080771, 0.3496081977094635, 0.359...</td>\n",
       "      <td>[0.35201928872814947, 0.3652802893309222, 0.37...</td>\n",
       "      <td>[-0.051999999999999935, -0.06300000000000006, ...</td>\n",
       "      <td>[-0.05300000000000005, -0.05799999999999994, -...</td>\n",
       "      <td>[1.0, 1.0, 1.0, 1.0, 0.0, 1.0, 1.0, 1.0, 1.0]</td>\n",
       "      <td>[1, 1, 1, 1, 1, 1, 1, 1, 1]</td>\n",
       "      <td>[1.0, 1.0, 1.0, 1.0, 1.0, 1.0, 1.0, 1.0, 1.0]</td>\n",
       "    </tr>\n",
       "    <tr>\n",
       "      <th>2017-12-31 23:30:00</th>\n",
       "      <td>0.368294</td>\n",
       "      <td>0.014</td>\n",
       "      <td>0.391802</td>\n",
       "      <td>0.611</td>\n",
       "      <td>0.403858</td>\n",
       "      <td>-0.059</td>\n",
       "      <td>1.0</td>\n",
       "      <td>1.0</td>\n",
       "      <td>1</td>\n",
       "      <td>1</td>\n",
       "      <td>-0.053</td>\n",
       "      <td>1.0</td>\n",
       "      <td>[0.3273056057866184, 0.3387582881253768, 0.344...</td>\n",
       "      <td>[0.3496081977094635, 0.3598553345388788, 0.366...</td>\n",
       "      <td>[0.3652802893309222, 0.3767329716696805, 0.387...</td>\n",
       "      <td>[-0.06300000000000006, -0.06299999999999994, -...</td>\n",
       "      <td>[-0.05799999999999994, -0.05499999999999999, -...</td>\n",
       "      <td>[1.0, 1.0, 1.0, 1.0, 0.0, 1.0, 1.0, 1.0, 1.0]</td>\n",
       "      <td>[1, 1, 1, 1, 1, 1, 1, 1, 1]</td>\n",
       "      <td>[1.0, 1.0, 1.0, 1.0, 1.0, 1.0, 1.0, 1.0, 1.0]</td>\n",
       "    </tr>\n",
       "  </tbody>\n",
       "</table>\n",
       "<p>961217 rows × 20 columns</p>\n",
       "</div>"
      ],
      "text/plain": [
       "                      primary  sigma    backup  verified  prediction  \\\n",
       "time                                                                   \n",
       "2007-01-01 00:24:00  0.213382  0.006  0.206148     0.354    0.179024   \n",
       "2007-01-01 00:30:00  0.201929  0.004  0.195298     0.335    0.163954   \n",
       "2007-01-01 00:36:00  0.184448  0.008  0.177818     0.306    0.147679   \n",
       "2007-01-01 00:42:00  0.171187  0.004  0.165160     0.284    0.130802   \n",
       "2007-01-01 00:48:00  0.155515  0.007  0.149488     0.258    0.113321   \n",
       "...                       ...    ...       ...       ...         ...   \n",
       "2017-12-31 23:06:00  0.327306  0.014  0.349608     0.543    0.365280   \n",
       "2017-12-31 23:12:00  0.338758  0.020  0.359855     0.562    0.376733   \n",
       "2017-12-31 23:18:00  0.344786  0.023  0.366486     0.572    0.387583   \n",
       "2017-12-31 23:24:00  0.352019  0.022  0.374925     0.584    0.396624   \n",
       "2017-12-31 23:30:00  0.368294  0.014  0.391802     0.611    0.403858   \n",
       "\n",
       "                     residual  targets  primaryTrue  sigmaTrue  backupTrue  \\\n",
       "time                                                                         \n",
       "2007-01-01 00:24:00     0.057      1.0          1.0          1           1   \n",
       "2007-01-01 00:30:00     0.063      1.0          1.0          1           1   \n",
       "2007-01-01 00:36:00     0.061      1.0          1.0          1           1   \n",
       "2007-01-01 00:42:00     0.067      1.0          1.0          1           1   \n",
       "2007-01-01 00:48:00     0.070      1.0          1.0          1           1   \n",
       "...                       ...      ...          ...        ...         ...   \n",
       "2017-12-31 23:06:00    -0.063      1.0          1.0          1           1   \n",
       "2017-12-31 23:12:00    -0.063      1.0          1.0          1           1   \n",
       "2017-12-31 23:18:00    -0.071      1.0          1.0          1           1   \n",
       "2017-12-31 23:24:00    -0.074      1.0          1.0          1           1   \n",
       "2017-12-31 23:30:00    -0.059      1.0          1.0          1           1   \n",
       "\n",
       "                     neighborResidual  neighborResidualTrue  \\\n",
       "time                                                          \n",
       "2007-01-01 00:24:00             0.042                   1.0   \n",
       "2007-01-01 00:30:00             0.044                   1.0   \n",
       "2007-01-01 00:36:00             0.042                   1.0   \n",
       "2007-01-01 00:42:00             0.041                   1.0   \n",
       "2007-01-01 00:48:00             0.036                   1.0   \n",
       "...                               ...                   ...   \n",
       "2017-12-31 23:06:00            -0.058                   1.0   \n",
       "2017-12-31 23:12:00            -0.055                   1.0   \n",
       "2017-12-31 23:18:00            -0.071                   1.0   \n",
       "2017-12-31 23:24:00            -0.074                   1.0   \n",
       "2017-12-31 23:30:00            -0.053                   1.0   \n",
       "\n",
       "                                                            primaryVec  \\\n",
       "time                                                                     \n",
       "2007-01-01 00:24:00  [0.2766726943942134, 0.26341169379144064, 0.24...   \n",
       "2007-01-01 00:30:00  [0.26341169379144064, 0.24110910186859555, 0.2...   \n",
       "2007-01-01 00:36:00  [0.24110910186859555, 0.2266425557564798, 0.21...   \n",
       "2007-01-01 00:42:00  [0.2266425557564798, 0.21338155515370705, 0.20...   \n",
       "2007-01-01 00:48:00  [0.21338155515370705, 0.20192887281494878, 0.1...   \n",
       "...                                                                ...   \n",
       "2017-12-31 23:06:00  [0.26582278481012656, 0.29053646775165765, 0.3...   \n",
       "2017-12-31 23:12:00  [0.29053646775165765, 0.3050030138637734, 0.32...   \n",
       "2017-12-31 23:18:00  [0.3050030138637734, 0.3206751054852321, 0.327...   \n",
       "2017-12-31 23:24:00  [0.3206751054852321, 0.3273056057866184, 0.338...   \n",
       "2017-12-31 23:30:00  [0.3273056057866184, 0.3387582881253768, 0.344...   \n",
       "\n",
       "                                                             backupVec  \\\n",
       "time                                                                     \n",
       "2007-01-01 00:24:00  [0.26883664858348405, 0.2561784207353828, 0.23...   \n",
       "2007-01-01 00:30:00  [0.2561784207353828, 0.23387582881253766, 0.21...   \n",
       "2007-01-01 00:36:00  [0.23387582881253766, 0.21880650994575043, 0.2...   \n",
       "2007-01-01 00:42:00  [0.21880650994575043, 0.2061482820976492, 0.19...   \n",
       "2007-01-01 00:48:00  [0.2061482820976492, 0.19529837251356238, 0.17...   \n",
       "...                                                                ...   \n",
       "2017-12-31 23:06:00  [0.2875226039783002, 0.3128390596745027, 0.326...   \n",
       "2017-12-31 23:12:00  [0.3128390596745027, 0.32670283303194697, 0.34...   \n",
       "2017-12-31 23:18:00  [0.32670283303194697, 0.3429776974080771, 0.34...   \n",
       "2017-12-31 23:24:00  [0.3429776974080771, 0.3496081977094635, 0.359...   \n",
       "2017-12-31 23:30:00  [0.3496081977094635, 0.3598553345388788, 0.366...   \n",
       "\n",
       "                                                         predictionVec  \\\n",
       "time                                                                     \n",
       "2007-01-01 00:24:00  [0.2320675105485232, 0.22001205545509342, 0.20...   \n",
       "2007-01-01 00:30:00  [0.22001205545509342, 0.20735382760699214, 0.1...   \n",
       "2007-01-01 00:36:00  [0.20735382760699214, 0.19349005424954793, 0.1...   \n",
       "2007-01-01 00:42:00  [0.19349005424954793, 0.17902350813743217, 0.1...   \n",
       "2007-01-01 00:48:00  [0.17902350813743217, 0.16395418927064498, 0.1...   \n",
       "...                                                                ...   \n",
       "2017-12-31 23:06:00  [0.3050030138637734, 0.3218806509945751, 0.337...   \n",
       "2017-12-31 23:12:00  [0.3218806509945751, 0.3375527426160338, 0.352...   \n",
       "2017-12-31 23:18:00  [0.3375527426160338, 0.35201928872814947, 0.36...   \n",
       "2017-12-31 23:24:00  [0.35201928872814947, 0.3652802893309222, 0.37...   \n",
       "2017-12-31 23:30:00  [0.3652802893309222, 0.3767329716696805, 0.387...   \n",
       "\n",
       "                                                           residualVec  \\\n",
       "time                                                                     \n",
       "2007-01-01 00:24:00  [0.07399999999999995, 0.07200000000000006, 0.0...   \n",
       "2007-01-01 00:30:00  [0.07200000000000006, 0.05600000000000005, 0.0...   \n",
       "2007-01-01 00:36:00  [0.05600000000000005, 0.05499999999999999, 0.0...   \n",
       "2007-01-01 00:42:00  [0.05499999999999999, 0.056999999999999995, 0....   \n",
       "2007-01-01 00:48:00  [0.056999999999999995, 0.063, 0.061, 0.0669999...   \n",
       "...                                                                ...   \n",
       "2017-12-31 23:06:00  [-0.065, -0.05199999999999999, -0.054000000000...   \n",
       "2017-12-31 23:12:00  [-0.05199999999999999, -0.05400000000000005, -...   \n",
       "2017-12-31 23:18:00  [-0.05400000000000005, -0.051999999999999935, ...   \n",
       "2017-12-31 23:24:00  [-0.051999999999999935, -0.06300000000000006, ...   \n",
       "2017-12-31 23:30:00  [-0.06300000000000006, -0.06299999999999994, -...   \n",
       "\n",
       "                                                   neighborResidualVec  \\\n",
       "time                                                                     \n",
       "2007-01-01 00:24:00  [0.068, 0.064, 0.05499999999999999, 0.059, 0.0...   \n",
       "2007-01-01 00:30:00  [0.064, 0.05499999999999999, 0.059, 0.04200000...   \n",
       "2007-01-01 00:36:00  [0.05499999999999999, 0.059, 0.042000000000000...   \n",
       "2007-01-01 00:42:00  [0.059, 0.04200000000000004, 0.044000000000000...   \n",
       "2007-01-01 00:48:00  [0.04200000000000004, 0.04400000000000001, 0.0...   \n",
       "...                                                                ...   \n",
       "2017-12-31 23:06:00  [-0.032999999999999974, -0.044999999999999984,...   \n",
       "2017-12-31 23:12:00  [-0.044999999999999984, -0.049000000000000044,...   \n",
       "2017-12-31 23:18:00  [-0.049000000000000044, -0.05300000000000005, ...   \n",
       "2017-12-31 23:24:00  [-0.05300000000000005, -0.05799999999999994, -...   \n",
       "2017-12-31 23:30:00  [-0.05799999999999994, -0.05499999999999999, -...   \n",
       "\n",
       "                                                    primaryTrueVec  \\\n",
       "time                                                                 \n",
       "2007-01-01 00:24:00  [1.0, 1.0, 1.0, 1.0, 0.0, 1.0, 1.0, 1.0, 1.0]   \n",
       "2007-01-01 00:30:00  [1.0, 1.0, 1.0, 1.0, 0.0, 1.0, 1.0, 1.0, 1.0]   \n",
       "2007-01-01 00:36:00  [1.0, 1.0, 1.0, 1.0, 0.0, 1.0, 1.0, 1.0, 1.0]   \n",
       "2007-01-01 00:42:00  [1.0, 1.0, 1.0, 1.0, 0.0, 1.0, 1.0, 1.0, 1.0]   \n",
       "2007-01-01 00:48:00  [1.0, 1.0, 1.0, 1.0, 0.0, 1.0, 1.0, 1.0, 1.0]   \n",
       "...                                                            ...   \n",
       "2017-12-31 23:06:00  [1.0, 1.0, 1.0, 1.0, 0.0, 1.0, 1.0, 1.0, 1.0]   \n",
       "2017-12-31 23:12:00  [1.0, 1.0, 1.0, 1.0, 0.0, 1.0, 1.0, 1.0, 1.0]   \n",
       "2017-12-31 23:18:00  [1.0, 1.0, 1.0, 1.0, 0.0, 1.0, 1.0, 1.0, 1.0]   \n",
       "2017-12-31 23:24:00  [1.0, 1.0, 1.0, 1.0, 0.0, 1.0, 1.0, 1.0, 1.0]   \n",
       "2017-12-31 23:30:00  [1.0, 1.0, 1.0, 1.0, 0.0, 1.0, 1.0, 1.0, 1.0]   \n",
       "\n",
       "                                   backupTrueVec  \\\n",
       "time                                               \n",
       "2007-01-01 00:24:00  [1, 1, 1, 1, 1, 1, 1, 1, 1]   \n",
       "2007-01-01 00:30:00  [1, 1, 1, 1, 1, 1, 1, 1, 1]   \n",
       "2007-01-01 00:36:00  [1, 1, 1, 1, 1, 1, 1, 1, 1]   \n",
       "2007-01-01 00:42:00  [1, 1, 1, 1, 1, 1, 1, 1, 1]   \n",
       "2007-01-01 00:48:00  [1, 1, 1, 1, 1, 1, 1, 1, 1]   \n",
       "...                                          ...   \n",
       "2017-12-31 23:06:00  [1, 1, 1, 1, 1, 1, 1, 1, 1]   \n",
       "2017-12-31 23:12:00  [1, 1, 1, 1, 1, 1, 1, 1, 1]   \n",
       "2017-12-31 23:18:00  [1, 1, 1, 1, 1, 1, 1, 1, 1]   \n",
       "2017-12-31 23:24:00  [1, 1, 1, 1, 1, 1, 1, 1, 1]   \n",
       "2017-12-31 23:30:00  [1, 1, 1, 1, 1, 1, 1, 1, 1]   \n",
       "\n",
       "                                           neighborResidualTrueVec  \n",
       "time                                                                \n",
       "2007-01-01 00:24:00  [1.0, 1.0, 1.0, 1.0, 1.0, 1.0, 1.0, 1.0, 1.0]  \n",
       "2007-01-01 00:30:00  [1.0, 1.0, 1.0, 1.0, 1.0, 1.0, 1.0, 1.0, 1.0]  \n",
       "2007-01-01 00:36:00  [1.0, 1.0, 1.0, 1.0, 1.0, 1.0, 1.0, 1.0, 1.0]  \n",
       "2007-01-01 00:42:00  [1.0, 1.0, 1.0, 1.0, 1.0, 1.0, 1.0, 1.0, 1.0]  \n",
       "2007-01-01 00:48:00  [1.0, 1.0, 1.0, 1.0, 1.0, 1.0, 1.0, 1.0, 1.0]  \n",
       "...                                                            ...  \n",
       "2017-12-31 23:06:00  [1.0, 1.0, 1.0, 1.0, 1.0, 1.0, 1.0, 1.0, 1.0]  \n",
       "2017-12-31 23:12:00  [1.0, 1.0, 1.0, 1.0, 1.0, 1.0, 1.0, 1.0, 1.0]  \n",
       "2017-12-31 23:18:00  [1.0, 1.0, 1.0, 1.0, 1.0, 1.0, 1.0, 1.0, 1.0]  \n",
       "2017-12-31 23:24:00  [1.0, 1.0, 1.0, 1.0, 1.0, 1.0, 1.0, 1.0, 1.0]  \n",
       "2017-12-31 23:30:00  [1.0, 1.0, 1.0, 1.0, 1.0, 1.0, 1.0, 1.0, 1.0]  \n",
       "\n",
       "[961217 rows x 20 columns]"
      ]
     },
     "execution_count": 11,
     "metadata": {},
     "output_type": "execute_result"
    }
   ],
   "source": [
    "#And drop the first and last 4 points\n",
    "cleanedScaled.drop(cleanedScaled.head(4).index, inplace=True)\n",
    "cleanedScaled.drop(cleanedScaled.tail(4).index, inplace=True)\n",
    "\n",
    "#drop any nans just in case\n",
    "cleanedScaled = cleanedScaled.dropna()\n",
    "cleanedScaled"
   ]
  },
  {
   "cell_type": "code",
   "execution_count": 22,
   "metadata": {},
   "outputs": [],
   "source": [
    "trainScaled = cleanedScaled.loc[:'2014-12-31 23:54:00']\n",
    "testScaled = cleanedScaled.loc['2015-01-01 00:00:00':]"
   ]
  },
  {
   "cell_type": "code",
   "execution_count": 23,
   "metadata": {},
   "outputs": [],
   "source": [
    "#For the testing and potentially trainig data we are going to remove the cases where the primary was used, since we are trying to only assess times when humans filled the data.\n",
    "testScaled = testScaled[testScaled.targets == 0]\n",
    "trainScaled = trainScaled[trainScaled.targets == 0]"
   ]
  },
  {
   "cell_type": "code",
   "execution_count": 58,
   "metadata": {},
   "outputs": [],
   "source": [
    "#capeMayTrain=trainScaled.copy()\n",
    "#capeMayTest=testScaled.copy()\n",
    "#capeMayTrain['stationName']='Cape May'\n",
    "#capeMayTest['stationName']='Cape May'\n",
    "\n",
    "#lewesTrain=trainScaled.copy()\n",
    "#lewesTest=testScaled.copy()\n",
    "#lewesTrain['stationName']='Lewes'\n",
    "#lewesTest['stationName']='Lewes'\n",
    "\n",
    "#acTrain=trainScaled.copy()\n",
    "#acTest=testScaled.copy()\n",
    "#acTrain['stationName']='Atlantic City'\n",
    "#acTest['stationName']='Atlantic City'\n",
    "\n",
    "#bostonTrain=trainScaled.copy()\n",
    "#bostonTest=testScaled.copy()\n",
    "#bostonTrain['stationName']='Boston'\n",
    "#bostonTest['stationName']='Boston'\n",
    "\n",
    "#portlandTrain=trainScaled.copy()\n",
    "#portlandTest=testScaled.copy()\n",
    "#portlandTrain['stationName']='Portland'\n",
    "#portlandTest['stationName']='Portland'\n"
   ]
  },
  {
   "cell_type": "code",
   "execution_count": 12,
   "metadata": {},
   "outputs": [],
   "source": [
    "#del trainScaled\n",
    "#del testScaled"
   ]
  },
  {
   "cell_type": "code",
   "execution_count": 60,
   "metadata": {},
   "outputs": [],
   "source": [
    "#trainScaled = pd.concat([capeMayTrain, lewesTrain, acTrain, bostonTrain, portlandTrain])\n",
    "#testScaled = pd.concat([capeMayTest, lewesTest, acTest, bostonTest, portlandTest])"
   ]
  },
  {
   "cell_type": "code",
   "execution_count": 24,
   "metadata": {},
   "outputs": [
    {
     "name": "stdout",
     "output_type": "stream",
     "text": [
      "Total Training Points = 31034\n",
      "Total Testing Points = 5175\n"
     ]
    }
   ],
   "source": [
    "print('Total Training Points = ' + str(trainScaled.shape[0]))\n",
    "print('Total Testing Points = ' + str(testScaled.shape[0]))"
   ]
  },
  {
   "cell_type": "code",
   "execution_count": 25,
   "metadata": {},
   "outputs": [],
   "source": [
    "trainRand=shuffle(trainScaled)\n",
    "testRand=shuffle(testScaled)"
   ]
  },
  {
   "cell_type": "code",
   "execution_count": 26,
   "metadata": {},
   "outputs": [],
   "source": [
    "# New Feature Set\n",
    "featureNames = ['primaryVec', 'backupVec', 'predictionVec', 'residualVec', 'neighborResidualVec', 'primaryTrueVec', 'backupTrueVec', 'neighborResidualTrueVec']\n",
    "\n",
    "featureTrain = trainRand.loc[:,featureNames]\n",
    "featureTest = testRand.loc[:,featureNames]\n",
    "targetTrain=trainRand.loc[:,['verified']]\n",
    "targetTest=testRand.loc[:,['verified']]\n",
    "\n",
    "predictFeatures = testScaled.loc[:,featureNames]\n",
    "predictTargets = testScaled.loc[:,'verified']"
   ]
  },
  {
   "cell_type": "code",
   "execution_count": 27,
   "metadata": {},
   "outputs": [],
   "source": [
    "#Reshape the features to be a 3d array\n",
    "\n",
    "i=0\n",
    "featureTrainNew = np.zeros(len(featureNames)).tolist()\n",
    "for name in featureNames:\n",
    "    featureTrainNew[i] = featureTrain[name].tolist()\n",
    "    i+=1\n",
    "featureTrainStack = np.stack(featureTrainNew, axis=2)\n",
    "\n",
    "i=0\n",
    "featureTestNew = np.zeros(len(featureNames)).tolist()\n",
    "for name in featureNames:\n",
    "    featureTestNew[i] = featureTest[name].tolist()\n",
    "    i+=1\n",
    "featureTestStack = np.stack(featureTestNew, axis=2)\n",
    "\n"
   ]
  },
  {
   "cell_type": "code",
   "execution_count": 28,
   "metadata": {},
   "outputs": [
    {
     "data": {
      "text/plain": [
       "(5175, 9, 8)"
      ]
     },
     "execution_count": 28,
     "metadata": {},
     "output_type": "execute_result"
    }
   ],
   "source": [
    "np.shape(featureTestStack)"
   ]
  },
  {
   "cell_type": "code",
   "execution_count": 31,
   "metadata": {},
   "outputs": [
    {
     "name": "stdout",
     "output_type": "stream",
     "text": [
      "mae baseline = 0.13594067632850243\n"
     ]
    }
   ],
   "source": [
    "#Calculate the baseiline error (in this case the error in using the tide predictions alone)\n",
    "mae_tidePredictions = mean_absolute_error(test['prediction'],test['verified'])\n",
    "print('mae baseline = '+ str(mae_tidePredictions))"
   ]
  },
  {
   "cell_type": "code",
   "execution_count": 36,
   "metadata": {},
   "outputs": [
    {
     "name": "stdout",
     "output_type": "stream",
     "text": [
      "Train on 31034 samples, validate on 5175 samples\n",
      "Epoch 1/20\n",
      "31034/31034 [==============================] - 17s 543us/step - loss: 0.0239 - mae: 0.0841 - val_loss: 0.0166 - val_mae: 0.0942\n",
      "Epoch 2/20\n",
      "31034/31034 [==============================] - 13s 412us/step - loss: 0.0025 - mae: 0.0338 - val_loss: 0.0125 - val_mae: 0.0801\n",
      "Epoch 3/20\n",
      "31034/31034 [==============================] - 13s 406us/step - loss: 0.0021 - mae: 0.0312 - val_loss: 0.0101 - val_mae: 0.0720\n",
      "Epoch 4/20\n",
      "31034/31034 [==============================] - 13s 410us/step - loss: 0.0019 - mae: 0.0295 - val_loss: 0.0092 - val_mae: 0.0689\n",
      "Epoch 5/20\n",
      "31034/31034 [==============================] - 13s 423us/step - loss: 0.0018 - mae: 0.0295 - val_loss: 0.0085 - val_mae: 0.0665\n",
      "Epoch 6/20\n",
      "31034/31034 [==============================] - 14s 440us/step - loss: 0.0018 - mae: 0.0288 - val_loss: 0.0083 - val_mae: 0.0659\n",
      "Epoch 7/20\n",
      "31034/31034 [==============================] - 14s 435us/step - loss: 0.0018 - mae: 0.0293 - val_loss: 0.0079 - val_mae: 0.0643\n",
      "Epoch 8/20\n",
      "31034/31034 [==============================] - 13s 432us/step - loss: 0.0018 - mae: 0.0288 - val_loss: 0.0082 - val_mae: 0.0665\n",
      "Epoch 9/20\n",
      "31034/31034 [==============================] - 13s 425us/step - loss: 0.0017 - mae: 0.0283 - val_loss: 0.0078 - val_mae: 0.0642\n",
      "Epoch 10/20\n",
      "31034/31034 [==============================] - 13s 414us/step - loss: 0.0017 - mae: 0.0283 - val_loss: 0.0079 - val_mae: 0.0649\n",
      "Epoch 11/20\n",
      "31034/31034 [==============================] - 14s 444us/step - loss: 0.0017 - mae: 0.0284 - val_loss: 0.0075 - val_mae: 0.0644\n",
      "Epoch 12/20\n",
      "31034/31034 [==============================] - 14s 445us/step - loss: 0.0017 - mae: 0.0282 - val_loss: 0.0077 - val_mae: 0.0647\n",
      "Epoch 13/20\n",
      "31034/31034 [==============================] - 14s 455us/step - loss: 0.0017 - mae: 0.0282 - val_loss: 0.0074 - val_mae: 0.0631\n",
      "Epoch 14/20\n",
      "31034/31034 [==============================] - 14s 442us/step - loss: 0.0017 - mae: 0.0283 - val_loss: 0.0081 - val_mae: 0.0660\n",
      "Epoch 15/20\n",
      "31034/31034 [==============================] - 13s 433us/step - loss: 0.0017 - mae: 0.0283 - val_loss: 0.0072 - val_mae: 0.0623\n",
      "Epoch 16/20\n",
      "31034/31034 [==============================] - 13s 417us/step - loss: 0.0016 - mae: 0.0280 - val_loss: 0.0072 - val_mae: 0.0622\n",
      "Epoch 17/20\n",
      "31034/31034 [==============================] - 13s 420us/step - loss: 0.0016 - mae: 0.0280 - val_loss: 0.0073 - val_mae: 0.0628\n",
      "Epoch 18/20\n",
      "31034/31034 [==============================] - 13s 433us/step - loss: 0.0016 - mae: 0.0276 - val_loss: 0.0072 - val_mae: 0.0629\n",
      "Epoch 19/20\n",
      "31034/31034 [==============================] - 14s 443us/step - loss: 0.0016 - mae: 0.0276 - val_loss: 0.0074 - val_mae: 0.0627\n",
      "Epoch 20/20\n",
      "21248/31034 [===================>..........] - ETA: 4s - loss: 0.0016 - mae: 0.0276"
     ]
    },
    {
     "ename": "KeyboardInterrupt",
     "evalue": "",
     "output_type": "error",
     "traceback": [
      "\u001b[0;31m---------------------------------------------------------------------------\u001b[0m",
      "\u001b[0;31mKeyboardInterrupt\u001b[0m                         Traceback (most recent call last)",
      "\u001b[0;32m<ipython-input-36-5abeba1abc68>\u001b[0m in \u001b[0;36m<module>\u001b[0;34m\u001b[0m\n\u001b[1;32m      5\u001b[0m \u001b[0mnumFeatures\u001b[0m \u001b[0;34m=\u001b[0m \u001b[0mlen\u001b[0m\u001b[0;34m(\u001b[0m\u001b[0mfeatureNames\u001b[0m\u001b[0;34m)\u001b[0m\u001b[0;34m\u001b[0m\u001b[0;34m\u001b[0m\u001b[0m\n\u001b[1;32m      6\u001b[0m modelOut, model = runNNmodel(featureTrainStack, targetTrain, featureTestStack, targetTest, predictFeatures, predictTargets,\n\u001b[0;32m----> 7\u001b[0;31m                epochCount, batchCount, numFeatures)\n\u001b[0m",
      "\u001b[0;32m<ipython-input-35-25c129710526>\u001b[0m in \u001b[0;36mrunNNmodel\u001b[0;34m(featureTrain, targetTrain, featureTest, targetTest, predictFeatures, predictTargets, epochCount, batchCount, numFeatures)\u001b[0m\n\u001b[1;32m     34\u001b[0m \u001b[0;34m\u001b[0m\u001b[0m\n\u001b[1;32m     35\u001b[0m     \u001b[0;31m# Train the model, iterating on the data in batches of X # samples (somewhere between 32 - 256)\u001b[0m\u001b[0;34m\u001b[0m\u001b[0;34m\u001b[0m\u001b[0;34m\u001b[0m\u001b[0m\n\u001b[0;32m---> 36\u001b[0;31m     \u001b[0mhistory\u001b[0m \u001b[0;34m=\u001b[0m \u001b[0mmodel\u001b[0m\u001b[0;34m.\u001b[0m\u001b[0mfit\u001b[0m\u001b[0;34m(\u001b[0m\u001b[0mfeatureTrain\u001b[0m\u001b[0;34m,\u001b[0m \u001b[0mtargetTrain\u001b[0m\u001b[0;34m,\u001b[0m \u001b[0mepochs\u001b[0m\u001b[0;34m=\u001b[0m\u001b[0mepochCount\u001b[0m\u001b[0;34m,\u001b[0m \u001b[0mbatch_size\u001b[0m\u001b[0;34m=\u001b[0m\u001b[0mbatchCount\u001b[0m\u001b[0;34m,\u001b[0m \u001b[0mvalidation_data\u001b[0m\u001b[0;34m=\u001b[0m\u001b[0;34m(\u001b[0m\u001b[0mfeatureTest\u001b[0m\u001b[0;34m,\u001b[0m \u001b[0mtargetTest\u001b[0m\u001b[0;34m)\u001b[0m\u001b[0;34m,\u001b[0m\u001b[0mcallbacks\u001b[0m\u001b[0;34m=\u001b[0m\u001b[0mcallbacks_list\u001b[0m\u001b[0;34m)\u001b[0m\u001b[0;34m\u001b[0m\u001b[0;34m\u001b[0m\u001b[0m\n\u001b[0m\u001b[1;32m     37\u001b[0m \u001b[0;34m\u001b[0m\u001b[0m\n\u001b[1;32m     38\u001b[0m     \u001b[0;31m#Evaulate the model\u001b[0m\u001b[0;34m\u001b[0m\u001b[0;34m\u001b[0m\u001b[0;34m\u001b[0m\u001b[0m\n",
      "\u001b[0;32m~/.conda/envs/wlai/lib/python3.6/site-packages/keras/engine/training.py\u001b[0m in \u001b[0;36mfit\u001b[0;34m(self, x, y, batch_size, epochs, verbose, callbacks, validation_split, validation_data, shuffle, class_weight, sample_weight, initial_epoch, steps_per_epoch, validation_steps, validation_freq, max_queue_size, workers, use_multiprocessing, **kwargs)\u001b[0m\n\u001b[1;32m   1237\u001b[0m                                         \u001b[0msteps_per_epoch\u001b[0m\u001b[0;34m=\u001b[0m\u001b[0msteps_per_epoch\u001b[0m\u001b[0;34m,\u001b[0m\u001b[0;34m\u001b[0m\u001b[0;34m\u001b[0m\u001b[0m\n\u001b[1;32m   1238\u001b[0m                                         \u001b[0mvalidation_steps\u001b[0m\u001b[0;34m=\u001b[0m\u001b[0mvalidation_steps\u001b[0m\u001b[0;34m,\u001b[0m\u001b[0;34m\u001b[0m\u001b[0;34m\u001b[0m\u001b[0m\n\u001b[0;32m-> 1239\u001b[0;31m                                         validation_freq=validation_freq)\n\u001b[0m\u001b[1;32m   1240\u001b[0m \u001b[0;34m\u001b[0m\u001b[0m\n\u001b[1;32m   1241\u001b[0m     def evaluate(self,\n",
      "\u001b[0;32m~/.conda/envs/wlai/lib/python3.6/site-packages/keras/engine/training_arrays.py\u001b[0m in \u001b[0;36mfit_loop\u001b[0;34m(model, fit_function, fit_inputs, out_labels, batch_size, epochs, verbose, callbacks, val_function, val_inputs, shuffle, initial_epoch, steps_per_epoch, validation_steps, validation_freq)\u001b[0m\n\u001b[1;32m    194\u001b[0m                     \u001b[0mins_batch\u001b[0m\u001b[0;34m[\u001b[0m\u001b[0mi\u001b[0m\u001b[0;34m]\u001b[0m \u001b[0;34m=\u001b[0m \u001b[0mins_batch\u001b[0m\u001b[0;34m[\u001b[0m\u001b[0mi\u001b[0m\u001b[0;34m]\u001b[0m\u001b[0;34m.\u001b[0m\u001b[0mtoarray\u001b[0m\u001b[0;34m(\u001b[0m\u001b[0;34m)\u001b[0m\u001b[0;34m\u001b[0m\u001b[0;34m\u001b[0m\u001b[0m\n\u001b[1;32m    195\u001b[0m \u001b[0;34m\u001b[0m\u001b[0m\n\u001b[0;32m--> 196\u001b[0;31m                 \u001b[0mouts\u001b[0m \u001b[0;34m=\u001b[0m \u001b[0mfit_function\u001b[0m\u001b[0;34m(\u001b[0m\u001b[0mins_batch\u001b[0m\u001b[0;34m)\u001b[0m\u001b[0;34m\u001b[0m\u001b[0;34m\u001b[0m\u001b[0m\n\u001b[0m\u001b[1;32m    197\u001b[0m                 \u001b[0mouts\u001b[0m \u001b[0;34m=\u001b[0m \u001b[0mto_list\u001b[0m\u001b[0;34m(\u001b[0m\u001b[0mouts\u001b[0m\u001b[0;34m)\u001b[0m\u001b[0;34m\u001b[0m\u001b[0;34m\u001b[0m\u001b[0m\n\u001b[1;32m    198\u001b[0m                 \u001b[0;32mfor\u001b[0m \u001b[0ml\u001b[0m\u001b[0;34m,\u001b[0m \u001b[0mo\u001b[0m \u001b[0;32min\u001b[0m \u001b[0mzip\u001b[0m\u001b[0;34m(\u001b[0m\u001b[0mout_labels\u001b[0m\u001b[0;34m,\u001b[0m \u001b[0mouts\u001b[0m\u001b[0;34m)\u001b[0m\u001b[0;34m:\u001b[0m\u001b[0;34m\u001b[0m\u001b[0;34m\u001b[0m\u001b[0m\n",
      "\u001b[0;32m~/.conda/envs/wlai/lib/python3.6/site-packages/tensorflow_core/python/keras/backend.py\u001b[0m in \u001b[0;36m__call__\u001b[0;34m(self, inputs)\u001b[0m\n\u001b[1;32m   3738\u001b[0m         \u001b[0mvalue\u001b[0m \u001b[0;34m=\u001b[0m \u001b[0mmath_ops\u001b[0m\u001b[0;34m.\u001b[0m\u001b[0mcast\u001b[0m\u001b[0;34m(\u001b[0m\u001b[0mvalue\u001b[0m\u001b[0;34m,\u001b[0m \u001b[0mtensor\u001b[0m\u001b[0;34m.\u001b[0m\u001b[0mdtype\u001b[0m\u001b[0;34m)\u001b[0m\u001b[0;34m\u001b[0m\u001b[0;34m\u001b[0m\u001b[0m\n\u001b[1;32m   3739\u001b[0m       \u001b[0mconverted_inputs\u001b[0m\u001b[0;34m.\u001b[0m\u001b[0mappend\u001b[0m\u001b[0;34m(\u001b[0m\u001b[0mvalue\u001b[0m\u001b[0;34m)\u001b[0m\u001b[0;34m\u001b[0m\u001b[0;34m\u001b[0m\u001b[0m\n\u001b[0;32m-> 3740\u001b[0;31m     \u001b[0moutputs\u001b[0m \u001b[0;34m=\u001b[0m \u001b[0mself\u001b[0m\u001b[0;34m.\u001b[0m\u001b[0m_graph_fn\u001b[0m\u001b[0;34m(\u001b[0m\u001b[0;34m*\u001b[0m\u001b[0mconverted_inputs\u001b[0m\u001b[0;34m)\u001b[0m\u001b[0;34m\u001b[0m\u001b[0;34m\u001b[0m\u001b[0m\n\u001b[0m\u001b[1;32m   3741\u001b[0m \u001b[0;34m\u001b[0m\u001b[0m\n\u001b[1;32m   3742\u001b[0m     \u001b[0;31m# EagerTensor.numpy() will often make a copy to ensure memory safety.\u001b[0m\u001b[0;34m\u001b[0m\u001b[0;34m\u001b[0m\u001b[0;34m\u001b[0m\u001b[0m\n",
      "\u001b[0;32m~/.conda/envs/wlai/lib/python3.6/site-packages/tensorflow_core/python/eager/function.py\u001b[0m in \u001b[0;36m__call__\u001b[0;34m(self, *args, **kwargs)\u001b[0m\n\u001b[1;32m   1079\u001b[0m       \u001b[0mTypeError\u001b[0m\u001b[0;34m:\u001b[0m \u001b[0mFor\u001b[0m \u001b[0minvalid\u001b[0m \u001b[0mpositional\u001b[0m\u001b[0;34m/\u001b[0m\u001b[0mkeyword\u001b[0m \u001b[0margument\u001b[0m \u001b[0mcombinations\u001b[0m\u001b[0;34m.\u001b[0m\u001b[0;34m\u001b[0m\u001b[0;34m\u001b[0m\u001b[0m\n\u001b[1;32m   1080\u001b[0m     \"\"\"\n\u001b[0;32m-> 1081\u001b[0;31m     \u001b[0;32mreturn\u001b[0m \u001b[0mself\u001b[0m\u001b[0;34m.\u001b[0m\u001b[0m_call_impl\u001b[0m\u001b[0;34m(\u001b[0m\u001b[0margs\u001b[0m\u001b[0;34m,\u001b[0m \u001b[0mkwargs\u001b[0m\u001b[0;34m)\u001b[0m\u001b[0;34m\u001b[0m\u001b[0;34m\u001b[0m\u001b[0m\n\u001b[0m\u001b[1;32m   1082\u001b[0m \u001b[0;34m\u001b[0m\u001b[0m\n\u001b[1;32m   1083\u001b[0m   \u001b[0;32mdef\u001b[0m \u001b[0m_call_impl\u001b[0m\u001b[0;34m(\u001b[0m\u001b[0mself\u001b[0m\u001b[0;34m,\u001b[0m \u001b[0margs\u001b[0m\u001b[0;34m,\u001b[0m \u001b[0mkwargs\u001b[0m\u001b[0;34m,\u001b[0m \u001b[0mcancellation_manager\u001b[0m\u001b[0;34m=\u001b[0m\u001b[0;32mNone\u001b[0m\u001b[0;34m)\u001b[0m\u001b[0;34m:\u001b[0m\u001b[0;34m\u001b[0m\u001b[0;34m\u001b[0m\u001b[0m\n",
      "\u001b[0;32m~/.conda/envs/wlai/lib/python3.6/site-packages/tensorflow_core/python/eager/function.py\u001b[0m in \u001b[0;36m_call_impl\u001b[0;34m(self, args, kwargs, cancellation_manager)\u001b[0m\n\u001b[1;32m   1119\u001b[0m       raise TypeError(\"Keyword arguments {} unknown. Expected {}.\".format(\n\u001b[1;32m   1120\u001b[0m           list(kwargs.keys()), list(self._arg_keywords)))\n\u001b[0;32m-> 1121\u001b[0;31m     \u001b[0;32mreturn\u001b[0m \u001b[0mself\u001b[0m\u001b[0;34m.\u001b[0m\u001b[0m_call_flat\u001b[0m\u001b[0;34m(\u001b[0m\u001b[0margs\u001b[0m\u001b[0;34m,\u001b[0m \u001b[0mself\u001b[0m\u001b[0;34m.\u001b[0m\u001b[0mcaptured_inputs\u001b[0m\u001b[0;34m,\u001b[0m \u001b[0mcancellation_manager\u001b[0m\u001b[0;34m)\u001b[0m\u001b[0;34m\u001b[0m\u001b[0;34m\u001b[0m\u001b[0m\n\u001b[0m\u001b[1;32m   1122\u001b[0m \u001b[0;34m\u001b[0m\u001b[0m\n\u001b[1;32m   1123\u001b[0m   \u001b[0;32mdef\u001b[0m \u001b[0m_filtered_call\u001b[0m\u001b[0;34m(\u001b[0m\u001b[0mself\u001b[0m\u001b[0;34m,\u001b[0m \u001b[0margs\u001b[0m\u001b[0;34m,\u001b[0m \u001b[0mkwargs\u001b[0m\u001b[0;34m)\u001b[0m\u001b[0;34m:\u001b[0m\u001b[0;34m\u001b[0m\u001b[0;34m\u001b[0m\u001b[0m\n",
      "\u001b[0;32m~/.conda/envs/wlai/lib/python3.6/site-packages/tensorflow_core/python/eager/function.py\u001b[0m in \u001b[0;36m_call_flat\u001b[0;34m(self, args, captured_inputs, cancellation_manager)\u001b[0m\n\u001b[1;32m   1222\u001b[0m     \u001b[0;32mif\u001b[0m \u001b[0mexecuting_eagerly\u001b[0m\u001b[0;34m:\u001b[0m\u001b[0;34m\u001b[0m\u001b[0;34m\u001b[0m\u001b[0m\n\u001b[1;32m   1223\u001b[0m       flat_outputs = forward_function.call(\n\u001b[0;32m-> 1224\u001b[0;31m           ctx, args, cancellation_manager=cancellation_manager)\n\u001b[0m\u001b[1;32m   1225\u001b[0m     \u001b[0;32melse\u001b[0m\u001b[0;34m:\u001b[0m\u001b[0;34m\u001b[0m\u001b[0;34m\u001b[0m\u001b[0m\n\u001b[1;32m   1226\u001b[0m       \u001b[0mgradient_name\u001b[0m \u001b[0;34m=\u001b[0m \u001b[0mself\u001b[0m\u001b[0;34m.\u001b[0m\u001b[0m_delayed_rewrite_functions\u001b[0m\u001b[0;34m.\u001b[0m\u001b[0mregister\u001b[0m\u001b[0;34m(\u001b[0m\u001b[0;34m)\u001b[0m\u001b[0;34m\u001b[0m\u001b[0;34m\u001b[0m\u001b[0m\n",
      "\u001b[0;32m~/.conda/envs/wlai/lib/python3.6/site-packages/tensorflow_core/python/eager/function.py\u001b[0m in \u001b[0;36mcall\u001b[0;34m(self, ctx, args, cancellation_manager)\u001b[0m\n\u001b[1;32m    509\u001b[0m               \u001b[0minputs\u001b[0m\u001b[0;34m=\u001b[0m\u001b[0margs\u001b[0m\u001b[0;34m,\u001b[0m\u001b[0;34m\u001b[0m\u001b[0;34m\u001b[0m\u001b[0m\n\u001b[1;32m    510\u001b[0m               \u001b[0mattrs\u001b[0m\u001b[0;34m=\u001b[0m\u001b[0;34m(\u001b[0m\u001b[0;34m\"executor_type\"\u001b[0m\u001b[0;34m,\u001b[0m \u001b[0mexecutor_type\u001b[0m\u001b[0;34m,\u001b[0m \u001b[0;34m\"config_proto\"\u001b[0m\u001b[0;34m,\u001b[0m \u001b[0mconfig\u001b[0m\u001b[0;34m)\u001b[0m\u001b[0;34m,\u001b[0m\u001b[0;34m\u001b[0m\u001b[0;34m\u001b[0m\u001b[0m\n\u001b[0;32m--> 511\u001b[0;31m               ctx=ctx)\n\u001b[0m\u001b[1;32m    512\u001b[0m         \u001b[0;32melse\u001b[0m\u001b[0;34m:\u001b[0m\u001b[0;34m\u001b[0m\u001b[0;34m\u001b[0m\u001b[0m\n\u001b[1;32m    513\u001b[0m           outputs = execute.execute_with_cancellation(\n",
      "\u001b[0;32m~/.conda/envs/wlai/lib/python3.6/site-packages/tensorflow_core/python/eager/execute.py\u001b[0m in \u001b[0;36mquick_execute\u001b[0;34m(op_name, num_outputs, inputs, attrs, ctx, name)\u001b[0m\n\u001b[1;32m     59\u001b[0m     tensors = pywrap_tensorflow.TFE_Py_Execute(ctx._handle, device_name,\n\u001b[1;32m     60\u001b[0m                                                \u001b[0mop_name\u001b[0m\u001b[0;34m,\u001b[0m \u001b[0minputs\u001b[0m\u001b[0;34m,\u001b[0m \u001b[0mattrs\u001b[0m\u001b[0;34m,\u001b[0m\u001b[0;34m\u001b[0m\u001b[0;34m\u001b[0m\u001b[0m\n\u001b[0;32m---> 61\u001b[0;31m                                                num_outputs)\n\u001b[0m\u001b[1;32m     62\u001b[0m   \u001b[0;32mexcept\u001b[0m \u001b[0mcore\u001b[0m\u001b[0;34m.\u001b[0m\u001b[0m_NotOkStatusException\u001b[0m \u001b[0;32mas\u001b[0m \u001b[0me\u001b[0m\u001b[0;34m:\u001b[0m\u001b[0;34m\u001b[0m\u001b[0;34m\u001b[0m\u001b[0m\n\u001b[1;32m     63\u001b[0m     \u001b[0;32mif\u001b[0m \u001b[0mname\u001b[0m \u001b[0;32mis\u001b[0m \u001b[0;32mnot\u001b[0m \u001b[0;32mNone\u001b[0m\u001b[0;34m:\u001b[0m\u001b[0;34m\u001b[0m\u001b[0;34m\u001b[0m\u001b[0m\n",
      "\u001b[0;31mKeyboardInterrupt\u001b[0m: "
     ]
    }
   ],
   "source": [
    "#Initial test with 9 element vectors for prediction\n",
    "\n",
    "epochCount = 20\n",
    "batchCount = 256\n",
    "numFeatures = len(featureNames)\n",
    "modelOut, model = runNNmodel(featureTrainStack, targetTrain, featureTestStack, targetTest, predictFeatures, predictTargets,\n",
    "               epochCount, batchCount, numFeatures)"
   ]
  },
  {
   "cell_type": "code",
   "execution_count": 32,
   "metadata": {},
   "outputs": [
    {
     "name": "stdout",
     "output_type": "stream",
     "text": [
      "Train on 698065 samples, validate on 5175 samples\n",
      "Epoch 1/20\n",
      "698065/698065 [==============================] - 12s 17us/step - loss: 6.9990e-04 - mae: 0.0114 - val_loss: 0.0080 - val_mae: 0.0619\n",
      "Epoch 2/20\n",
      "698065/698065 [==============================] - 13s 18us/step - loss: 1.9463e-04 - mae: 0.0092 - val_loss: 0.0057 - val_mae: 0.0511\n",
      "Epoch 3/20\n",
      "698065/698065 [==============================] - 12s 17us/step - loss: 1.8311e-04 - mae: 0.0089 - val_loss: 0.0052 - val_mae: 0.0503\n",
      "Epoch 4/20\n",
      "698065/698065 [==============================] - 12s 17us/step - loss: 1.7173e-04 - mae: 0.0086 - val_loss: 0.0036 - val_mae: 0.0390\n",
      "Epoch 5/20\n",
      "698065/698065 [==============================] - 12s 17us/step - loss: 1.6668e-04 - mae: 0.0085 - val_loss: 0.0026 - val_mae: 0.0326\n",
      "Epoch 6/20\n",
      "698065/698065 [==============================] - 12s 17us/step - loss: 1.6108e-04 - mae: 0.0083 - val_loss: 0.0024 - val_mae: 0.0316\n",
      "Epoch 7/20\n",
      "698065/698065 [==============================] - 12s 17us/step - loss: 1.5706e-04 - mae: 0.0082 - val_loss: 0.0030 - val_mae: 0.0334\n",
      "Epoch 8/20\n",
      "698065/698065 [==============================] - 12s 17us/step - loss: 1.5430e-04 - mae: 0.0082 - val_loss: 0.0025 - val_mae: 0.0298\n",
      "Epoch 9/20\n",
      "698065/698065 [==============================] - 13s 18us/step - loss: 1.5147e-04 - mae: 0.0081 - val_loss: 0.0040 - val_mae: 0.0409\n",
      "Epoch 10/20\n",
      "698065/698065 [==============================] - 12s 17us/step - loss: 1.4917e-04 - mae: 0.0080 - val_loss: 0.0022 - val_mae: 0.0287\n",
      "Epoch 11/20\n",
      "698065/698065 [==============================] - 11s 16us/step - loss: 1.4796e-04 - mae: 0.0080 - val_loss: 0.0024 - val_mae: 0.0310\n",
      "Epoch 12/20\n",
      "698065/698065 [==============================] - 12s 17us/step - loss: 1.4619e-04 - mae: 0.0080 - val_loss: 0.0021 - val_mae: 0.0293\n",
      "Epoch 13/20\n",
      "698065/698065 [==============================] - 13s 18us/step - loss: 1.4629e-04 - mae: 0.0079 - val_loss: 0.0019 - val_mae: 0.0310\n",
      "Epoch 14/20\n",
      "698065/698065 [==============================] - 12s 17us/step - loss: 1.4458e-04 - mae: 0.0079 - val_loss: 0.0025 - val_mae: 0.0278\n",
      "Epoch 15/20\n",
      "698065/698065 [==============================] - 12s 18us/step - loss: 1.4253e-04 - mae: 0.0079 - val_loss: 0.0021 - val_mae: 0.0264\n",
      "Epoch 16/20\n",
      "698065/698065 [==============================] - 12s 17us/step - loss: 1.4165e-04 - mae: 0.0078 - val_loss: 0.0028 - val_mae: 0.0295\n",
      "Epoch 17/20\n",
      "698065/698065 [==============================] - 12s 17us/step - loss: 1.4195e-04 - mae: 0.0079 - val_loss: 0.0021 - val_mae: 0.0252\n",
      "Epoch 18/20\n",
      "698065/698065 [==============================] - 12s 17us/step - loss: 1.4057e-04 - mae: 0.0078 - val_loss: 0.0024 - val_mae: 0.0281\n",
      "Epoch 19/20\n",
      "698065/698065 [==============================] - 12s 18us/step - loss: 1.3933e-04 - mae: 0.0078 - val_loss: 0.0020 - val_mae: 0.0281\n",
      "Epoch 20/20\n",
      "698065/698065 [==============================] - 12s 17us/step - loss: 1.3989e-04 - mae: 0.0078 - val_loss: 0.0022 - val_mae: 0.0272\n",
      "5175/5175 [==============================] - 0s 46us/step\n"
     ]
    },
    {
     "data": {
      "image/png": "[encoded data removed]",
      "text/plain": [
       "<Figure size 432x288 with 1 Axes>"
      ]
     },
     "metadata": {
      "needs_background": "light"
     },
     "output_type": "display_data"
    }
   ],
   "source": [
    "#Initial test with CM data - filling gaps (Using all times to train) - with Standard Scaler\n",
    "\n",
    "epochCount = 20\n",
    "batchCount = 256\n",
    "numFeatures = 23\n",
    "modelOut, model = runNNmodel(featureTrain, targetTrain, featureTest, targetTest, predictFeatures, predictTargets,\n",
    "               epochCount, batchCount, numFeatures)"
   ]
  },
  {
   "cell_type": "code",
   "execution_count": 19,
   "metadata": {},
   "outputs": [
    {
     "data": {
      "text/plain": [
       "<matplotlib.collections.PathCollection at 0x7f3908347be0>"
      ]
     },
     "execution_count": 19,
     "metadata": {},
     "output_type": "execute_result"
    },
    {
     "data": {
      "image/png": "[encoded data removed]",
      "text/plain": [
       "<Figure size 432x288 with 1 Axes>"
      ]
     },
     "metadata": {
      "needs_background": "light"
     },
     "output_type": "display_data"
    }
   ],
   "source": [
    "plt.scatter(modelOut['verified'],modelOut['modelPrediction'])"
   ]
  },
  {
   "cell_type": "code",
   "execution_count": 20,
   "metadata": {},
   "outputs": [],
   "source": [
    "pandasToMat(modelOut, predictFeatures, 'Fill_CapeMay')"
   ]
  },
  {
   "cell_type": "code",
   "execution_count": 9,
   "metadata": {},
   "outputs": [
    {
     "name": "stdout",
     "output_type": "stream",
     "text": [
      "Train on 701160 samples, validate on 10588 samples\n",
      "Epoch 1/20\n",
      "701160/701160 [==============================] - 14s 20us/step - loss: 4.4871e-04 - mae: 0.0095 - val_loss: 0.0092 - val_mae: 0.0619\n",
      "Epoch 2/20\n",
      "701160/701160 [==============================] - 12s 18us/step - loss: 1.6762e-04 - mae: 0.0075 - val_loss: 0.0075 - val_mae: 0.0442\n",
      "Epoch 3/20\n",
      "701160/701160 [==============================] - 13s 18us/step - loss: 1.5892e-04 - mae: 0.0071 - val_loss: 0.0071 - val_mae: 0.0477\n",
      "Epoch 4/20\n",
      "701160/701160 [==============================] - 13s 18us/step - loss: 1.4780e-04 - mae: 0.0068 - val_loss: 0.0107 - val_mae: 0.0626\n",
      "Epoch 5/20\n",
      "701160/701160 [==============================] - 12s 17us/step - loss: 1.4159e-04 - mae: 0.0067 - val_loss: 0.0103 - val_mae: 0.0630\n",
      "Epoch 6/20\n",
      "701160/701160 [==============================] - 12s 17us/step - loss: 1.3312e-04 - mae: 0.0064 - val_loss: 0.0125 - val_mae: 0.0668\n",
      "Epoch 7/20\n",
      "701160/701160 [==============================] - 12s 17us/step - loss: 1.2860e-04 - mae: 0.0063 - val_loss: 0.0074 - val_mae: 0.0453\n",
      "Epoch 8/20\n",
      "701160/701160 [==============================] - 12s 18us/step - loss: 1.2598e-04 - mae: 0.0063 - val_loss: 0.0110 - val_mae: 0.0654\n",
      "Epoch 9/20\n",
      "701160/701160 [==============================] - 12s 17us/step - loss: 1.2257e-04 - mae: 0.0062 - val_loss: 0.0083 - val_mae: 0.0525\n",
      "Epoch 10/20\n",
      "701160/701160 [==============================] - 12s 18us/step - loss: 1.2094e-04 - mae: 0.0062 - val_loss: 0.0063 - val_mae: 0.0441\n",
      "Epoch 11/20\n",
      "701160/701160 [==============================] - 12s 17us/step - loss: 1.1823e-04 - mae: 0.0061 - val_loss: 0.0112 - val_mae: 0.0633\n",
      "Epoch 12/20\n",
      "701160/701160 [==============================] - 13s 18us/step - loss: 1.1578e-04 - mae: 0.0061 - val_loss: 0.0106 - val_mae: 0.0621\n",
      "Epoch 13/20\n",
      "701160/701160 [==============================] - 12s 17us/step - loss: 1.1467e-04 - mae: 0.0060 - val_loss: 0.0076 - val_mae: 0.0499\n",
      "Epoch 14/20\n",
      "701160/701160 [==============================] - 12s 17us/step - loss: 1.1407e-04 - mae: 0.0060 - val_loss: 0.0100 - val_mae: 0.0603\n",
      "Epoch 15/20\n",
      "701160/701160 [==============================] - 12s 17us/step - loss: 1.1413e-04 - mae: 0.0060 - val_loss: 0.0082 - val_mae: 0.0558\n",
      "Epoch 16/20\n",
      "701160/701160 [==============================] - 12s 17us/step - loss: 1.1143e-04 - mae: 0.0060 - val_loss: 0.0079 - val_mae: 0.0505\n",
      "Epoch 17/20\n",
      "701160/701160 [==============================] - 12s 17us/step - loss: 1.1163e-04 - mae: 0.0060 - val_loss: 0.0068 - val_mae: 0.0402\n",
      "Epoch 18/20\n",
      "701160/701160 [==============================] - 12s 17us/step - loss: 1.1185e-04 - mae: 0.0059 - val_loss: 0.0056 - val_mae: 0.0470\n",
      "Epoch 19/20\n",
      "701160/701160 [==============================] - 12s 17us/step - loss: 1.0957e-04 - mae: 0.0059 - val_loss: 0.0081 - val_mae: 0.0504\n",
      "Epoch 20/20\n",
      "701160/701160 [==============================] - 12s 17us/step - loss: 1.0788e-04 - mae: 0.0059 - val_loss: 0.0073 - val_mae: 0.0453\n",
      "10588/10588 [==============================] - 1s 54us/step\n"
     ]
    },
    {
     "data": {
      "image/png": "[encoded data removed]",
      "text/plain": [
       "<Figure size 432x288 with 1 Axes>"
      ]
     },
     "metadata": {
      "needs_background": "light"
     },
     "output_type": "display_data"
    }
   ],
   "source": [
    "#Testing now with Lewes data - filling gaps (Using all times to train) - with Standard Scaler\n",
    "\n",
    "epochCount = 20\n",
    "batchCount = 256\n",
    "numFeatures = 23\n",
    "modelOut, model = runNNmodel(featureTrain, targetTrain, featureTest, targetTest, predictFeatures, predictTargets,\n",
    "               epochCount, batchCount, numFeatures)"
   ]
  },
  {
   "cell_type": "code",
   "execution_count": 10,
   "metadata": {},
   "outputs": [
    {
     "data": {
      "text/plain": [
       "<matplotlib.collections.PathCollection at 0x7f3920005cc0>"
      ]
     },
     "execution_count": 10,
     "metadata": {},
     "output_type": "execute_result"
    },
    {
     "data": {
      "image/png": "[encoded data removed]",
      "text/plain": [
       "<Figure size 432x288 with 1 Axes>"
      ]
     },
     "metadata": {
      "needs_background": "light"
     },
     "output_type": "display_data"
    }
   ],
   "source": [
    "plt.scatter(modelOut['verified'],modelOut['modelPrediction'])"
   ]
  },
  {
   "cell_type": "code",
   "execution_count": 11,
   "metadata": {},
   "outputs": [],
   "source": [
    "pandasToMat(modelOut, predictFeatures, 'Fill_Lewes')"
   ]
  },
  {
   "cell_type": "code",
   "execution_count": null,
   "metadata": {},
   "outputs": [],
   "source": [
    "#Testing now with AC data - filling gaps (Using all times to train) - with Standard Scaler\n",
    "\n",
    "epochCount = 20\n",
    "batchCount = 256\n",
    "numFeatures = 23\n",
    "modelOut, model = runNNmodel(featureTrain, targetTrain, featureTest, targetTest, predictFeatures, predictTargets,\n",
    "               epochCount, batchCount, numFeatures)"
   ]
  },
  {
   "cell_type": "code",
   "execution_count": null,
   "metadata": {},
   "outputs": [],
   "source": [
    "#Testing now with Boston data - filling gaps (Using all times to train) - with Standard Scaler\n",
    "\n",
    "epochCount = 20\n",
    "batchCount = 256\n",
    "numFeatures = 23\n",
    "modelOut, model = runNNmodel(featureTrain, targetTrain, featureTest, targetTest, predictFeatures, predictTargets,\n",
    "               epochCount, batchCount, numFeatures)"
   ]
  },
  {
   "cell_type": "code",
   "execution_count": 65,
   "metadata": {},
   "outputs": [
    {
     "name": "stdout",
     "output_type": "stream",
     "text": [
      "Train on 3495494 samples, validate on 35193 samples\n",
      "Epoch 1/20\n",
      "3495494/3495494 [==============================] - 66s 19us/step - loss: 0.0075 - mae: 0.0477 - val_loss: 0.0211 - val_mae: 0.0942\n",
      "Epoch 2/20\n",
      "3495494/3495494 [==============================] - 66s 19us/step - loss: 0.0027 - mae: 0.0267 - val_loss: 0.0211 - val_mae: 0.0915\n",
      "Epoch 3/20\n",
      "3495494/3495494 [==============================] - 67s 19us/step - loss: 0.0022 - mae: 0.0230 - val_loss: 0.0187 - val_mae: 0.0912\n",
      "Epoch 4/20\n",
      "3495494/3495494 [==============================] - 66s 19us/step - loss: 0.0020 - mae: 0.0212 - val_loss: 0.0125 - val_mae: 0.0693\n",
      "Epoch 5/20\n",
      "3495494/3495494 [==============================] - 69s 20us/step - loss: 0.0018 - mae: 0.0198 - val_loss: 0.0126 - val_mae: 0.0725\n",
      "Epoch 6/20\n",
      "3495494/3495494 [==============================] - 67s 19us/step - loss: 0.0017 - mae: 0.0189 - val_loss: 0.0120 - val_mae: 0.0685\n",
      "Epoch 7/20\n",
      "3495494/3495494 [==============================] - 68s 19us/step - loss: 0.0016 - mae: 0.0182 - val_loss: 0.0112 - val_mae: 0.0675\n",
      "Epoch 8/20\n",
      "3495494/3495494 [==============================] - 66s 19us/step - loss: 0.0015 - mae: 0.0176 - val_loss: 0.0114 - val_mae: 0.0664\n",
      "Epoch 9/20\n",
      "3495494/3495494 [==============================] - 67s 19us/step - loss: 0.0014 - mae: 0.0170 - val_loss: 0.0121 - val_mae: 0.0713\n",
      "Epoch 10/20\n",
      "3495494/3495494 [==============================] - 66s 19us/step - loss: 0.0014 - mae: 0.0166 - val_loss: 0.0128 - val_mae: 0.0680\n",
      "Epoch 11/20\n",
      "3495494/3495494 [==============================] - 65s 19us/step - loss: 0.0013 - mae: 0.0163 - val_loss: 0.0125 - val_mae: 0.0689\n",
      "Epoch 12/20\n",
      "3495494/3495494 [==============================] - 67s 19us/step - loss: 0.0013 - mae: 0.0160 - val_loss: 0.0115 - val_mae: 0.0659\n",
      "Epoch 13/20\n",
      "3495494/3495494 [==============================] - 66s 19us/step - loss: 0.0013 - mae: 0.0158 - val_loss: 0.0103 - val_mae: 0.0636\n",
      "Epoch 14/20\n",
      "3495494/3495494 [==============================] - 66s 19us/step - loss: 0.0012 - mae: 0.0156 - val_loss: 0.0125 - val_mae: 0.0678\n",
      "Epoch 15/20\n",
      "3495494/3495494 [==============================] - 68s 19us/step - loss: 0.0012 - mae: 0.0153 - val_loss: 0.0115 - val_mae: 0.0660\n",
      "Epoch 16/20\n",
      "3495494/3495494 [==============================] - 68s 19us/step - loss: 0.0011 - mae: 0.0150 - val_loss: 0.0126 - val_mae: 0.0749\n",
      "Epoch 17/20\n",
      "3495494/3495494 [==============================] - 68s 19us/step - loss: 0.0011 - mae: 0.0149 - val_loss: 0.0094 - val_mae: 0.0562\n",
      "Epoch 18/20\n",
      "3495494/3495494 [==============================] - 66s 19us/step - loss: 0.0011 - mae: 0.0146 - val_loss: 0.0115 - val_mae: 0.0631\n",
      "Epoch 19/20\n",
      "3495494/3495494 [==============================] - 69s 20us/step - loss: 0.0011 - mae: 0.0145 - val_loss: 0.0114 - val_mae: 0.0653\n",
      "Epoch 20/20\n",
      "3495494/3495494 [==============================] - 66s 19us/step - loss: 0.0011 - mae: 0.0144 - val_loss: 0.0110 - val_mae: 0.0612\n",
      "35193/35193 [==============================] - 2s 53us/step\n"
     ]
    },
    {
     "data": {
      "image/png": "[encoded data removed]",
      "text/plain": [
       "<Figure size 432x288 with 1 Axes>"
      ]
     },
     "metadata": {
      "needs_background": "light"
     },
     "output_type": "display_data"
    }
   ],
   "source": [
    "#Initial test with all data - filling gaps (Using all times to train) - with Standard Scaler\n",
    "\n",
    "epochCount = 20\n",
    "batchCount = 256\n",
    "numFeatures = 23\n",
    "modelOut, model = runNNmodel(featureTrain, targetTrain, featureTest, targetTest, predictFeatures, predictTargets,\n",
    "               epochCount, batchCount, numFeatures)"
   ]
  },
  {
   "cell_type": "code",
   "execution_count": 22,
   "metadata": {},
   "outputs": [],
   "source": [
    "#This is to prep targets for fitting in scikit-learn\n",
    "targetTrainIn=np.ravel(targetTrain)\n",
    "targetTestIn=np.ravel(targetTest)"
   ]
  },
  {
   "cell_type": "code",
   "execution_count": 40,
   "metadata": {},
   "outputs": [
    {
     "name": "stdout",
     "output_type": "stream",
     "text": [
      "CPU times: user 363 ms, sys: 144 ms, total: 507 ms\n",
      "Wall time: 223 ms\n"
     ]
    },
    {
     "data": {
      "text/plain": [
       "LinearRegression(copy_X=True, fit_intercept=True, n_jobs=None, normalize=False)"
      ]
     },
     "execution_count": 40,
     "metadata": {},
     "output_type": "execute_result"
    }
   ],
   "source": [
    "%%time\n",
    "# Fitting a linear regression\n",
    "from sklearn.linear_model import LinearRegression\n",
    "clf = LinearRegression()\n",
    "clf.fit(featureTrain, targetTrainIn)"
   ]
  },
  {
   "cell_type": "code",
   "execution_count": 43,
   "metadata": {},
   "outputs": [
    {
     "name": "stdout",
     "output_type": "stream",
     "text": [
      "mae train = 0.013709747805967972\n",
      "mae test = 0.15227738340426844\n"
     ]
    }
   ],
   "source": [
    "# prediction on the training dataset\n",
    "mae_train = mean_absolute_error(clf.predict(featureTrain),targetTrain['verified'])\n",
    "print('mae train = '+ str(mae_train))\n",
    "\n",
    "# prediction on the testing dataset\n",
    "mae_test = mean_absolute_error(clf.predict(featureTest),targetTest['verified'])\n",
    "print('mae test = '+ str(mae_test))"
   ]
  },
  {
   "cell_type": "code",
   "execution_count": 23,
   "metadata": {},
   "outputs": [
    {
     "name": "stdout",
     "output_type": "stream",
     "text": [
      "CPU times: user 5min 1s, sys: 120 ms, total: 5min 1s\n",
      "Wall time: 38.9 s\n"
     ]
    },
    {
     "data": {
      "text/plain": [
       "RandomForestRegressor(bootstrap=True, criterion='mse', max_depth=10,\n",
       "                      max_features='auto', max_leaf_nodes=None,\n",
       "                      min_impurity_decrease=0.0, min_impurity_split=None,\n",
       "                      min_samples_leaf=2, min_samples_split=2,\n",
       "                      min_weight_fraction_leaf=0.0, n_estimators=100, n_jobs=-1,\n",
       "                      oob_score=False, random_state=None, verbose=0,\n",
       "                      warm_start=False)"
      ]
     },
     "execution_count": 23,
     "metadata": {},
     "output_type": "execute_result"
    }
   ],
   "source": [
    "%%time\n",
    "from sklearn.ensemble import RandomForestRegressor\n",
    "\n",
    "# Fitting a Random Forest\n",
    "clf = RandomForestRegressor(n_estimators=100, n_jobs=-1, max_depth=10, min_samples_leaf=2)\n",
    "clf.fit(featureTrain, targetTrainIn)"
   ]
  },
  {
   "cell_type": "code",
   "execution_count": 24,
   "metadata": {},
   "outputs": [
    {
     "name": "stdout",
     "output_type": "stream",
     "text": [
      "mae train = 0.010301145862475209\n",
      "mae test = 0.050540699351446144\n"
     ]
    }
   ],
   "source": [
    "# prediction on the training dataset\n",
    "mae_train = mean_absolute_error(clf.predict(featureTrain),targetTrain['verified'])\n",
    "print('mae train = '+ str(mae_train))\n",
    "\n",
    "# prediction on the testing dataset\n",
    "mae_test = mean_absolute_error(clf.predict(featureTest),targetTest['verified'])\n",
    "print('mae test = '+ str(mae_test))"
   ]
  },
  {
   "cell_type": "code",
   "execution_count": 48,
   "metadata": {},
   "outputs": [
    {
     "name": "stdout",
     "output_type": "stream",
     "text": [
      "CPU times: user 1min 28s, sys: 12.2 ms, total: 1min 28s\n",
      "Wall time: 1min 28s\n"
     ]
    },
    {
     "data": {
      "text/plain": [
       "GradientBoostingRegressor(alpha=0.9, criterion='friedman_mse', init=None,\n",
       "                          learning_rate=0.1, loss='ls', max_depth=3,\n",
       "                          max_features=None, max_leaf_nodes=None,\n",
       "                          min_impurity_decrease=0.0, min_impurity_split=None,\n",
       "                          min_samples_leaf=1, min_samples_split=2,\n",
       "                          min_weight_fraction_leaf=0.0, n_estimators=200,\n",
       "                          n_iter_no_change=None, presort='auto',\n",
       "                          random_state=None, subsample=1.0, tol=0.0001,\n",
       "                          validation_fraction=0.1, verbose=0, warm_start=False)"
      ]
     },
     "execution_count": 48,
     "metadata": {},
     "output_type": "execute_result"
    }
   ],
   "source": [
    "%%time\n",
    "# Fitting a Gradient Boost\n",
    "from sklearn.ensemble import GradientBoostingRegressor\n",
    "clf = GradientBoostingRegressor(learning_rate=0.1, n_estimators=200)\n",
    "clf.fit(featureTrain, targetTrainIn)"
   ]
  },
  {
   "cell_type": "code",
   "execution_count": 49,
   "metadata": {},
   "outputs": [
    {
     "name": "stdout",
     "output_type": "stream",
     "text": [
      "mae train = 0.01550089753459561\n",
      "mae test = 0.08633827317570564\n"
     ]
    }
   ],
   "source": [
    "# prediction on the training dataset\n",
    "mae_train = mean_absolute_error(clf.predict(featureTrain),targetTrain['verified'])\n",
    "print('mae train = '+ str(mae_train))\n",
    "\n",
    "# prediction on the testing dataset\n",
    "mae_test = mean_absolute_error(clf.predict(featureTest),targetTest['verified'])\n",
    "print('mae test = '+ str(mae_test))"
   ]
  },
  {
   "cell_type": "code",
   "execution_count": null,
   "metadata": {},
   "outputs": [],
   "source": []
  }
 ],
 "metadata": {
  "kernelspec": {
   "display_name": "wlai_kernel",
   "language": "python",
   "name": "wlai_kernel"
  },
  "language_info": {
   "codemirror_mode": {
    "name": "ipython",
    "version": 3
   },
   "file_extension": ".py",
   "mimetype": "text/x-python",
   "name": "python",
   "nbconvert_exporter": "python",
   "pygments_lexer": "ipython3",
   "version": "3.6.7"
  }
 },
 "nbformat": 4,
 "nbformat_minor": 2
}
