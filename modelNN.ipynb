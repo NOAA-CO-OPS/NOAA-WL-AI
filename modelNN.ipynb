{
 "cells": [
  {
   "cell_type": "code",
   "execution_count": 1,
   "metadata": {},
   "outputs": [
    {
     "name": "stderr",
     "output_type": "stream",
     "text": [
      "Using TensorFlow backend.\n"
     ]
    }
   ],
   "source": [
    "%matplotlib inline\n",
    "\n",
    "import os\n",
    "from pathlib import Path\n",
    "import pandas as pd\n",
    "import datetime\n",
    "import matplotlib.pyplot as plt\n",
    "import matplotlib\n",
    "import numpy as np\n",
    "import itertools\n",
    "#import hvplot.pandas\n",
    "#import datashader as ds\n",
    "#from holoviews.operation.datashader import datashade, shade, dynspread, rasterize\n",
    "from sklearn.utils import shuffle\n",
    "from sklearn import preprocessing\n",
    "from sklearn.metrics import confusion_matrix\n",
    "from keras.models import Sequential\n",
    "from keras.layers import Dense, Activation"
   ]
  },
  {
   "cell_type": "markdown",
   "metadata": {},
   "source": [
    "First we are going to set up a few functions up front to help with analyzing and viewing our data and models later on"
   ]
  },
  {
   "cell_type": "code",
   "execution_count": 2,
   "metadata": {},
   "outputs": [],
   "source": [
    "# A function to assess the bad and good data points (0 or 1) for the training, testing and total data sets\n",
    "def assessTrainTestData(trainData, testData):\n",
    "    \n",
    "    totalTrainData = cmTrain.shape[0]\n",
    "    badTrainData = totalTrainData-cmTrain['goodPts'].sum()\n",
    "    fracTrainData=badTrainData / totalTrainData\n",
    "\n",
    "    totalTestData = cmTest.shape[0]\n",
    "    badTestData = totalTestData-cmTest['goodPts'].sum()\n",
    "    fracTestData=badTestData / totalTestData\n",
    "\n",
    "    print('Training Data Points')\n",
    "    print(totalTrainData)\n",
    "\n",
    "    print('Data manually QCed as 0 or bad')\n",
    "    print(badTrainData)\n",
    "\n",
    "    print('Fraction of data points which are bad')\n",
    "    print(fracTrainData)\n",
    "\n",
    "    print('\\n')\n",
    "\n",
    "    print('Testing Data Points')\n",
    "    print(totalTestData)\n",
    "\n",
    "    print('Data manually QCed as 0 or bad')\n",
    "    print(badTestData)\n",
    "\n",
    "    print('Fraction of data points which are bad')\n",
    "    print(fracTestData)\n",
    "    \n",
    "    return totalTrainData,badTrainData"
   ]
  },
  {
   "cell_type": "code",
   "execution_count": 3,
   "metadata": {},
   "outputs": [],
   "source": [
    "# a function to plot the confusion matrix\n",
    "def plotConfusionMatrix(cnfMatrix, classes,\n",
    "                          normalize=False,\n",
    "                          title='Confusion matrix',\n",
    "                          cmap=plt.cm.Blues,\n",
    "                        ):\n",
    "    \"\"\"\n",
    "    This function prints and plots the confusion matrix.\n",
    "    Normalization can be applied by setting `normalize=True`.\n",
    "    \"\"\"\n",
    "    cm = cnfMatrix\n",
    "    \n",
    "    if normalize:\n",
    "        cm = cm.astype('float') / cm.sum(axis=1)[:, np.newaxis]\n",
    "        print(\"Normalized confusion matrix\")\n",
    "    else:\n",
    "        print('Confusion matrix, without normalization')\n",
    "\n",
    "    print(cm)\n",
    "    \n",
    "    #Calculate the total accuracy - for all points\n",
    "    print('total accuracy = '+\n",
    "          '{:.4f}'.format((cnfMatrix[0,0]+cnfMatrix[1,1])/cnfMatrix.sum())\n",
    "         )\n",
    "    plt.imshow(cm, interpolation='nearest', cmap=cmap)\n",
    "    plt.title(title)\n",
    "\n",
    "    fmt = '.3f' if normalize else 'd'\n",
    "    thresh = cm.max() / 2.\n",
    "    for i, j in itertools.product(range(cm.shape[0]), range(cm.shape[1])):\n",
    "        plt.text(j, i, format(cm[i, j], fmt),\n",
    "                 horizontalalignment=\"center\",\n",
    "                 verticalalignment='center',\n",
    "                 color=\"white\" if cm[i, j] > thresh else \"black\")\n",
    "\n",
    "    #plt.tight_layout()\n",
    "    plt.ylabel('True label')\n",
    "    plt.xlabel('Predicted label')\n",
    "    xtick_marks = np.array([0,1])\n",
    "    plt.xticks(xtick_marks, classes)\n",
    "    ytick_marks=np.array([-.5,0,1,1.5])\n",
    "    ylabels=['',classes[0],classes[1],'']\n",
    "    plt.yticks(ytick_marks, ylabels,rotation=0)\n",
    "    plt.colorbar()\n",
    "    return"
   ]
  },
  {
   "cell_type": "markdown",
   "metadata": {},
   "source": [
    "This is function to combine the steps of setting up, fitting and evaluating our NN model"
   ]
  },
  {
   "cell_type": "code",
   "execution_count": 4,
   "metadata": {},
   "outputs": [],
   "source": [
    "def runNNmodel(featureTrain, targetTrain, featureTest, targetTest, predictFeatures, \n",
    "               epochCount, batchCount, classThreshold, numFeatures):\n",
    "\n",
    "    \"\"\"\n",
    "    where: \n",
    "        featureTrain = features used in training the model\n",
    "        targetTrain = targets (0 or 1) used in training the model\n",
    "        featureTest = features used for validation\n",
    "        targetTest = targets (0 or 1) used for valdation\n",
    "        predictFeatures = \n",
    "        epochCount = number of training cycles to use for NN model (10-20 seems reasonable)\n",
    "        batchCount = the batch size to use when training (somewhere from 32-256 seems reasonable)\n",
    "        classThreshold = the threshold from 0 to 1 used to classify a point as good or bad (default is 0.5)\n",
    "        numFeatures = the number of input features in the NN model\n",
    "    \"\"\"\n",
    "\n",
    "    #First define the keras NN framework to be used\n",
    "    # For a single-input model with 2 classes (binary classification):\n",
    "    model = Sequential()\n",
    "    model.add(Dense(16, activation='relu', input_dim=numFeatures))\n",
    "    model.add(Dense(16, activation='relu'))\n",
    "    model.add(Dense(1, activation='sigmoid'))\n",
    "    model.compile(optimizer='rmsprop',\n",
    "                  loss='binary_crossentropy',\n",
    "                  metrics=['accuracy'])\n",
    "    \n",
    "    # Train the model, iterating on the data in batches of X # samples (somewhere between 32 - 256)\n",
    "    history = model.fit(featureTrain, targetTrain, epochs=epochCount, batch_size=batchCount, validation_data=(featureTest, targetTest))\n",
    "    \n",
    "    #Evaulate the model\n",
    "    eval_model=model.evaluate(featureTest, targetTest)\n",
    "    eval_model\n",
    "    \n",
    "    #Plot the NN accuracy over each epoch\n",
    "    fig, ax = plt.subplots()\n",
    "    ax.plot(history.history['loss'])\n",
    "    ax.plot(history.history['val_loss'])\n",
    "    ax.legend(['Training','Validation'])\n",
    "    plt.show()\n",
    "    #fig.savefig('NN_modelTrainingHistory.png')\n",
    "    \n",
    "    #Generate predictions for the test period\n",
    "    modelPrediction = model.predict(featureTest, batch_size=32)\n",
    "\n",
    "    #And now use the threhsold to decide y or n\n",
    "    modelPredThresh=1*(modelPrediction >= classThreshold)\n",
    "\n",
    "    # Compute confusion matrix\n",
    "    cnfMatrix = confusion_matrix(targetTest, modelPredThresh)\n",
    "    np.set_printoptions(precision=2)\n",
    "\n",
    "    # Plot normalized confusion matrix\n",
    "    classNames = ['bad data point','good data point']\n",
    "    plotConfusionMatrix(cnfMatrix, classes=classNames,normalize=True,\n",
    "                      title='Confusion matrix, with normalization')\n",
    "    plt.show()\n",
    "    \n",
    "    #Generate model predictions for the validation period\n",
    "    modelPrediction = model.predict(predictFeatures, batch_size=32)\n",
    "    #Generate the y/n prediction given the above model threshold value (right now = 0.9)\n",
    "    modelPredThresh=1*(modelPrediction >= classThreshold)\n",
    "    \n",
    "    modelOut = pd.DataFrame()\n",
    "    modelOut['primary'] = cmTest['primary']\n",
    "    modelOut['modelPrediction']=modelPrediction\n",
    "    modelOut['InvModelPrediction']=1-modelPrediction\n",
    "    modelOut['goodPtsPrediction']=modelPredThresh\n",
    "    modelOut['goodPts'] = cmTest.loc[:,['goodPts']]\n",
    "    \n",
    "    return modelOut\n"
   ]
  },
  {
   "cell_type": "markdown",
   "metadata": {},
   "source": [
    "Read in the data from the files and do some initial prep"
   ]
  },
  {
   "cell_type": "code",
   "execution_count": 5,
   "metadata": {},
   "outputs": [
    {
     "data": {
      "text/html": [
       "<div>\n",
       "<style scoped>\n",
       "    .dataframe tbody tr th:only-of-type {\n",
       "        vertical-align: middle;\n",
       "    }\n",
       "\n",
       "    .dataframe tbody tr th {\n",
       "        vertical-align: top;\n",
       "    }\n",
       "\n",
       "    .dataframe thead th {\n",
       "        text-align: right;\n",
       "    }\n",
       "</style>\n",
       "<table border=\"1\" class=\"dataframe\">\n",
       "  <thead>\n",
       "    <tr style=\"text-align: right;\">\n",
       "      <th></th>\n",
       "      <th>primary</th>\n",
       "      <th>sigma</th>\n",
       "      <th>backup</th>\n",
       "      <th>verified</th>\n",
       "      <th>prediction</th>\n",
       "      <th>residual</th>\n",
       "      <th>goodPts</th>\n",
       "    </tr>\n",
       "    <tr>\n",
       "      <th>time</th>\n",
       "      <th></th>\n",
       "      <th></th>\n",
       "      <th></th>\n",
       "      <th></th>\n",
       "      <th></th>\n",
       "      <th></th>\n",
       "      <th></th>\n",
       "    </tr>\n",
       "  </thead>\n",
       "  <tbody>\n",
       "    <tr>\n",
       "      <th>2007-01-01 00:00:00</th>\n",
       "      <td>0.459</td>\n",
       "      <td>0.006</td>\n",
       "      <td>0.446</td>\n",
       "      <td>0.459</td>\n",
       "      <td>0.385</td>\n",
       "      <td>0.074</td>\n",
       "      <td>1</td>\n",
       "    </tr>\n",
       "    <tr>\n",
       "      <th>2007-01-01 00:06:00</th>\n",
       "      <td>0.437</td>\n",
       "      <td>0.005</td>\n",
       "      <td>0.425</td>\n",
       "      <td>0.437</td>\n",
       "      <td>0.365</td>\n",
       "      <td>0.072</td>\n",
       "      <td>1</td>\n",
       "    </tr>\n",
       "    <tr>\n",
       "      <th>2007-01-01 00:12:00</th>\n",
       "      <td>0.400</td>\n",
       "      <td>0.006</td>\n",
       "      <td>0.388</td>\n",
       "      <td>0.400</td>\n",
       "      <td>0.344</td>\n",
       "      <td>0.056</td>\n",
       "      <td>1</td>\n",
       "    </tr>\n",
       "    <tr>\n",
       "      <th>2007-01-01 00:18:00</th>\n",
       "      <td>0.376</td>\n",
       "      <td>0.006</td>\n",
       "      <td>0.363</td>\n",
       "      <td>0.376</td>\n",
       "      <td>0.321</td>\n",
       "      <td>0.055</td>\n",
       "      <td>1</td>\n",
       "    </tr>\n",
       "    <tr>\n",
       "      <th>2007-01-01 00:24:00</th>\n",
       "      <td>0.354</td>\n",
       "      <td>0.006</td>\n",
       "      <td>0.342</td>\n",
       "      <td>0.354</td>\n",
       "      <td>0.297</td>\n",
       "      <td>0.057</td>\n",
       "      <td>1</td>\n",
       "    </tr>\n",
       "  </tbody>\n",
       "</table>\n",
       "</div>"
      ],
      "text/plain": [
       "                     primary  sigma  backup  verified  prediction  residual  \\\n",
       "time                                                                          \n",
       "2007-01-01 00:00:00    0.459  0.006   0.446     0.459       0.385     0.074   \n",
       "2007-01-01 00:06:00    0.437  0.005   0.425     0.437       0.365     0.072   \n",
       "2007-01-01 00:12:00    0.400  0.006   0.388     0.400       0.344     0.056   \n",
       "2007-01-01 00:18:00    0.376  0.006   0.363     0.376       0.321     0.055   \n",
       "2007-01-01 00:24:00    0.354  0.006   0.342     0.354       0.297     0.057   \n",
       "\n",
       "                     goodPts  \n",
       "time                          \n",
       "2007-01-01 00:00:00        1  \n",
       "2007-01-01 00:06:00        1  \n",
       "2007-01-01 00:12:00        1  \n",
       "2007-01-01 00:18:00        1  \n",
       "2007-01-01 00:24:00        1  "
      ]
     },
     "execution_count": 5,
     "metadata": {},
     "output_type": "execute_result"
    }
   ],
   "source": [
    "cleaned = pd.read_pickle(Path(\"pickle_files/8536110_cm_raw_ver_merged_wl_Cleaned.p\"))\n",
    "targets = pd.read_pickle(Path(\"pickle_files/8536110_cm_raw_ver_merged_wl_Target.p\"))\n",
    "\n",
    "#Lets add residual (primary - prediction)\n",
    "cleaned['residual']=cleaned['primary']-cleaned['prediction']\n",
    "\n",
    "#Combining the cleaned structure with targets for ease of use purposes\n",
    "cleaned['goodPts']=targets['goodPts']\n",
    "\n",
    "#Set the index as the time and change to datetime\n",
    "cleaned.set_index('time', inplace = True)\n",
    "cleaned.index = pd.to_datetime(cleaned.index)\n",
    "\n",
    "cleaned.head()"
   ]
  },
  {
   "cell_type": "code",
   "execution_count": 6,
   "metadata": {},
   "outputs": [
    {
     "data": {
      "text/html": [
       "<div>\n",
       "<style scoped>\n",
       "    .dataframe tbody tr th:only-of-type {\n",
       "        vertical-align: middle;\n",
       "    }\n",
       "\n",
       "    .dataframe tbody tr th {\n",
       "        vertical-align: top;\n",
       "    }\n",
       "\n",
       "    .dataframe thead th {\n",
       "        text-align: right;\n",
       "    }\n",
       "</style>\n",
       "<table border=\"1\" class=\"dataframe\">\n",
       "  <thead>\n",
       "    <tr style=\"text-align: right;\">\n",
       "      <th></th>\n",
       "      <th>primary</th>\n",
       "      <th>sigma</th>\n",
       "      <th>backup</th>\n",
       "      <th>verified</th>\n",
       "      <th>prediction</th>\n",
       "      <th>residual</th>\n",
       "    </tr>\n",
       "    <tr>\n",
       "      <th>time</th>\n",
       "      <th></th>\n",
       "      <th></th>\n",
       "      <th></th>\n",
       "      <th></th>\n",
       "      <th></th>\n",
       "      <th></th>\n",
       "    </tr>\n",
       "  </thead>\n",
       "  <tbody>\n",
       "    <tr>\n",
       "      <th>2007-01-01 00:00:00</th>\n",
       "      <td>0.360</td>\n",
       "      <td>0.004</td>\n",
       "      <td>0.370</td>\n",
       "      <td>0.360</td>\n",
       "      <td>0.292</td>\n",
       "      <td>0.068</td>\n",
       "    </tr>\n",
       "    <tr>\n",
       "      <th>2007-01-01 00:06:00</th>\n",
       "      <td>0.342</td>\n",
       "      <td>0.008</td>\n",
       "      <td>0.348</td>\n",
       "      <td>0.342</td>\n",
       "      <td>0.278</td>\n",
       "      <td>0.064</td>\n",
       "    </tr>\n",
       "    <tr>\n",
       "      <th>2007-01-01 00:12:00</th>\n",
       "      <td>0.318</td>\n",
       "      <td>0.004</td>\n",
       "      <td>0.326</td>\n",
       "      <td>0.318</td>\n",
       "      <td>0.263</td>\n",
       "      <td>0.055</td>\n",
       "    </tr>\n",
       "    <tr>\n",
       "      <th>2007-01-01 00:18:00</th>\n",
       "      <td>0.306</td>\n",
       "      <td>0.007</td>\n",
       "      <td>0.315</td>\n",
       "      <td>0.306</td>\n",
       "      <td>0.247</td>\n",
       "      <td>0.059</td>\n",
       "    </tr>\n",
       "    <tr>\n",
       "      <th>2007-01-01 00:24:00</th>\n",
       "      <td>0.271</td>\n",
       "      <td>0.013</td>\n",
       "      <td>0.282</td>\n",
       "      <td>0.271</td>\n",
       "      <td>0.229</td>\n",
       "      <td>0.042</td>\n",
       "    </tr>\n",
       "  </tbody>\n",
       "</table>\n",
       "</div>"
      ],
      "text/plain": [
       "                     primary  sigma  backup  verified  prediction  residual\n",
       "time                                                                       \n",
       "2007-01-01 00:00:00    0.360  0.004   0.370     0.360       0.292     0.068\n",
       "2007-01-01 00:06:00    0.342  0.008   0.348     0.342       0.278     0.064\n",
       "2007-01-01 00:12:00    0.318  0.004   0.326     0.318       0.263     0.055\n",
       "2007-01-01 00:18:00    0.306  0.007   0.315     0.306       0.247     0.059\n",
       "2007-01-01 00:24:00    0.271  0.013   0.282     0.271       0.229     0.042"
      ]
     },
     "execution_count": 6,
     "metadata": {},
     "output_type": "execute_result"
    }
   ],
   "source": [
    "cleanedLewes = pd.read_pickle(Path(\"pickle_files/8557380_lewes_raw_ver_merged_wl_Cleaned.p\"))\n",
    "\n",
    "#Lets add residual (primary - prediction)\n",
    "cleanedLewes['residual']=cleanedLewes['primary']-cleanedLewes['prediction']\n",
    "\n",
    "#Set the index as the time and change to datetime\n",
    "cleanedLewes.set_index('time', inplace = True)\n",
    "cleanedLewes.index = pd.to_datetime(cleanedLewes.index)\n",
    "\n",
    "cleanedLewes.head()"
   ]
  },
  {
   "cell_type": "markdown",
   "metadata": {},
   "source": [
    "Now lets take the residual data and add it to the cleaned cape may dataframe"
   ]
  },
  {
   "cell_type": "code",
   "execution_count": 7,
   "metadata": {},
   "outputs": [
    {
     "data": {
      "text/html": [
       "<div>\n",
       "<style scoped>\n",
       "    .dataframe tbody tr th:only-of-type {\n",
       "        vertical-align: middle;\n",
       "    }\n",
       "\n",
       "    .dataframe tbody tr th {\n",
       "        vertical-align: top;\n",
       "    }\n",
       "\n",
       "    .dataframe thead th {\n",
       "        text-align: right;\n",
       "    }\n",
       "</style>\n",
       "<table border=\"1\" class=\"dataframe\">\n",
       "  <thead>\n",
       "    <tr style=\"text-align: right;\">\n",
       "      <th></th>\n",
       "      <th>primary</th>\n",
       "      <th>sigma</th>\n",
       "      <th>backup</th>\n",
       "      <th>verified</th>\n",
       "      <th>prediction</th>\n",
       "      <th>residual</th>\n",
       "      <th>goodPts</th>\n",
       "      <th>neighborResidual</th>\n",
       "    </tr>\n",
       "    <tr>\n",
       "      <th>time</th>\n",
       "      <th></th>\n",
       "      <th></th>\n",
       "      <th></th>\n",
       "      <th></th>\n",
       "      <th></th>\n",
       "      <th></th>\n",
       "      <th></th>\n",
       "      <th></th>\n",
       "    </tr>\n",
       "  </thead>\n",
       "  <tbody>\n",
       "    <tr>\n",
       "      <th>2007-01-01 00:00:00</th>\n",
       "      <td>0.459</td>\n",
       "      <td>0.006</td>\n",
       "      <td>0.446</td>\n",
       "      <td>0.459</td>\n",
       "      <td>0.385</td>\n",
       "      <td>0.074</td>\n",
       "      <td>1</td>\n",
       "      <td>0.068</td>\n",
       "    </tr>\n",
       "    <tr>\n",
       "      <th>2007-01-01 00:06:00</th>\n",
       "      <td>0.437</td>\n",
       "      <td>0.005</td>\n",
       "      <td>0.425</td>\n",
       "      <td>0.437</td>\n",
       "      <td>0.365</td>\n",
       "      <td>0.072</td>\n",
       "      <td>1</td>\n",
       "      <td>0.064</td>\n",
       "    </tr>\n",
       "    <tr>\n",
       "      <th>2007-01-01 00:12:00</th>\n",
       "      <td>0.400</td>\n",
       "      <td>0.006</td>\n",
       "      <td>0.388</td>\n",
       "      <td>0.400</td>\n",
       "      <td>0.344</td>\n",
       "      <td>0.056</td>\n",
       "      <td>1</td>\n",
       "      <td>0.055</td>\n",
       "    </tr>\n",
       "    <tr>\n",
       "      <th>2007-01-01 00:18:00</th>\n",
       "      <td>0.376</td>\n",
       "      <td>0.006</td>\n",
       "      <td>0.363</td>\n",
       "      <td>0.376</td>\n",
       "      <td>0.321</td>\n",
       "      <td>0.055</td>\n",
       "      <td>1</td>\n",
       "      <td>0.059</td>\n",
       "    </tr>\n",
       "    <tr>\n",
       "      <th>2007-01-01 00:24:00</th>\n",
       "      <td>0.354</td>\n",
       "      <td>0.006</td>\n",
       "      <td>0.342</td>\n",
       "      <td>0.354</td>\n",
       "      <td>0.297</td>\n",
       "      <td>0.057</td>\n",
       "      <td>1</td>\n",
       "      <td>0.042</td>\n",
       "    </tr>\n",
       "  </tbody>\n",
       "</table>\n",
       "</div>"
      ],
      "text/plain": [
       "                     primary  sigma  backup  verified  prediction  residual  \\\n",
       "time                                                                          \n",
       "2007-01-01 00:00:00    0.459  0.006   0.446     0.459       0.385     0.074   \n",
       "2007-01-01 00:06:00    0.437  0.005   0.425     0.437       0.365     0.072   \n",
       "2007-01-01 00:12:00    0.400  0.006   0.388     0.400       0.344     0.056   \n",
       "2007-01-01 00:18:00    0.376  0.006   0.363     0.376       0.321     0.055   \n",
       "2007-01-01 00:24:00    0.354  0.006   0.342     0.354       0.297     0.057   \n",
       "\n",
       "                     goodPts  neighborResidual  \n",
       "time                                            \n",
       "2007-01-01 00:00:00        1             0.068  \n",
       "2007-01-01 00:06:00        1             0.064  \n",
       "2007-01-01 00:12:00        1             0.055  \n",
       "2007-01-01 00:18:00        1             0.059  \n",
       "2007-01-01 00:24:00        1             0.042  "
      ]
     },
     "execution_count": 7,
     "metadata": {},
     "output_type": "execute_result"
    }
   ],
   "source": [
    "cleaned['neighborResidual']=cleanedLewes['residual']\n",
    "cleaned.head()"
   ]
  },
  {
   "cell_type": "markdown",
   "metadata": {},
   "source": [
    "Since the neighbor station will have some missing data points for when CM data is present but Lewes isnt - I am going to replace null values with 0 and then add a binary 0,1 feature that is 0 when missing and 1 when present."
   ]
  },
  {
   "cell_type": "code",
   "execution_count": 8,
   "metadata": {},
   "outputs": [
    {
     "data": {
      "text/html": [
       "<div>\n",
       "<style scoped>\n",
       "    .dataframe tbody tr th:only-of-type {\n",
       "        vertical-align: middle;\n",
       "    }\n",
       "\n",
       "    .dataframe tbody tr th {\n",
       "        vertical-align: top;\n",
       "    }\n",
       "\n",
       "    .dataframe thead th {\n",
       "        text-align: right;\n",
       "    }\n",
       "</style>\n",
       "<table border=\"1\" class=\"dataframe\">\n",
       "  <thead>\n",
       "    <tr style=\"text-align: right;\">\n",
       "      <th></th>\n",
       "      <th>primary</th>\n",
       "      <th>sigma</th>\n",
       "      <th>backup</th>\n",
       "      <th>verified</th>\n",
       "      <th>prediction</th>\n",
       "      <th>residual</th>\n",
       "      <th>goodPts</th>\n",
       "      <th>neighborResidual</th>\n",
       "      <th>neighborTrue</th>\n",
       "    </tr>\n",
       "    <tr>\n",
       "      <th>time</th>\n",
       "      <th></th>\n",
       "      <th></th>\n",
       "      <th></th>\n",
       "      <th></th>\n",
       "      <th></th>\n",
       "      <th></th>\n",
       "      <th></th>\n",
       "      <th></th>\n",
       "      <th></th>\n",
       "    </tr>\n",
       "  </thead>\n",
       "  <tbody>\n",
       "    <tr>\n",
       "      <th>2007-01-01 00:00:00</th>\n",
       "      <td>0.459</td>\n",
       "      <td>0.006</td>\n",
       "      <td>0.446</td>\n",
       "      <td>0.459</td>\n",
       "      <td>0.385</td>\n",
       "      <td>0.074</td>\n",
       "      <td>1</td>\n",
       "      <td>0.068</td>\n",
       "      <td>1</td>\n",
       "    </tr>\n",
       "    <tr>\n",
       "      <th>2007-01-01 00:06:00</th>\n",
       "      <td>0.437</td>\n",
       "      <td>0.005</td>\n",
       "      <td>0.425</td>\n",
       "      <td>0.437</td>\n",
       "      <td>0.365</td>\n",
       "      <td>0.072</td>\n",
       "      <td>1</td>\n",
       "      <td>0.064</td>\n",
       "      <td>1</td>\n",
       "    </tr>\n",
       "    <tr>\n",
       "      <th>2007-01-01 00:12:00</th>\n",
       "      <td>0.400</td>\n",
       "      <td>0.006</td>\n",
       "      <td>0.388</td>\n",
       "      <td>0.400</td>\n",
       "      <td>0.344</td>\n",
       "      <td>0.056</td>\n",
       "      <td>1</td>\n",
       "      <td>0.055</td>\n",
       "      <td>1</td>\n",
       "    </tr>\n",
       "    <tr>\n",
       "      <th>2007-01-01 00:18:00</th>\n",
       "      <td>0.376</td>\n",
       "      <td>0.006</td>\n",
       "      <td>0.363</td>\n",
       "      <td>0.376</td>\n",
       "      <td>0.321</td>\n",
       "      <td>0.055</td>\n",
       "      <td>1</td>\n",
       "      <td>0.059</td>\n",
       "      <td>1</td>\n",
       "    </tr>\n",
       "    <tr>\n",
       "      <th>2007-01-01 00:24:00</th>\n",
       "      <td>0.354</td>\n",
       "      <td>0.006</td>\n",
       "      <td>0.342</td>\n",
       "      <td>0.354</td>\n",
       "      <td>0.297</td>\n",
       "      <td>0.057</td>\n",
       "      <td>1</td>\n",
       "      <td>0.042</td>\n",
       "      <td>1</td>\n",
       "    </tr>\n",
       "  </tbody>\n",
       "</table>\n",
       "</div>"
      ],
      "text/plain": [
       "                     primary  sigma  backup  verified  prediction  residual  \\\n",
       "time                                                                          \n",
       "2007-01-01 00:00:00    0.459  0.006   0.446     0.459       0.385     0.074   \n",
       "2007-01-01 00:06:00    0.437  0.005   0.425     0.437       0.365     0.072   \n",
       "2007-01-01 00:12:00    0.400  0.006   0.388     0.400       0.344     0.056   \n",
       "2007-01-01 00:18:00    0.376  0.006   0.363     0.376       0.321     0.055   \n",
       "2007-01-01 00:24:00    0.354  0.006   0.342     0.354       0.297     0.057   \n",
       "\n",
       "                     goodPts  neighborResidual  neighborTrue  \n",
       "time                                                          \n",
       "2007-01-01 00:00:00        1             0.068             1  \n",
       "2007-01-01 00:06:00        1             0.064             1  \n",
       "2007-01-01 00:12:00        1             0.055             1  \n",
       "2007-01-01 00:18:00        1             0.059             1  \n",
       "2007-01-01 00:24:00        1             0.042             1  "
      ]
     },
     "execution_count": 8,
     "metadata": {},
     "output_type": "execute_result"
    }
   ],
   "source": [
    "neighborTrue = cleaned['neighborResidual'].notnull()\n",
    "cleaned['neighborTrue'] = neighborTrue * 1\n",
    "\n",
    "test = cleaned['neighborResidual'].fillna(value=0, inplace = True)\n",
    "cleaned.head()"
   ]
  },
  {
   "cell_type": "code",
   "execution_count": 9,
   "metadata": {},
   "outputs": [
    {
     "data": {
      "text/plain": [
       "<matplotlib.collections.PathCollection at 0x7fbff0938cc0>"
      ]
     },
     "execution_count": 9,
     "metadata": {},
     "output_type": "execute_result"
    },
    {
     "data": {
      "image/png": "[encoded data removed]",
      "text/plain": [
       "<Figure size 432x288 with 1 Axes>"
      ]
     },
     "metadata": {
      "needs_background": "light"
     },
     "output_type": "display_data"
    }
   ],
   "source": [
    "#Scatter to confirm that the boolean was executed properly - there should be data points at 0,0 and a range of values when x axis = 1\n",
    "plt.scatter(cleaned['neighborTrue'],cleaned['neighborResidual'])"
   ]
  },
  {
   "cell_type": "markdown",
   "metadata": {},
   "source": [
    "Lets try a scatter matrix to get a sense of the data and how it relates to each other (note that this was taking forever with the whole data set, so just using the first year for an example)"
   ]
  },
  {
   "cell_type": "code",
   "execution_count": 10,
   "metadata": {},
   "outputs": [],
   "source": [
    "#from pandas.plotting import scatter_matrix\n",
    "\n",
    "#scatter_matrix(cleaned.loc[:'2008-12-31 23:54:00',['primary','sigma','backup','prediction']], figsize=(12,8))"
   ]
  },
  {
   "cell_type": "markdown",
   "metadata": {},
   "source": [
    "Then try plotting each variable to determine if outliers should be capped or replaced"
   ]
  },
  {
   "cell_type": "code",
   "execution_count": 12,
   "metadata": {},
   "outputs": [
    {
     "data": {
      "text/plain": [
       "<matplotlib.axes._subplots.AxesSubplot at 0x7fbff06f4400>"
      ]
     },
     "execution_count": 12,
     "metadata": {},
     "output_type": "execute_result"
    },
    {
     "data": {
      "image/png": "[encoded data removed]",
      "text/plain": [
       "<Figure size 864x432 with 1 Axes>"
      ]
     },
     "metadata": {
      "needs_background": "light"
     },
     "output_type": "display_data"
    }
   ],
   "source": [
    "cleaned[['residual','neighborResidual']].plot(figsize=(12,6))"
   ]
  },
  {
   "cell_type": "markdown",
   "metadata": {},
   "source": [
    "Next we need to set thresholds for outliers for each observed value and replace the outiers with the max or min threshold value"
   ]
  },
  {
   "cell_type": "code",
   "execution_count": 13,
   "metadata": {},
   "outputs": [],
   "source": [
    "cleaned['primary'] = cleaned['primary'].mask(cleaned['primary'] >5, 5)\n",
    "cleaned['primary'] = cleaned['primary'].mask(cleaned['primary'] < -5, -5)\n",
    "\n",
    "cleaned['backup'] = cleaned['backup'].mask(cleaned['backup'] >5, 5)\n",
    "cleaned['backup'] = cleaned['backup'].mask(cleaned['backup'] < -5, -5)\n",
    "\n",
    "cleaned['residual'] = cleaned['residual'].mask(cleaned['residual'] >5, 5)\n",
    "cleaned['residual'] = cleaned['residual'].mask(cleaned['residual'] < -5, -5)\n",
    "\n",
    "cleaned['neighborResidual'] = cleaned['neighborResidual'].mask(cleaned['neighborResidual'] >5, 5)\n",
    "cleaned['neighborResidual'] = cleaned['neighborResidual'].mask(cleaned['neighborResidual'] < -5, -5)\n",
    "\n",
    "cleaned['sigma'] = cleaned['sigma'].mask(cleaned['sigma'] > 1, 1)\n",
    "cleaned['sigma'] = cleaned['sigma'].mask(cleaned['sigma'] < 0, 0)"
   ]
  },
  {
   "cell_type": "markdown",
   "metadata": {},
   "source": [
    "Break up into training and test sections, "
   ]
  },
  {
   "cell_type": "code",
   "execution_count": 14,
   "metadata": {},
   "outputs": [
    {
     "data": {
      "text/html": [
       "<div>\n",
       "<style scoped>\n",
       "    .dataframe tbody tr th:only-of-type {\n",
       "        vertical-align: middle;\n",
       "    }\n",
       "\n",
       "    .dataframe tbody tr th {\n",
       "        vertical-align: top;\n",
       "    }\n",
       "\n",
       "    .dataframe thead th {\n",
       "        text-align: right;\n",
       "    }\n",
       "</style>\n",
       "<table border=\"1\" class=\"dataframe\">\n",
       "  <thead>\n",
       "    <tr style=\"text-align: right;\">\n",
       "      <th></th>\n",
       "      <th>primary</th>\n",
       "      <th>sigma</th>\n",
       "      <th>backup</th>\n",
       "      <th>verified</th>\n",
       "      <th>prediction</th>\n",
       "      <th>residual</th>\n",
       "      <th>goodPts</th>\n",
       "      <th>neighborResidual</th>\n",
       "      <th>neighborTrue</th>\n",
       "    </tr>\n",
       "    <tr>\n",
       "      <th>time</th>\n",
       "      <th></th>\n",
       "      <th></th>\n",
       "      <th></th>\n",
       "      <th></th>\n",
       "      <th></th>\n",
       "      <th></th>\n",
       "      <th></th>\n",
       "      <th></th>\n",
       "      <th></th>\n",
       "    </tr>\n",
       "  </thead>\n",
       "  <tbody>\n",
       "    <tr>\n",
       "      <th>2015-01-01 00:00:00</th>\n",
       "      <td>0.136</td>\n",
       "      <td>0.007</td>\n",
       "      <td>0.156</td>\n",
       "      <td>0.136</td>\n",
       "      <td>0.168</td>\n",
       "      <td>-0.032</td>\n",
       "      <td>1</td>\n",
       "      <td>-0.048</td>\n",
       "      <td>1</td>\n",
       "    </tr>\n",
       "    <tr>\n",
       "      <th>2015-01-01 00:06:00</th>\n",
       "      <td>0.094</td>\n",
       "      <td>0.007</td>\n",
       "      <td>0.114</td>\n",
       "      <td>0.094</td>\n",
       "      <td>0.134</td>\n",
       "      <td>-0.040</td>\n",
       "      <td>1</td>\n",
       "      <td>-0.043</td>\n",
       "      <td>1</td>\n",
       "    </tr>\n",
       "    <tr>\n",
       "      <th>2015-01-01 00:12:00</th>\n",
       "      <td>0.055</td>\n",
       "      <td>0.007</td>\n",
       "      <td>0.075</td>\n",
       "      <td>0.055</td>\n",
       "      <td>0.099</td>\n",
       "      <td>-0.044</td>\n",
       "      <td>1</td>\n",
       "      <td>-0.057</td>\n",
       "      <td>1</td>\n",
       "    </tr>\n",
       "    <tr>\n",
       "      <th>2015-01-01 00:18:00</th>\n",
       "      <td>0.018</td>\n",
       "      <td>0.006</td>\n",
       "      <td>0.039</td>\n",
       "      <td>0.018</td>\n",
       "      <td>0.063</td>\n",
       "      <td>-0.045</td>\n",
       "      <td>1</td>\n",
       "      <td>-0.054</td>\n",
       "      <td>1</td>\n",
       "    </tr>\n",
       "    <tr>\n",
       "      <th>2015-01-01 00:24:00</th>\n",
       "      <td>-0.009</td>\n",
       "      <td>0.006</td>\n",
       "      <td>0.012</td>\n",
       "      <td>-0.009</td>\n",
       "      <td>0.027</td>\n",
       "      <td>-0.036</td>\n",
       "      <td>1</td>\n",
       "      <td>-0.050</td>\n",
       "      <td>1</td>\n",
       "    </tr>\n",
       "  </tbody>\n",
       "</table>\n",
       "</div>"
      ],
      "text/plain": [
       "                     primary  sigma  backup  verified  prediction  residual  \\\n",
       "time                                                                          \n",
       "2015-01-01 00:00:00    0.136  0.007   0.156     0.136       0.168    -0.032   \n",
       "2015-01-01 00:06:00    0.094  0.007   0.114     0.094       0.134    -0.040   \n",
       "2015-01-01 00:12:00    0.055  0.007   0.075     0.055       0.099    -0.044   \n",
       "2015-01-01 00:18:00    0.018  0.006   0.039     0.018       0.063    -0.045   \n",
       "2015-01-01 00:24:00   -0.009  0.006   0.012    -0.009       0.027    -0.036   \n",
       "\n",
       "                     goodPts  neighborResidual  neighborTrue  \n",
       "time                                                          \n",
       "2015-01-01 00:00:00        1            -0.048             1  \n",
       "2015-01-01 00:06:00        1            -0.043             1  \n",
       "2015-01-01 00:12:00        1            -0.057             1  \n",
       "2015-01-01 00:18:00        1            -0.054             1  \n",
       "2015-01-01 00:24:00        1            -0.050             1  "
      ]
     },
     "execution_count": 14,
     "metadata": {},
     "output_type": "execute_result"
    }
   ],
   "source": [
    "cmTrain = cleaned.loc[:'2014-12-31 23:54:00']\n",
    "cmTest = cleaned.loc['2015-01-01 00:00:00':]\n",
    "cmTest.head()"
   ]
  },
  {
   "cell_type": "markdown",
   "metadata": {},
   "source": [
    "Calculate the standard scalar to demean and scale each feature by its standard deviation.  The scalar should be calculated on the training data set and then applied to both the training and testing set.  This is because in theory we should not yet know what the distribution of the testing set would be when creating our model."
   ]
  },
  {
   "cell_type": "code",
   "execution_count": 15,
   "metadata": {},
   "outputs": [
    {
     "data": {
      "text/html": [
       "<div>\n",
       "<style scoped>\n",
       "    .dataframe tbody tr th:only-of-type {\n",
       "        vertical-align: middle;\n",
       "    }\n",
       "\n",
       "    .dataframe tbody tr th {\n",
       "        vertical-align: top;\n",
       "    }\n",
       "\n",
       "    .dataframe thead th {\n",
       "        text-align: right;\n",
       "    }\n",
       "</style>\n",
       "<table border=\"1\" class=\"dataframe\">\n",
       "  <thead>\n",
       "    <tr style=\"text-align: right;\">\n",
       "      <th></th>\n",
       "      <th>primary</th>\n",
       "      <th>sigma</th>\n",
       "      <th>backup</th>\n",
       "      <th>prediction</th>\n",
       "      <th>residual</th>\n",
       "      <th>neighborResidual</th>\n",
       "      <th>goodPts</th>\n",
       "      <th>neighborTrue</th>\n",
       "    </tr>\n",
       "    <tr>\n",
       "      <th>time</th>\n",
       "      <th></th>\n",
       "      <th></th>\n",
       "      <th></th>\n",
       "      <th></th>\n",
       "      <th></th>\n",
       "      <th></th>\n",
       "      <th></th>\n",
       "      <th></th>\n",
       "    </tr>\n",
       "  </thead>\n",
       "  <tbody>\n",
       "    <tr>\n",
       "      <th>2015-01-01 00:00:00</th>\n",
       "      <td>-0.054986</td>\n",
       "      <td>-0.082504</td>\n",
       "      <td>0.084219</td>\n",
       "      <td>0.315907</td>\n",
       "      <td>-0.489993</td>\n",
       "      <td>-0.648652</td>\n",
       "      <td>1</td>\n",
       "      <td>1</td>\n",
       "    </tr>\n",
       "    <tr>\n",
       "      <th>2015-01-01 00:06:00</th>\n",
       "      <td>-0.118430</td>\n",
       "      <td>-0.082504</td>\n",
       "      <td>0.009047</td>\n",
       "      <td>0.253043</td>\n",
       "      <td>-0.508907</td>\n",
       "      <td>-0.628395</td>\n",
       "      <td>1</td>\n",
       "      <td>1</td>\n",
       "    </tr>\n",
       "    <tr>\n",
       "      <th>2015-01-01 00:12:00</th>\n",
       "      <td>-0.177341</td>\n",
       "      <td>-0.082504</td>\n",
       "      <td>-0.060756</td>\n",
       "      <td>0.188331</td>\n",
       "      <td>-0.518363</td>\n",
       "      <td>-0.685114</td>\n",
       "      <td>1</td>\n",
       "      <td>1</td>\n",
       "    </tr>\n",
       "    <tr>\n",
       "      <th>2015-01-01 00:18:00</th>\n",
       "      <td>-0.233231</td>\n",
       "      <td>-0.132471</td>\n",
       "      <td>-0.125189</td>\n",
       "      <td>0.121769</td>\n",
       "      <td>-0.520727</td>\n",
       "      <td>-0.672960</td>\n",
       "      <td>1</td>\n",
       "      <td>1</td>\n",
       "    </tr>\n",
       "    <tr>\n",
       "      <th>2015-01-01 00:24:00</th>\n",
       "      <td>-0.274016</td>\n",
       "      <td>-0.132471</td>\n",
       "      <td>-0.173514</td>\n",
       "      <td>0.055208</td>\n",
       "      <td>-0.499450</td>\n",
       "      <td>-0.656755</td>\n",
       "      <td>1</td>\n",
       "      <td>1</td>\n",
       "    </tr>\n",
       "  </tbody>\n",
       "</table>\n",
       "</div>"
      ],
      "text/plain": [
       "                      primary     sigma    backup  prediction  residual  \\\n",
       "time                                                                      \n",
       "2015-01-01 00:00:00 -0.054986 -0.082504  0.084219    0.315907 -0.489993   \n",
       "2015-01-01 00:06:00 -0.118430 -0.082504  0.009047    0.253043 -0.508907   \n",
       "2015-01-01 00:12:00 -0.177341 -0.082504 -0.060756    0.188331 -0.518363   \n",
       "2015-01-01 00:18:00 -0.233231 -0.132471 -0.125189    0.121769 -0.520727   \n",
       "2015-01-01 00:24:00 -0.274016 -0.132471 -0.173514    0.055208 -0.499450   \n",
       "\n",
       "                     neighborResidual  goodPts  neighborTrue  \n",
       "time                                                          \n",
       "2015-01-01 00:00:00         -0.648652        1             1  \n",
       "2015-01-01 00:06:00         -0.628395        1             1  \n",
       "2015-01-01 00:12:00         -0.685114        1             1  \n",
       "2015-01-01 00:18:00         -0.672960        1             1  \n",
       "2015-01-01 00:24:00         -0.656755        1             1  "
      ]
     },
     "execution_count": 15,
     "metadata": {},
     "output_type": "execute_result"
    }
   ],
   "source": [
    "# Get column names first\n",
    "names = ['primary','sigma','backup','prediction','residual','neighborResidual']\n",
    "# Create the Scaler object\n",
    "scaler = preprocessing.StandardScaler()\n",
    "\n",
    "# Fit your data on the scaler object\n",
    "cmTrainScaled = scaler.fit_transform(cmTrain.loc[:,['primary','sigma','backup','prediction','residual','neighborResidual']])\n",
    "cmTrainScaled = pd.DataFrame(cmTrainScaled, columns=names)\n",
    "cmTrainScaled.set_index(cmTrain.index, inplace = True)\n",
    "cmTrainScaled[['goodPts','neighborTrue']]=cmTrain[['goodPts','neighborTrue']]\n",
    "\n",
    "\n",
    "#Apply the fit to the test data\n",
    "cmTestScaled = scaler.transform(cmTest.loc[:,['primary','sigma','backup','prediction','residual','neighborResidual']])\n",
    "cmTestScaled = pd.DataFrame(cmTestScaled, columns=names)\n",
    "cmTestScaled.set_index(cmTest.index, inplace = True)\n",
    "cmTestScaled[['goodPts','neighborTrue']]=cmTest[['goodPts','neighborTrue']]\n",
    "\n",
    "cmTestScaled.head()"
   ]
  },
  {
   "cell_type": "code",
   "execution_count": 16,
   "metadata": {},
   "outputs": [
    {
     "data": {
      "text/plain": [
       "<matplotlib.axes._subplots.AxesSubplot at 0x7fbff05d7588>"
      ]
     },
     "execution_count": 16,
     "metadata": {},
     "output_type": "execute_result"
    },
    {
     "data": {
      "image/png": "[encoded data removed]",
      "text/plain": [
       "<Figure size 864x432 with 1 Axes>"
      ]
     },
     "metadata": {
      "needs_background": "light"
     },
     "output_type": "display_data"
    }
   ],
   "source": [
    "cmTestScaled[['residual','neighborResidual']].plot(figsize=(12,6))"
   ]
  },
  {
   "cell_type": "markdown",
   "metadata": {},
   "source": [
    "Do some comparisons to see the y/n reprentations between Train and Test sets"
   ]
  },
  {
   "cell_type": "code",
   "execution_count": 17,
   "metadata": {},
   "outputs": [
    {
     "name": "stdout",
     "output_type": "stream",
     "text": [
      "Training Data Points\n",
      "550665\n",
      "Data manually QCed as 0 or bad\n",
      "24691\n",
      "Fraction of data points which are bad\n",
      "0.04483851343375737\n",
      "\n",
      "\n",
      "Testing Data Points\n",
      "223835\n",
      "Data manually QCed as 0 or bad\n",
      "5179\n",
      "Fraction of data points which are bad\n",
      "0.02313757902026046\n"
     ]
    }
   ],
   "source": [
    "(totalTrainData, noTrainData) = assessTrainTestData(cmTrain,cmTest)"
   ]
  },
  {
   "cell_type": "markdown",
   "metadata": {},
   "source": [
    "Shuffle the individual training and testing sections to aid with NN fit"
   ]
  },
  {
   "cell_type": "code",
   "execution_count": 18,
   "metadata": {},
   "outputs": [
    {
     "data": {
      "text/html": [
       "<div>\n",
       "<style scoped>\n",
       "    .dataframe tbody tr th:only-of-type {\n",
       "        vertical-align: middle;\n",
       "    }\n",
       "\n",
       "    .dataframe tbody tr th {\n",
       "        vertical-align: top;\n",
       "    }\n",
       "\n",
       "    .dataframe thead th {\n",
       "        text-align: right;\n",
       "    }\n",
       "</style>\n",
       "<table border=\"1\" class=\"dataframe\">\n",
       "  <thead>\n",
       "    <tr style=\"text-align: right;\">\n",
       "      <th></th>\n",
       "      <th>primary</th>\n",
       "      <th>sigma</th>\n",
       "      <th>backup</th>\n",
       "      <th>prediction</th>\n",
       "      <th>residual</th>\n",
       "      <th>neighborResidual</th>\n",
       "      <th>goodPts</th>\n",
       "      <th>neighborTrue</th>\n",
       "    </tr>\n",
       "    <tr>\n",
       "      <th>time</th>\n",
       "      <th></th>\n",
       "      <th></th>\n",
       "      <th></th>\n",
       "      <th></th>\n",
       "      <th></th>\n",
       "      <th></th>\n",
       "      <th></th>\n",
       "      <th></th>\n",
       "    </tr>\n",
       "  </thead>\n",
       "  <tbody>\n",
       "    <tr>\n",
       "      <th>2015-11-02 15:18:00</th>\n",
       "      <td>0.238061</td>\n",
       "      <td>-0.132471</td>\n",
       "      <td>0.420703</td>\n",
       "      <td>0.480461</td>\n",
       "      <td>-0.241759</td>\n",
       "      <td>-0.320489</td>\n",
       "      <td>1</td>\n",
       "      <td>1</td>\n",
       "    </tr>\n",
       "    <tr>\n",
       "      <th>2015-09-19 11:30:00</th>\n",
       "      <td>-0.900895</td>\n",
       "      <td>-0.132471</td>\n",
       "      <td>-0.962821</td>\n",
       "      <td>-0.924723</td>\n",
       "      <td>-0.227574</td>\n",
       "      <td>-0.227306</td>\n",
       "      <td>1</td>\n",
       "      <td>1</td>\n",
       "    </tr>\n",
       "    <tr>\n",
       "      <th>2015-11-17 16:30:00</th>\n",
       "      <td>1.372485</td>\n",
       "      <td>-0.132471</td>\n",
       "      <td>1.757693</td>\n",
       "      <td>1.528802</td>\n",
       "      <td>0.193243</td>\n",
       "      <td>0.672104</td>\n",
       "      <td>1</td>\n",
       "      <td>1</td>\n",
       "    </tr>\n",
       "    <tr>\n",
       "      <th>2017-07-20 07:18:00</th>\n",
       "      <td>-0.219636</td>\n",
       "      <td>-0.132471</td>\n",
       "      <td>-0.180673</td>\n",
       "      <td>-0.027994</td>\n",
       "      <td>-0.307955</td>\n",
       "      <td>-0.361003</td>\n",
       "      <td>1</td>\n",
       "      <td>1</td>\n",
       "    </tr>\n",
       "    <tr>\n",
       "      <th>2017-05-18 20:00:00</th>\n",
       "      <td>0.464643</td>\n",
       "      <td>-0.032538</td>\n",
       "      <td>0.631901</td>\n",
       "      <td>0.706030</td>\n",
       "      <td>-0.175563</td>\n",
       "      <td>-0.170587</td>\n",
       "      <td>1</td>\n",
       "      <td>1</td>\n",
       "    </tr>\n",
       "  </tbody>\n",
       "</table>\n",
       "</div>"
      ],
      "text/plain": [
       "                      primary     sigma    backup  prediction  residual  \\\n",
       "time                                                                      \n",
       "2015-11-02 15:18:00  0.238061 -0.132471  0.420703    0.480461 -0.241759   \n",
       "2015-09-19 11:30:00 -0.900895 -0.132471 -0.962821   -0.924723 -0.227574   \n",
       "2015-11-17 16:30:00  1.372485 -0.132471  1.757693    1.528802  0.193243   \n",
       "2017-07-20 07:18:00 -0.219636 -0.132471 -0.180673   -0.027994 -0.307955   \n",
       "2017-05-18 20:00:00  0.464643 -0.032538  0.631901    0.706030 -0.175563   \n",
       "\n",
       "                     neighborResidual  goodPts  neighborTrue  \n",
       "time                                                          \n",
       "2015-11-02 15:18:00         -0.320489        1             1  \n",
       "2015-09-19 11:30:00         -0.227306        1             1  \n",
       "2015-11-17 16:30:00          0.672104        1             1  \n",
       "2017-07-20 07:18:00         -0.361003        1             1  \n",
       "2017-05-18 20:00:00         -0.170587        1             1  "
      ]
     },
     "execution_count": 18,
     "metadata": {},
     "output_type": "execute_result"
    }
   ],
   "source": [
    "cmTrainRand=shuffle(cmTrainScaled)\n",
    "cmTestRand=shuffle(cmTestScaled)\n",
    "cmTestRand.head()"
   ]
  },
  {
   "cell_type": "code",
   "execution_count": 19,
   "metadata": {},
   "outputs": [],
   "source": [
    "featureTrain=cmTrainRand.loc[:,['primary','sigma','backup','prediction','residual']]\n",
    "featureTest=cmTestRand.loc[:,['primary','sigma','backup','prediction','residual']]\n",
    "\n",
    "targetTrain=cmTrainRand.loc[:,['goodPts']]\n",
    "targetTest=cmTestRand.loc[:,['goodPts']]\n",
    "\n",
    "predictFeatures = cmTestScaled.loc[:,['primary','sigma','backup','prediction','residual']]"
   ]
  },
  {
   "cell_type": "markdown",
   "metadata": {},
   "source": [
    "Now lets run the NN model function to fit the model and assess performance"
   ]
  },
  {
   "cell_type": "code",
   "execution_count": 20,
   "metadata": {},
   "outputs": [
    {
     "name": "stdout",
     "output_type": "stream",
     "text": [
      "Train on 550665 samples, validate on 223835 samples\n",
      "Epoch 1/15\n",
      "550665/550665 [==============================] - 16s 30us/step - loss: 0.0990 - accuracy: 0.9788 - val_loss: 0.0380 - val_accuracy: 0.9928\n",
      "Epoch 2/15\n",
      "550665/550665 [==============================] - 16s 28us/step - loss: 0.0761 - accuracy: 0.9841 - val_loss: 0.0308 - val_accuracy: 0.9956\n",
      "Epoch 3/15\n",
      "550665/550665 [==============================] - 15s 27us/step - loss: 0.0745 - accuracy: 0.9846 - val_loss: 0.0298 - val_accuracy: 0.9958\n",
      "Epoch 4/15\n",
      "550665/550665 [==============================] - 15s 28us/step - loss: 0.0738 - accuracy: 0.9847 - val_loss: 0.0278 - val_accuracy: 0.9962\n",
      "Epoch 5/15\n",
      "550665/550665 [==============================] - 15s 27us/step - loss: 0.0732 - accuracy: 0.9847 - val_loss: 0.0254 - val_accuracy: 0.9963\n",
      "Epoch 6/15\n",
      "550665/550665 [==============================] - 15s 28us/step - loss: 0.0727 - accuracy: 0.9847 - val_loss: 0.0272 - val_accuracy: 0.9962\n",
      "Epoch 7/15\n",
      "550665/550665 [==============================] - 16s 29us/step - loss: 0.0723 - accuracy: 0.9847 - val_loss: 0.0288 - val_accuracy: 0.9963\n",
      "Epoch 8/15\n",
      "550665/550665 [==============================] - 15s 27us/step - loss: 0.0719 - accuracy: 0.9847 - val_loss: 0.0275 - val_accuracy: 0.9965\n",
      "Epoch 9/15\n",
      "550665/550665 [==============================] - 15s 28us/step - loss: 0.0717 - accuracy: 0.9848 - val_loss: 0.0270 - val_accuracy: 0.9964\n",
      "Epoch 10/15\n",
      "550665/550665 [==============================] - 16s 28us/step - loss: 0.0717 - accuracy: 0.9848 - val_loss: 0.0268 - val_accuracy: 0.9965\n",
      "Epoch 11/15\n",
      "550665/550665 [==============================] - 15s 28us/step - loss: 0.0716 - accuracy: 0.9847 - val_loss: 0.0267 - val_accuracy: 0.9963\n",
      "Epoch 12/15\n",
      "550665/550665 [==============================] - 15s 28us/step - loss: 0.0714 - accuracy: 0.9847 - val_loss: 0.0248 - val_accuracy: 0.9964\n",
      "Epoch 13/15\n",
      "550665/550665 [==============================] - 15s 27us/step - loss: 0.0713 - accuracy: 0.9847 - val_loss: 0.0260 - val_accuracy: 0.9966\n",
      "Epoch 14/15\n",
      "550665/550665 [==============================] - 15s 27us/step - loss: 0.0711 - accuracy: 0.9847 - val_loss: 0.0256 - val_accuracy: 0.9963\n",
      "Epoch 15/15\n",
      "550665/550665 [==============================] - 15s 27us/step - loss: 0.0709 - accuracy: 0.9848 - val_loss: 0.0271 - val_accuracy: 0.9966\n",
      "223835/223835 [==============================] - 8s 35us/step\n"
     ]
    },
    {
     "data": {
      "image/png": "[encoded data removed]",
      "text/plain": [
       "<Figure size 432x288 with 1 Axes>"
      ]
     },
     "metadata": {
      "needs_background": "light"
     },
     "output_type": "display_data"
    },
    {
     "name": "stdout",
     "output_type": "stream",
     "text": [
      "Normalized confusion matrix\n",
      "[[0.89 0.11]\n",
      " [0.01 0.99]]\n",
      "total accuracy = 0.9910\n"
     ]
    },
    {
     "data": {
      "image/png": "[encoded data removed]",
      "text/plain": [
       "<Figure size 432x288 with 2 Axes>"
      ]
     },
     "metadata": {
      "needs_background": "light"
     },
     "output_type": "display_data"
    }
   ],
   "source": [
    "epochCount = 15\n",
    "batchCount = 128\n",
    "classThreshold = .90\n",
    "numFeatures = 5\n",
    "modelOut = runNNmodel(featureTrain, targetTrain, featureTest, targetTest, predictFeatures, \n",
    "               epochCount, batchCount, classThreshold, numFeatures)"
   ]
  },
  {
   "cell_type": "markdown",
   "metadata": {},
   "source": [
    "I am now going to try to first balance the data sets to difference y/n percentages, since right now it is highly skewed towards y cases, which might be reducing the n accuracy\n",
    "\n",
    "For more information on other ways to do this see: https://www.kaggle.com/rafjaa/resampling-strategies-for-imbalanced-datasets"
   ]
  },
  {
   "cell_type": "code",
   "execution_count": 21,
   "metadata": {},
   "outputs": [],
   "source": [
    "#First lets try doing 75% y and 25% no - randomly undersampling the y cases.\n",
    "\n",
    "#What is the fraction of no that we want\n",
    "fractionNo = 0.25\n",
    "\n",
    "#What is the number of yes points we need to have given that No fraction\n",
    "numYes = int(noTrainData * ((1-fractionNo) // fractionNo))\n",
    "\n",
    "# Divide by class\n",
    "class_0 = cmTrainRand[cmTrainRand['goodPts'] == 0]\n",
    "class_1 = cmTrainRand[cmTrainRand['goodPts'] == 1]"
   ]
  },
  {
   "cell_type": "code",
   "execution_count": 22,
   "metadata": {},
   "outputs": [
    {
     "name": "stdout",
     "output_type": "stream",
     "text": [
      "Random under-sampling:\n",
      "1    74073\n",
      "0    24691\n",
      "Name: goodPts, dtype: int64\n"
     ]
    }
   ],
   "source": [
    "#Now resample the yes or 1s to be 75% of total training data\n",
    "class_1_resample = class_1.sample(numYes)\n",
    "cmTrainResample = pd.concat([class_1_resample, class_0], axis=0)\n",
    "\n",
    "print('Random under-sampling:')\n",
    "print(cmTrainResample.goodPts.value_counts())"
   ]
  },
  {
   "cell_type": "markdown",
   "metadata": {},
   "source": [
    "Now we are going to re-shuffle the data and then re run the NN model, validating on the same data set to see if there is any change in performance"
   ]
  },
  {
   "cell_type": "code",
   "execution_count": 23,
   "metadata": {},
   "outputs": [],
   "source": [
    "cmTrainRandResample=shuffle(cmTrainResample)\n",
    "\n",
    "featureTrain=cmTrainRandResample.loc[:,['primary','sigma','backup','prediction','residual']]\n",
    "featureTest=cmTestRand.loc[:,['primary','sigma','backup','prediction','residual']]\n",
    "\n",
    "targetTrain=cmTrainRandResample.loc[:,['goodPts']]\n",
    "targetTest=cmTestRand.loc[:,['goodPts']]\n",
    "\n",
    "predictFeatures = cmTestScaled.loc[:,['primary','sigma','backup','prediction','residual']]"
   ]
  },
  {
   "cell_type": "markdown",
   "metadata": {},
   "source": [
    "Run the same keras NN as before but with the resampled data"
   ]
  },
  {
   "cell_type": "code",
   "execution_count": 24,
   "metadata": {},
   "outputs": [
    {
     "name": "stdout",
     "output_type": "stream",
     "text": [
      "Train on 98764 samples, validate on 223835 samples\n",
      "Epoch 1/15\n",
      "98764/98764 [==============================] - 11s 111us/step - loss: 0.2978 - accuracy: 0.9036 - val_loss: 0.1192 - val_accuracy: 0.9923\n",
      "Epoch 2/15\n",
      "98764/98764 [==============================] - 11s 109us/step - loss: 0.2636 - accuracy: 0.9128 - val_loss: 0.1068 - val_accuracy: 0.9948\n",
      "Epoch 3/15\n",
      "98764/98764 [==============================] - 11s 116us/step - loss: 0.2569 - accuracy: 0.9145 - val_loss: 0.1099 - val_accuracy: 0.9942\n",
      "Epoch 4/15\n",
      "98764/98764 [==============================] - 10s 104us/step - loss: 0.2525 - accuracy: 0.9160 - val_loss: 0.0954 - val_accuracy: 0.9952\n",
      "Epoch 5/15\n",
      "98764/98764 [==============================] - 10s 104us/step - loss: 0.2493 - accuracy: 0.9163 - val_loss: 0.1045 - val_accuracy: 0.9956\n",
      "Epoch 6/15\n",
      "98764/98764 [==============================] - 10s 106us/step - loss: 0.2468 - accuracy: 0.9164 - val_loss: 0.1008 - val_accuracy: 0.9949\n",
      "Epoch 7/15\n",
      "98764/98764 [==============================] - 10s 97us/step - loss: 0.2449 - accuracy: 0.9166 - val_loss: 0.1089 - val_accuracy: 0.9949\n",
      "Epoch 8/15\n",
      "98764/98764 [==============================] - 11s 106us/step - loss: 0.2434 - accuracy: 0.9167 - val_loss: 0.1074 - val_accuracy: 0.9939\n",
      "Epoch 9/15\n",
      "98764/98764 [==============================] - 10s 96us/step - loss: 0.2423 - accuracy: 0.9169 - val_loss: 0.0747 - val_accuracy: 0.9958\n",
      "Epoch 10/15\n",
      "98764/98764 [==============================] - 10s 97us/step - loss: 0.2410 - accuracy: 0.9170 - val_loss: 0.0934 - val_accuracy: 0.9943\n",
      "Epoch 11/15\n",
      "98764/98764 [==============================] - 10s 102us/step - loss: 0.2399 - accuracy: 0.9172 - val_loss: 0.1027 - val_accuracy: 0.9948\n",
      "Epoch 12/15\n",
      "98764/98764 [==============================] - 10s 100us/step - loss: 0.2385 - accuracy: 0.9173 - val_loss: 0.1077 - val_accuracy: 0.9935\n",
      "Epoch 13/15\n",
      "98764/98764 [==============================] - 10s 98us/step - loss: 0.2374 - accuracy: 0.9174 - val_loss: 0.0746 - val_accuracy: 0.9954\n",
      "Epoch 14/15\n",
      "98764/98764 [==============================] - 11s 112us/step - loss: 0.2366 - accuracy: 0.9175 - val_loss: 0.1056 - val_accuracy: 0.9942\n",
      "Epoch 15/15\n",
      "98764/98764 [==============================] - 11s 113us/step - loss: 0.2356 - accuracy: 0.9176 - val_loss: 0.0929 - val_accuracy: 0.9956\n",
      "223835/223835 [==============================] - 8s 36us/step\n"
     ]
    },
    {
     "data": {
      "image/png": "[encoded data removed]",
      "text/plain": [
       "<Figure size 432x288 with 1 Axes>"
      ]
     },
     "metadata": {
      "needs_background": "light"
     },
     "output_type": "display_data"
    },
    {
     "name": "stdout",
     "output_type": "stream",
     "text": [
      "Normalized confusion matrix\n",
      "[[0.88 0.12]\n",
      " [0.   1.  ]]\n",
      "total accuracy = 0.9956\n"
     ]
    },
    {
     "data": {
      "image/png": "[encoded data removed]",
      "text/plain": [
       "<Figure size 432x288 with 2 Axes>"
      ]
     },
     "metadata": {
      "needs_background": "light"
     },
     "output_type": "display_data"
    }
   ],
   "source": [
    "epochCount = 15\n",
    "batchCount = 64\n",
    "classThreshold = .5\n",
    "numFeatures = 5\n",
    "modelOutBalanced = runNNmodel(featureTrain, targetTrain, featureTest, targetTest, predictFeatures, \n",
    "               epochCount, batchCount, classThreshold, numFeatures)"
   ]
  },
  {
   "cell_type": "markdown",
   "metadata": {},
   "source": [
    "Try running a new model with 7 features, adding in the neighbor residual and boolean variables"
   ]
  },
  {
   "cell_type": "code",
   "execution_count": 7,
   "metadata": {},
   "outputs": [],
   "source": [
    "cmTrainRandResample=shuffle(cmTrainResample)\n",
    "\n",
    "featureTrain=cmTrainRandResample.loc[:,['primary','sigma','backup','prediction','residual','neighborResidual','neighborTrue']]\n",
    "featureTest=cmTestRand.loc[:,['primary','sigma','backup','prediction','residual','neighborResidual','neighborTrue']]\n",
    "\n",
    "targetTrain=cmTrainRandResample.loc[:,['goodPts']]\n",
    "targetTest=cmTestRand.loc[:,['goodPts']]\n",
    "\n",
    "predictFeatures = cmTestScaled.loc[:,['primary','sigma','backup','prediction','residual','neighborResidual','neighborTrue']]"
   ]
  },
  {
   "cell_type": "code",
   "execution_count": 16,
   "metadata": {},
   "outputs": [
    {
     "name": "stdout",
     "output_type": "stream",
     "text": [
      "Train on 98764 samples, validate on 223835 samples\n",
      "Epoch 1/25\n",
      "98764/98764 [==============================] - 11s 108us/step - loss: 0.2942 - accuracy: 0.8970 - val_loss: 0.1445 - val_accuracy: 0.9862\n",
      "Epoch 2/25\n",
      "98764/98764 [==============================] - 10s 104us/step - loss: 0.2562 - accuracy: 0.9121 - val_loss: 0.1086 - val_accuracy: 0.9883\n",
      "Epoch 3/25\n",
      "98764/98764 [==============================] - 10s 103us/step - loss: 0.2491 - accuracy: 0.9141 - val_loss: 0.1119 - val_accuracy: 0.9875\n",
      "Epoch 4/25\n",
      "98764/98764 [==============================] - 10s 103us/step - loss: 0.2440 - accuracy: 0.9147 - val_loss: 0.1343 - val_accuracy: 0.9852\n",
      "Epoch 5/25\n",
      "98764/98764 [==============================] - 10s 98us/step - loss: 0.2395 - accuracy: 0.9152 - val_loss: 0.1124 - val_accuracy: 0.9887\n",
      "Epoch 6/25\n",
      "98764/98764 [==============================] - 10s 96us/step - loss: 0.2360 - accuracy: 0.9154 - val_loss: 0.1076 - val_accuracy: 0.9893\n",
      "Epoch 7/25\n",
      "98764/98764 [==============================] - 10s 99us/step - loss: 0.2331 - accuracy: 0.9161 - val_loss: 0.0855 - val_accuracy: 0.9917\n",
      "Epoch 8/25\n",
      "98764/98764 [==============================] - 10s 97us/step - loss: 0.2302 - accuracy: 0.9166 - val_loss: 0.0783 - val_accuracy: 0.9917\n",
      "Epoch 9/25\n",
      "98764/98764 [==============================] - 11s 108us/step - loss: 0.2285 - accuracy: 0.9171 - val_loss: 0.0975 - val_accuracy: 0.9902\n",
      "Epoch 10/25\n",
      "98764/98764 [==============================] - 10s 99us/step - loss: 0.2264 - accuracy: 0.9172 - val_loss: 0.0979 - val_accuracy: 0.9896\n",
      "Epoch 11/25\n",
      "98764/98764 [==============================] - 11s 107us/step - loss: 0.2247 - accuracy: 0.9176 - val_loss: 0.0904 - val_accuracy: 0.9891\n",
      "Epoch 12/25\n",
      "98764/98764 [==============================] - 10s 104us/step - loss: 0.2232 - accuracy: 0.9179 - val_loss: 0.1414 - val_accuracy: 0.9767\n",
      "Epoch 13/25\n",
      "98764/98764 [==============================] - 10s 100us/step - loss: 0.2219 - accuracy: 0.9182 - val_loss: 0.0990 - val_accuracy: 0.9898\n",
      "Epoch 14/25\n",
      "98764/98764 [==============================] - 11s 110us/step - loss: 0.2211 - accuracy: 0.9184 - val_loss: 0.0900 - val_accuracy: 0.9899\n",
      "Epoch 15/25\n",
      "98764/98764 [==============================] - 10s 102us/step - loss: 0.2204 - accuracy: 0.9188 - val_loss: 0.1033 - val_accuracy: 0.9882\n",
      "Epoch 16/25\n",
      "98764/98764 [==============================] - 10s 99us/step - loss: 0.2195 - accuracy: 0.9190 - val_loss: 0.0866 - val_accuracy: 0.9893\n",
      "Epoch 17/25\n",
      "98764/98764 [==============================] - 10s 98us/step - loss: 0.2189 - accuracy: 0.9191 - val_loss: 0.1028 - val_accuracy: 0.9860\n",
      "Epoch 18/25\n",
      "98764/98764 [==============================] - 10s 102us/step - loss: 0.2183 - accuracy: 0.9196 - val_loss: 0.1153 - val_accuracy: 0.9847\n",
      "Epoch 19/25\n",
      "98764/98764 [==============================] - 10s 98us/step - loss: 0.2178 - accuracy: 0.9199 - val_loss: 0.0820 - val_accuracy: 0.9896\n",
      "Epoch 20/25\n",
      "98764/98764 [==============================] - 11s 107us/step - loss: 0.2174 - accuracy: 0.9202 - val_loss: 0.1108 - val_accuracy: 0.9847\n",
      "Epoch 21/25\n",
      "98764/98764 [==============================] - 10s 102us/step - loss: 0.2170 - accuracy: 0.9204 - val_loss: 0.1136 - val_accuracy: 0.9849\n",
      "Epoch 22/25\n",
      "98764/98764 [==============================] - 10s 100us/step - loss: 0.2167 - accuracy: 0.9211 - val_loss: 0.0923 - val_accuracy: 0.9885\n",
      "Epoch 23/25\n",
      "98764/98764 [==============================] - 10s 100us/step - loss: 0.2163 - accuracy: 0.9209 - val_loss: 0.1523 - val_accuracy: 0.9695\n",
      "Epoch 24/25\n",
      "98764/98764 [==============================] - 11s 110us/step - loss: 0.2159 - accuracy: 0.9212 - val_loss: 0.0933 - val_accuracy: 0.9893\n",
      "Epoch 25/25\n",
      "98764/98764 [==============================] - 10s 101us/step - loss: 0.2159 - accuracy: 0.9213 - val_loss: 0.0862 - val_accuracy: 0.9885\n",
      "223835/223835 [==============================] - 8s 37us/step\n"
     ]
    },
    {
     "data": {
      "image/png": "[encoded data removed]",
      "text/plain": [
       "<Figure size 432x288 with 1 Axes>"
      ]
     },
     "metadata": {
      "needs_background": "light"
     },
     "output_type": "display_data"
    },
    {
     "name": "stdout",
     "output_type": "stream",
     "text": [
      "Normalized confusion matrix\n",
      "[[0.85 0.15]\n",
      " [0.01 0.99]]\n",
      "total accuracy = 0.9885\n"
     ]
    },
    {
     "data": {
      "image/png": "[encoded data removed]",
      "text/plain": [
       "<Figure size 432x288 with 2 Axes>"
      ]
     },
     "metadata": {
      "needs_background": "light"
     },
     "output_type": "display_data"
    }
   ],
   "source": [
    "epochCount = 25\n",
    "batchCount = 64\n",
    "classThreshold = .5\n",
    "numFeatures = 7\n",
    "modelOutWithNeighbor = runNNmodel(featureTrain, targetTrain, featureTest, targetTest, predictFeatures, \n",
    "               epochCount, batchCount, classThreshold, numFeatures)"
   ]
  },
  {
   "cell_type": "code",
   "execution_count": 19,
   "metadata": {},
   "outputs": [],
   "source": [
    "#import dill\n",
    "#dill.load_session('notebook_env.db')\n",
    "#dill.dump_session('notebook_env.db')"
   ]
  },
  {
   "cell_type": "code",
   "execution_count": 18,
   "metadata": {},
   "outputs": [
    {
     "name": "stdout",
     "output_type": "stream",
     "text": [
      "Normalized confusion matrix\n",
      "[[0.84 0.16]\n",
      " [0.   1.  ]]\n",
      "total accuracy = 0.9921\n"
     ]
    },
    {
     "data": {
      "image/png": "[encoded data removed]",
      "text/plain": [
       "<Figure size 432x288 with 2 Axes>"
      ]
     },
     "metadata": {
      "needs_background": "light"
     },
     "output_type": "display_data"
    }
   ],
   "source": [
    "#This is for testing different thresholds with the results of the model\n",
    "\n",
    "classThreshold =.4\n",
    "modelPredThresh=1*(modelOutWithNeighbor['modelPrediction'] >= classThreshold)\n",
    "\n",
    "# Compute confusion matrix\n",
    "cnfMatrix = confusion_matrix(modelOutWithNeighbor['goodPts'] , modelPredThresh)\n",
    "np.set_printoptions(precision=2)\n",
    "\n",
    "# Plot normalized confusion matrix\n",
    "classNames = ['bad data point','good data point']\n",
    "plotConfusionMatrix(cnfMatrix, classes=classNames,normalize=True,\n",
    "                    title='Confusion matrix, with normalization')\n",
    "plt.show()"
   ]
  },
  {
   "cell_type": "markdown",
   "metadata": {},
   "source": [
    "Now lets try using some simpler models from scikit learn, will try logistic regression and random forrest"
   ]
  },
  {
   "cell_type": "code",
   "execution_count": null,
   "metadata": {},
   "outputs": [],
   "source": [
    "#This is to prep targets for fitting in scikit-learn\n",
    "targetTrainIn=np.ravel(targetTrain)\n",
    "targetTestIn=np.ravel(targetTest)"
   ]
  },
  {
   "cell_type": "code",
   "execution_count": null,
   "metadata": {},
   "outputs": [],
   "source": [
    "%%time\n",
    "# Fitting a Logistic Regression\n",
    "from sklearn.linear_model import LogisticRegression\n",
    "clf = LogisticRegression()\n",
    "clf.fit(featureTrain, targetTrainIn)"
   ]
  },
  {
   "cell_type": "code",
   "execution_count": null,
   "metadata": {},
   "outputs": [],
   "source": [
    "# prediction on the training dataset\n",
    "trainAccuracy = 1 - np.sum(np.abs(clf.predict(featureTrain) - targetTrainIn))/len(targetTrainIn)\n",
    "print('Accuracy on the train dataset is '+ str(trainAccuracy))"
   ]
  },
  {
   "cell_type": "code",
   "execution_count": null,
   "metadata": {},
   "outputs": [],
   "source": [
    "# prediction on the testing dataset\n",
    "testAccuracy = 1 - np.sum(np.abs(clf.predict(featureTest) - targetTestIn))/len(targetTestIn)\n",
    "print('Accuracy on the test dataset is '+ str(testAccuracy))"
   ]
  },
  {
   "cell_type": "code",
   "execution_count": null,
   "metadata": {},
   "outputs": [],
   "source": [
    "#Generate predictions for the test period\n",
    "modelPrediction = model.predict(predictFe, batch_size=32)"
   ]
  },
  {
   "cell_type": "code",
   "execution_count": null,
   "metadata": {},
   "outputs": [],
   "source": [
    "predictFeatures.head()"
   ]
  },
  {
   "cell_type": "code",
   "execution_count": null,
   "metadata": {},
   "outputs": [],
   "source": [
    "modelOut=predictFeatures\n",
    "modelOut['modelPrediction']=modelPrediction\n",
    "modelOut['InvModelPrediction']=1-modelPrediction\n",
    "modelOut['goodPts'] = cmTest.loc[:,['goodPts']]"
   ]
  },
  {
   "cell_type": "code",
   "execution_count": null,
   "metadata": {},
   "outputs": [],
   "source": [
    "modelOut.head()"
   ]
  },
  {
   "cell_type": "code",
   "execution_count": null,
   "metadata": {},
   "outputs": [],
   "source": [
    "forPlot=modelOut.loc['2015-01-01 00:00:00':'2015-04-01 00:00:00',:]\n",
    "forPlot.head()"
   ]
  },
  {
   "cell_type": "code",
   "execution_count": null,
   "metadata": {},
   "outputs": [],
   "source": [
    "plotExample = forPlot.hvplot.scatter( 'time','primary',c='InvModelPrediction',cmap = 'viridis', colorbar = True, size = 10)\n"
   ]
  },
  {
   "cell_type": "code",
   "execution_count": null,
   "metadata": {},
   "outputs": [],
   "source": []
  }
 ],
 "metadata": {
  "kernelspec": {
   "display_name": "wlai_kernel",
   "language": "python",
   "name": "wlai_kernel"
  },
  "language_info": {
   "codemirror_mode": {
    "name": "ipython",
    "version": 3
   },
   "file_extension": ".py",
   "mimetype": "text/x-python",
   "name": "python",
   "nbconvert_exporter": "python",
   "pygments_lexer": "ipython3",
   "version": "3.6.7"
  }
 },
 "nbformat": 4,
 "nbformat_minor": 4
}
